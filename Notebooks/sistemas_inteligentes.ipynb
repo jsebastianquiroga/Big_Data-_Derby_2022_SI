{
  "nbformat": 4,
  "nbformat_minor": 0,
  "metadata": {
    "colab": {
      "provenance": [],
      "collapsed_sections": [
        "m4cmOojch_to",
        "gKiIShYiXv1C",
        "ydlq9_vRaUdQ",
        "yfxtbQ_2ZrWL"
      ],
      "include_colab_link": true
    },
    "kernelspec": {
      "name": "python3",
      "display_name": "Python 3"
    },
    "language_info": {
      "name": "python"
    }
  },
  "cells": [
    {
      "cell_type": "markdown",
      "metadata": {
        "id": "view-in-github",
        "colab_type": "text"
      },
      "source": [
        "<a href=\"https://colab.research.google.com/github/jsebastianquiroga/Big_Data_Derby_2022_SI/blob/main/Notebooks/sistemas_inteligentes.ipynb\" target=\"_parent\"><img src=\"https://colab.research.google.com/assets/colab-badge.svg\" alt=\"Open In Colab\"/></a>"
      ]
    },
    {
      "cell_type": "markdown",
      "source": [
        "# <img style=\"float: center; padding-right: 10px;\" src=\"https://www.pikpng.com/pngl/b/467-4670553_universidad-javeriana-esslingen-am-neckar-clipart.png\" width=\"100\" height=\"150\">\n",
        "\n",
        "\n",
        "\n",
        "\n",
        "***Integrantes:***\n",
        "\n",
        "**Joshep Andersson Blanco Reyes**\n",
        "\n",
        "**Leonardo García Diaz**\n",
        "\n",
        "**Juan Sebastián Quiroga Bernal**"
      ],
      "metadata": {
        "id": "nzIeTlLbgD6s"
      }
    },
    {
      "cell_type": "markdown",
      "source": [
        "# <img style=\"float: left; padding-right: 10px;\" src=\"https://images7.alphacoders.com/671/671791.jpg\"  height=\"300\">\n",
        "\n",
        "\n"
      ],
      "metadata": {
        "id": "JZqrxjTEiW7Z"
      }
    },
    {
      "cell_type": "markdown",
      "source": [
        "**Este colab puede ser ejecutado por cualquier usuario sin necesidad de cargar los archivos al entorno, debido a que la conexión está configurada para acceder a los archivos desde la nube**.\n"
      ],
      "metadata": {
        "id": "C9K1WTgR-UoC"
      }
    },
    {
      "cell_type": "markdown",
      "source": [
        "<h1> <strong>Big Data Derby 2022.</strong></h1> \n",
        "\n",
        "Los Derbies como se conocen, es un tipo de carreras de caballos, inventada alrededor de 1780 en Inglaterra, cuyos participantes son los jinetes y sus caballos, los cuales deben ser mayores a 3 años.\n",
        "\n",
        "\n",
        "\n",
        "En esta ocasión se tomará como fuente de información una competencia de Kaggle , nombrada Big Data Derby 2022 (https://www.kaggle.com/competitions/big-data-derby-2022/overview), en donde se relacionan observaciones de 2000 carreras entre 2019-01 al 2020-01, de tres de sus principales circuitos AQU -Aqueduct, BEL - Belmont, SAR – Saratoga. \n",
        "\n",
        "\n",
        "El objetivo de este estudio es analizar las carreras de caballos, con el fin de desarrollar diferentes modelos, que permitan predecir si un caballo terminara entre los 3 primeros para intentar predecir las apuestas que aumentaran el retorno de inversión.\n",
        "\n",
        "\n",
        "\n",
        "Su trabajo ayudará a los propietarios, entrenadores y veterinarios de caballos de carreras a comprender mejor cómo encajan el rendimiento y el bienestar de los equinos. Con un mejor análisis de datos. \n",
        "\n",
        "El presente notebook, estará dividido en divido en las siguientes partes:\n",
        "<ol>\n",
        "<li> Analisis exploratorio. </li>\n",
        "<li> Modelo ingenuo: Sistema experto. </li>\n",
        "<li> Modelo ingenuo: Sistema Rede Neuronal I. </li>\n",
        "<li> Modelo ingenuo: Sistema Rede Neuronal II. </li>\n",
        "<li> Conclusiones: Modelos ingenuos. </li>\n",
        "<li> Algoritmo genetico: Selección de variables. </li>\n",
        "<li> Algoritmo genetico: Selección de hiper-parametos con los features seleccionados. </li>\n",
        "<li> Red Neuronal entrenada con algoritmo geneticos.</li>\n",
        "<li> Conclusiones.</li> \n",
        "</ol>\n",
        "\n",
        "***"
      ],
      "metadata": {
        "id": "msRcJntlh-dN"
      }
    },
    {
      "cell_type": "markdown",
      "source": [
        "# <h1><strong> 1. Analisis exploratorio. <h1><strong>"
      ],
      "metadata": {
        "id": "jmI49iKsf4nJ"
      }
    },
    {
      "cell_type": "code",
      "execution_count": 1,
      "metadata": {
        "id": "nBkwxF9JY0KY"
      },
      "outputs": [],
      "source": [
        "\n",
        "# Conexion a gdrive\n",
        "from pydrive.auth import GoogleAuth\n",
        "from google.colab import drive\n",
        "from pydrive.drive import GoogleDrive\n",
        "from google.colab import auth\n",
        "import pandas as pd\n",
        "from oauth2client.client import GoogleCredentials\n",
        "import pandas as pd\n",
        "import numpy as np\n",
        "import matplotlib.pyplot as plt\n",
        "from sklearn.metrics import confusion_matrix\n",
        "import seaborn as sns"
      ]
    },
    {
      "cell_type": "code",
      "source": [
        "auth.authenticate_user()\n",
        "gauth = GoogleAuth()\n",
        "gauth.credentials = GoogleCredentials.get_application_default()\n",
        "drive = GoogleDrive(gauth)\n",
        "\n",
        "nyra_2019_complete = '1AAshxhslPjhxg-UC86f9Z97s3W81nayF' #<-- Key del file en drive (nyra_2019_complete.csv 610 mb)\n",
        "# nyra_race_table    = '1KtYQEvt4pboSqs7bO6jfdCHADo9PMzo9'#<-- Key del file en drive (nyra_race_table.csv 93 kb)\n",
        "# nyra_start_table   = '1LYUx_De3U7TBw6GgqRk6whVzMjuJjSaz'#<-- Key del file en drive (nyra_start_table.csv 722 Kb)\n",
        "# nyra_tracking_table= '15y4AtfLiyop9FWdc0SRaMUs-jKgnOppl'#<-- Key del file en drive (nyra_tracking_table.csv 320,7 mb)\n",
        "\n",
        "\n",
        "download = drive.CreateFile({'id': nyra_2019_complete}) \n",
        "# Download the file to a local disc\n",
        "download.GetContentFile('nyra_2019_complete.csv')\n",
        "dtype_dict = {\"track_id\": object ,\n",
        "              \"race_date\" :object, #will be read with \"parse_dates\" parameter\n",
        "              \"race_number\" : np.int8, \n",
        "              \"program_number\" : object,\n",
        "              \"trakus_index\" : np.int16,  \n",
        "              \"latitude\" : np.float64,\n",
        "              \"longitude\" : np.float64,\n",
        "              \"distance_id\" : np.int16,  \n",
        "              \"course_type\" : object, \n",
        "              \"track_condition\" : object,\n",
        "              \"run_up_distance\" : np.int8,  \n",
        "              \"race_type\" : object, \n",
        "              \"purse\" : np.int32,  \n",
        "              \"post_time\" : np.int16,  \n",
        "              \"weight_carried\" : np.int16,  \n",
        "              \"jockey\" : object, \n",
        "              \"odds\" : np.int16,\n",
        "              \"position_at_finish\":np.int8\n",
        "             }\n",
        "nyra_2019 = pd.read_csv('nyra_2019_complete.csv', header=None,dtype=dtype_dict,parse_dates=[1])\n",
        "nyra_2019.columns= dtype_dict.keys()\n"
      ],
      "metadata": {
        "id": "d0pLaTGRarL3",
        "outputId": "c1cdffe4-be6d-4ec5-812d-0bbe41423514",
        "colab": {
          "base_uri": "https://localhost:8080/"
        }
      },
      "execution_count": 2,
      "outputs": [
        {
          "output_type": "stream",
          "name": "stderr",
          "text": [
            "/usr/local/lib/python3.7/dist-packages/IPython/core/interactiveshell.py:3326: DtypeWarning: Columns (3) have mixed types.Specify dtype option on import or set low_memory=False.\n",
            "  exec(code_obj, self.user_global_ns, self.user_ns)\n"
          ]
        }
      ]
    },
    {
      "cell_type": "markdown",
      "source": [
        "***Diccionario de Variables***\n",
        "\n",
        "<li>track_id - Identificación de 3 caracteres para la pista en la que tuvo lugar la carrera. AQU -Aqueduct, BEL - Belmont, SAR - Saratoga. \n",
        "\n",
        "<li> race_date - Fecha en la que tuvo lugar la carrera. YYYY-MM-DD. \n",
        "\n",
        "<li> race_number - Número de la carrera. \n",
        "\n",
        "<li> program_number - Es el identificador único del caballo en la carrera. \n",
        "\n",
        "<li> trakus_index - El seguimiento de un punto de la lat/long del caballo en la carrera pasado como un número entero. Por lo que podemos decir, se recopila cada 0,25 segundos. </li>\n",
        "\n",
        "<li>latitude- La latitud del caballo en la carrera. \n",
        "\n",
        "<li>Longitude - La longitud del caballo en la carrera. \n",
        "\n",
        "<li>distance_id- Distancia de la carrera en estadios pasados como un número entero. \n",
        "\n",
        "<li>course_type- El recorrido de la carrera pasó como un carácter. M - Hurdle, D - Dirt, O - Outer turf, I - Inner turf, T - turf. \n",
        "\n",
        "<li>track_condition- El estado del recorrido en el que se corrió la carrera se transmite en tres caracteres. YL - Yielding, FM - Firm, SY - Sloppy, GD - Good, FT - Fast, MY - Muddy, SF - Soft. \n",
        "\n",
        "<li>run_up_distance- Distancia en pies desde la puerta hasta el inicio de la carrera. \n",
        "\n",
        "<li>race_type- char - La clasificación de la carrera pasó como cinco caracteres. STK - Stakes, WCL - Waiver Claiming, WMC - Waiver Maiden Claiming, SST - Starter Stakes, SHP - Starter Handicap, CLM - Claiming, STR - Starter Allowance, AOC - Allowance Optionl Claimer, SOC - Starter Optional Claimer, MCL - Maiden Claiming, ALW - Allowance, MSW - Maiden Special Weight. \n",
        "\n",
        "<li>post_time - La hora del día en que comenzó la carrera \n",
        "\n",
        "<li>weight_carried - Un número entero del peso que lleva el caballo en la carrera \n",
        "\n",
        "<li>jockey - Nombre del jockey sobre el caballo en la carrera \n",
        "\n",
        "<li>odds - Probabilidades de ganar la carrera \n",
        "\n",
        "<li>position_at_finish- Un número entero de la posición final del caballo. "
      ],
      "metadata": {
        "id": "qOCQ2kVyTfi_"
      }
    },
    {
      "cell_type": "markdown",
      "source": [
        "Se asigno el formato indicado para cada una de las variables antes mencionadas."
      ],
      "metadata": {
        "id": "azU4ngQ2UYbt"
      }
    },
    {
      "cell_type": "code",
      "source": [
        "nyra_2019.info()\n",
        "nyra_2019.head()"
      ],
      "metadata": {
        "id": "1lGBem1WmFaq",
        "outputId": "86fdf2e9-7319-48c7-fa18-9621a5effa80",
        "colab": {
          "base_uri": "https://localhost:8080/",
          "height": 890
        }
      },
      "execution_count": 3,
      "outputs": [
        {
          "output_type": "stream",
          "name": "stdout",
          "text": [
            "<class 'pandas.core.frame.DataFrame'>\n",
            "RangeIndex: 5228430 entries, 0 to 5228429\n",
            "Data columns (total 18 columns):\n",
            " #   Column              Dtype         \n",
            "---  ------              -----         \n",
            " 0   track_id            object        \n",
            " 1   race_date           datetime64[ns]\n",
            " 2   race_number         int64         \n",
            " 3   program_number      object        \n",
            " 4   trakus_index        int64         \n",
            " 5   latitude            float64       \n",
            " 6   longitude           float64       \n",
            " 7   distance_id         int64         \n",
            " 8   course_type         object        \n",
            " 9   track_condition     object        \n",
            " 10  run_up_distance     int64         \n",
            " 11  race_type           object        \n",
            " 12  purse               float64       \n",
            " 13  post_time           int64         \n",
            " 14  weight_carried      int64         \n",
            " 15  jockey              object        \n",
            " 16  odds                int64         \n",
            " 17  position_at_finish  int64         \n",
            "dtypes: datetime64[ns](1), float64(3), int64(8), object(6)\n",
            "memory usage: 718.0+ MB\n"
          ]
        },
        {
          "output_type": "execute_result",
          "data": {
            "text/plain": [
              "  track_id  race_date  race_number program_number  trakus_index   latitude  \\\n",
              "0      AQU 2019-01-01            9            6              72  40.672902   \n",
              "1      AQU 2019-01-01            9            6              73  40.672946   \n",
              "2      AQU 2019-01-01            9            6              74  40.672990   \n",
              "3      AQU 2019-01-01            9            6              63  40.672510   \n",
              "4      AQU 2019-01-01            9            6              64  40.672553   \n",
              "\n",
              "   longitude  distance_id course_type track_condition  run_up_distance  \\\n",
              "0 -73.827607          600           D             GD                48   \n",
              "1 -73.827587          600           D             GD                48   \n",
              "2 -73.827568          600           D             GD                48   \n",
              "3 -73.827781          600           D             GD                48   \n",
              "4 -73.827762          600           D             GD                48   \n",
              "\n",
              "  race_type    purse  post_time  weight_carried                   jockey  \\\n",
              "0       CLM  25000.0        420             120  Andre Shivnarine Worrie   \n",
              "1       CLM  25000.0        420             120  Andre Shivnarine Worrie   \n",
              "2       CLM  25000.0        420             120  Andre Shivnarine Worrie   \n",
              "3       CLM  25000.0        420             120  Andre Shivnarine Worrie   \n",
              "4       CLM  25000.0        420             120  Andre Shivnarine Worrie   \n",
              "\n",
              "   odds  position_at_finish  \n",
              "0  2090                   8  \n",
              "1  2090                   8  \n",
              "2  2090                   8  \n",
              "3  2090                   8  \n",
              "4  2090                   8  "
            ],
            "text/html": [
              "\n",
              "  <div id=\"df-b4f5b6af-5b3f-418f-9868-215afea95301\">\n",
              "    <div class=\"colab-df-container\">\n",
              "      <div>\n",
              "<style scoped>\n",
              "    .dataframe tbody tr th:only-of-type {\n",
              "        vertical-align: middle;\n",
              "    }\n",
              "\n",
              "    .dataframe tbody tr th {\n",
              "        vertical-align: top;\n",
              "    }\n",
              "\n",
              "    .dataframe thead th {\n",
              "        text-align: right;\n",
              "    }\n",
              "</style>\n",
              "<table border=\"1\" class=\"dataframe\">\n",
              "  <thead>\n",
              "    <tr style=\"text-align: right;\">\n",
              "      <th></th>\n",
              "      <th>track_id</th>\n",
              "      <th>race_date</th>\n",
              "      <th>race_number</th>\n",
              "      <th>program_number</th>\n",
              "      <th>trakus_index</th>\n",
              "      <th>latitude</th>\n",
              "      <th>longitude</th>\n",
              "      <th>distance_id</th>\n",
              "      <th>course_type</th>\n",
              "      <th>track_condition</th>\n",
              "      <th>run_up_distance</th>\n",
              "      <th>race_type</th>\n",
              "      <th>purse</th>\n",
              "      <th>post_time</th>\n",
              "      <th>weight_carried</th>\n",
              "      <th>jockey</th>\n",
              "      <th>odds</th>\n",
              "      <th>position_at_finish</th>\n",
              "    </tr>\n",
              "  </thead>\n",
              "  <tbody>\n",
              "    <tr>\n",
              "      <th>0</th>\n",
              "      <td>AQU</td>\n",
              "      <td>2019-01-01</td>\n",
              "      <td>9</td>\n",
              "      <td>6</td>\n",
              "      <td>72</td>\n",
              "      <td>40.672902</td>\n",
              "      <td>-73.827607</td>\n",
              "      <td>600</td>\n",
              "      <td>D</td>\n",
              "      <td>GD</td>\n",
              "      <td>48</td>\n",
              "      <td>CLM</td>\n",
              "      <td>25000.0</td>\n",
              "      <td>420</td>\n",
              "      <td>120</td>\n",
              "      <td>Andre Shivnarine Worrie</td>\n",
              "      <td>2090</td>\n",
              "      <td>8</td>\n",
              "    </tr>\n",
              "    <tr>\n",
              "      <th>1</th>\n",
              "      <td>AQU</td>\n",
              "      <td>2019-01-01</td>\n",
              "      <td>9</td>\n",
              "      <td>6</td>\n",
              "      <td>73</td>\n",
              "      <td>40.672946</td>\n",
              "      <td>-73.827587</td>\n",
              "      <td>600</td>\n",
              "      <td>D</td>\n",
              "      <td>GD</td>\n",
              "      <td>48</td>\n",
              "      <td>CLM</td>\n",
              "      <td>25000.0</td>\n",
              "      <td>420</td>\n",
              "      <td>120</td>\n",
              "      <td>Andre Shivnarine Worrie</td>\n",
              "      <td>2090</td>\n",
              "      <td>8</td>\n",
              "    </tr>\n",
              "    <tr>\n",
              "      <th>2</th>\n",
              "      <td>AQU</td>\n",
              "      <td>2019-01-01</td>\n",
              "      <td>9</td>\n",
              "      <td>6</td>\n",
              "      <td>74</td>\n",
              "      <td>40.672990</td>\n",
              "      <td>-73.827568</td>\n",
              "      <td>600</td>\n",
              "      <td>D</td>\n",
              "      <td>GD</td>\n",
              "      <td>48</td>\n",
              "      <td>CLM</td>\n",
              "      <td>25000.0</td>\n",
              "      <td>420</td>\n",
              "      <td>120</td>\n",
              "      <td>Andre Shivnarine Worrie</td>\n",
              "      <td>2090</td>\n",
              "      <td>8</td>\n",
              "    </tr>\n",
              "    <tr>\n",
              "      <th>3</th>\n",
              "      <td>AQU</td>\n",
              "      <td>2019-01-01</td>\n",
              "      <td>9</td>\n",
              "      <td>6</td>\n",
              "      <td>63</td>\n",
              "      <td>40.672510</td>\n",
              "      <td>-73.827781</td>\n",
              "      <td>600</td>\n",
              "      <td>D</td>\n",
              "      <td>GD</td>\n",
              "      <td>48</td>\n",
              "      <td>CLM</td>\n",
              "      <td>25000.0</td>\n",
              "      <td>420</td>\n",
              "      <td>120</td>\n",
              "      <td>Andre Shivnarine Worrie</td>\n",
              "      <td>2090</td>\n",
              "      <td>8</td>\n",
              "    </tr>\n",
              "    <tr>\n",
              "      <th>4</th>\n",
              "      <td>AQU</td>\n",
              "      <td>2019-01-01</td>\n",
              "      <td>9</td>\n",
              "      <td>6</td>\n",
              "      <td>64</td>\n",
              "      <td>40.672553</td>\n",
              "      <td>-73.827762</td>\n",
              "      <td>600</td>\n",
              "      <td>D</td>\n",
              "      <td>GD</td>\n",
              "      <td>48</td>\n",
              "      <td>CLM</td>\n",
              "      <td>25000.0</td>\n",
              "      <td>420</td>\n",
              "      <td>120</td>\n",
              "      <td>Andre Shivnarine Worrie</td>\n",
              "      <td>2090</td>\n",
              "      <td>8</td>\n",
              "    </tr>\n",
              "  </tbody>\n",
              "</table>\n",
              "</div>\n",
              "      <button class=\"colab-df-convert\" onclick=\"convertToInteractive('df-b4f5b6af-5b3f-418f-9868-215afea95301')\"\n",
              "              title=\"Convert this dataframe to an interactive table.\"\n",
              "              style=\"display:none;\">\n",
              "        \n",
              "  <svg xmlns=\"http://www.w3.org/2000/svg\" height=\"24px\"viewBox=\"0 0 24 24\"\n",
              "       width=\"24px\">\n",
              "    <path d=\"M0 0h24v24H0V0z\" fill=\"none\"/>\n",
              "    <path d=\"M18.56 5.44l.94 2.06.94-2.06 2.06-.94-2.06-.94-.94-2.06-.94 2.06-2.06.94zm-11 1L8.5 8.5l.94-2.06 2.06-.94-2.06-.94L8.5 2.5l-.94 2.06-2.06.94zm10 10l.94 2.06.94-2.06 2.06-.94-2.06-.94-.94-2.06-.94 2.06-2.06.94z\"/><path d=\"M17.41 7.96l-1.37-1.37c-.4-.4-.92-.59-1.43-.59-.52 0-1.04.2-1.43.59L10.3 9.45l-7.72 7.72c-.78.78-.78 2.05 0 2.83L4 21.41c.39.39.9.59 1.41.59.51 0 1.02-.2 1.41-.59l7.78-7.78 2.81-2.81c.8-.78.8-2.07 0-2.86zM5.41 20L4 18.59l7.72-7.72 1.47 1.35L5.41 20z\"/>\n",
              "  </svg>\n",
              "      </button>\n",
              "      \n",
              "  <style>\n",
              "    .colab-df-container {\n",
              "      display:flex;\n",
              "      flex-wrap:wrap;\n",
              "      gap: 12px;\n",
              "    }\n",
              "\n",
              "    .colab-df-convert {\n",
              "      background-color: #E8F0FE;\n",
              "      border: none;\n",
              "      border-radius: 50%;\n",
              "      cursor: pointer;\n",
              "      display: none;\n",
              "      fill: #1967D2;\n",
              "      height: 32px;\n",
              "      padding: 0 0 0 0;\n",
              "      width: 32px;\n",
              "    }\n",
              "\n",
              "    .colab-df-convert:hover {\n",
              "      background-color: #E2EBFA;\n",
              "      box-shadow: 0px 1px 2px rgba(60, 64, 67, 0.3), 0px 1px 3px 1px rgba(60, 64, 67, 0.15);\n",
              "      fill: #174EA6;\n",
              "    }\n",
              "\n",
              "    [theme=dark] .colab-df-convert {\n",
              "      background-color: #3B4455;\n",
              "      fill: #D2E3FC;\n",
              "    }\n",
              "\n",
              "    [theme=dark] .colab-df-convert:hover {\n",
              "      background-color: #434B5C;\n",
              "      box-shadow: 0px 1px 3px 1px rgba(0, 0, 0, 0.15);\n",
              "      filter: drop-shadow(0px 1px 2px rgba(0, 0, 0, 0.3));\n",
              "      fill: #FFFFFF;\n",
              "    }\n",
              "  </style>\n",
              "\n",
              "      <script>\n",
              "        const buttonEl =\n",
              "          document.querySelector('#df-b4f5b6af-5b3f-418f-9868-215afea95301 button.colab-df-convert');\n",
              "        buttonEl.style.display =\n",
              "          google.colab.kernel.accessAllowed ? 'block' : 'none';\n",
              "\n",
              "        async function convertToInteractive(key) {\n",
              "          const element = document.querySelector('#df-b4f5b6af-5b3f-418f-9868-215afea95301');\n",
              "          const dataTable =\n",
              "            await google.colab.kernel.invokeFunction('convertToInteractive',\n",
              "                                                     [key], {});\n",
              "          if (!dataTable) return;\n",
              "\n",
              "          const docLinkHtml = 'Like what you see? Visit the ' +\n",
              "            '<a target=\"_blank\" href=https://colab.research.google.com/notebooks/data_table.ipynb>data table notebook</a>'\n",
              "            + ' to learn more about interactive tables.';\n",
              "          element.innerHTML = '';\n",
              "          dataTable['output_type'] = 'display_data';\n",
              "          await google.colab.output.renderOutput(dataTable, element);\n",
              "          const docLink = document.createElement('div');\n",
              "          docLink.innerHTML = docLinkHtml;\n",
              "          element.appendChild(docLink);\n",
              "        }\n",
              "      </script>\n",
              "    </div>\n",
              "  </div>\n",
              "  "
            ]
          },
          "metadata": {},
          "execution_count": 3
        }
      ]
    },
    {
      "cell_type": "markdown",
      "source": [
        "Se removerán las variables de trakus_index, latitude, longitude, ya que son información geolocalizada tomada durante la carrera, con el fin de predecir que caballo puede ganar antes de la carrera no tiene relación, ademas se creo una llave única para identificar cada carrera individualmente para un total de 2000 carreras."
      ],
      "metadata": {
        "id": "5yshqEHvzeHM"
      }
    },
    {
      "cell_type": "code",
      "source": [
        "nyra_2019 = nyra_2019.drop(['latitude', 'longitude', 'trakus_index'], axis=1)\n",
        "nyra_2019['unique_id'] = nyra_2019.track_id.astype(str) + '_' + nyra_2019.race_date.astype(str) + '_' + nyra_2019.race_number.astype(str)\n",
        "print(nyra_2019.unique_id.value_counts())\n",
        "nyra_2019"
      ],
      "metadata": {
        "id": "BjDQu1eozttC"
      },
      "execution_count": null,
      "outputs": []
    },
    {
      "cell_type": "code",
      "source": [
        "nyra_2019['unique_id'].nunique()"
      ],
      "metadata": {
        "id": "LZjLm9dsct2V"
      },
      "execution_count": null,
      "outputs": []
    },
    {
      "cell_type": "markdown",
      "source": [
        "Se eliminaran los valores repetidos, dejando solo una observación por caballo."
      ],
      "metadata": {
        "id": "Xdn_dJh1xZqI"
      }
    },
    {
      "cell_type": "code",
      "source": [
        "nyra_2019 = nyra_2019.drop_duplicates()"
      ],
      "metadata": {
        "id": "ZYX5wfpVxfGH"
      },
      "execution_count": null,
      "outputs": []
    },
    {
      "cell_type": "code",
      "source": [
        "nyra_2019['track_id'].count()"
      ],
      "metadata": {
        "id": "GUKRqI6EdjwN"
      },
      "execution_count": null,
      "outputs": []
    },
    {
      "cell_type": "code",
      "source": [
        "nyra_2019['track_id'].value_counts(normalize=True) * 100"
      ],
      "metadata": {
        "id": "JvAUgLEwtbRU"
      },
      "execution_count": null,
      "outputs": []
    },
    {
      "cell_type": "code",
      "source": [
        "categorical_features = ['track_id','distance_id','course_type','track_condition','race_type']\n",
        "for f in categorical_features:\n",
        "    plt.figure(figsize=(10,5))\n",
        "    if (f=='distance_id'):\n",
        "        nyra_2019[f].value_counts().sort_index().plot(kind='bar')\n",
        "    else:\n",
        "        nyra_2019[f].value_counts().plot(kind='bar')\n",
        "    plt.title(f)\n",
        "    plt.grid()\n",
        "    plt.show()"
      ],
      "metadata": {
        "id": "dUsfLU4w2AcP"
      },
      "execution_count": null,
      "outputs": []
    },
    {
      "cell_type": "markdown",
      "source": [
        "Según el grafico, se puede observar que la mayoria de las carreras se corrieron en el acueducto.\n",
        "\n",
        "El valor mas frecuente en las distancias de carrera es 600 pies.\n",
        "\n",
        "La mayoría de las carreras tienen recorridos en tierra, con un estado tipo rapido.\n",
        "\n"
      ],
      "metadata": {
        "id": "KnELTjJFgzPk"
      }
    },
    {
      "cell_type": "code",
      "source": [
        "numerical_features = ['run_up_distance','purse','post_time']\n",
        "for f in numerical_features:\n",
        "    fig, (ax1, ax2) = plt.subplots(2, 1, figsize=(12,6))\n",
        "    \n",
        "    ax1.hist(nyra_2019[f], bins=20)\n",
        "    ax1.grid()\n",
        "    ax1.set_title(f)\n",
        "    \n",
        "    ax2.boxplot(nyra_2019[f], vert=False)\n",
        "    ax2.grid()   \n",
        "    ax2.set_title(f)\n",
        "    \n",
        "    plt.show()\n",
        "    print('')"
      ],
      "metadata": {
        "id": "HmlYUXi4iXOU"
      },
      "execution_count": null,
      "outputs": []
    },
    {
      "cell_type": "markdown",
      "source": [
        "EL run up distance, que mide en pies la distancia desde la puerta hasta el inicio de la carrera, tiene una cola pesada hacia la derecha con algunos valores superiores a los 130 que podrian tomarse como valores poco frecuentes o atipicos.\n",
        "\n",
        "La mayoria de las carreras son en las horas de la tarde, desde las 12:00 del medio dia hasta las 8:00 pm, siendo 4:00pm la hora mas frecuente, de estos eventos."
      ],
      "metadata": {
        "id": "IrlSeVv9V3AI"
      }
    },
    {
      "cell_type": "code",
      "source": [
        "corr_pearson = nyra_2019[numerical_features].corr(method='pearson')\n",
        "plt.figure(figsize=(12,4))\n",
        "ax1 = plt.subplot(1,2,1)\n",
        "sns.heatmap(corr_pearson, annot=True, cmap='YlGnBu', vmin=-1, vmax=+1)\n",
        "plt.title('Pearson Correlation')"
      ],
      "metadata": {
        "id": "R2bpJmZ8kJGk"
      },
      "execution_count": null,
      "outputs": []
    },
    {
      "cell_type": "markdown",
      "source": [
        "Se percibe una baja relación lineal entre las variables."
      ],
      "metadata": {
        "id": "thdsaFWAXBYm"
      }
    },
    {
      "cell_type": "code",
      "source": [
        "sns.pairplot(nyra_2019, vars=numerical_features,\n",
        "             hue='track_id',\n",
        "             palette='YlGnBu',\n",
        "             plot_kws= {'s' : 10, 'alpha' : 0.5})\n",
        "plt.show()"
      ],
      "metadata": {
        "id": "RSUQ6ATJkb2E"
      },
      "execution_count": null,
      "outputs": []
    },
    {
      "cell_type": "markdown",
      "source": [
        "No se observa ningun patrón claro, que genere diferenciación entre los 3 circuitos y el resto de las variables."
      ],
      "metadata": {
        "id": "ipxTbqpDXHn_"
      }
    },
    {
      "cell_type": "markdown",
      "source": [
        "### ***Comparativo variables vs variable de respuesta (position_at_finish)***"
      ],
      "metadata": {
        "id": "m4cmOojch_to"
      }
    },
    {
      "cell_type": "code",
      "source": [
        "pd.crosstab(index=nyra_2019['track_id'],\n",
        "            columns=nyra_2019['position_at_finish']).apply(lambda r: r/r.sum() * 100,\n",
        "                                                                axis=0)"
      ],
      "metadata": {
        "id": "lU_gkQaIrd97"
      },
      "execution_count": null,
      "outputs": []
    },
    {
      "cell_type": "code",
      "source": [
        "s =pd.crosstab(index=nyra_2019['track_id'],\n",
        "            columns=nyra_2019['position_at_finish']).apply(lambda r: r/r.sum() * 100,\n",
        "                                                                axis=1)\n",
        "s"
      ],
      "metadata": {
        "id": "roX8eIhDtSL0"
      },
      "execution_count": null,
      "outputs": []
    },
    {
      "cell_type": "markdown",
      "source": [
        "Se obtienen las distribuciones de los tacks ID, el 41% del total de los datos tienen relación con el track id AQU.\n",
        "\n",
        "Se identifica que en la posisión 13 el 80% de las observaciones tienen relación con ese track ID.\n",
        "\n",
        "Inicialmente en Saratoga, se identifiarón datos hasta las pocisiones 12, puede ser que en esta pista corran menos caballos en total.\n",
        "\n",
        "Se observa un decrecimiento porcentual en la cantidad de observaciones, en las posiciones 13 y 14."
      ],
      "metadata": {
        "id": "egCgy-pdtp-8"
      }
    },
    {
      "cell_type": "code",
      "source": [
        "x = pd.crosstab(index=nyra_2019['race_date'],\n",
        "            columns=nyra_2019['position_at_finish']).apply(lambda r: r/r.sum() * 100,\n",
        "                                                                axis=0)\n",
        "\n",
        "x"
      ],
      "metadata": {
        "id": "ENnomsn6u4iW"
      },
      "execution_count": null,
      "outputs": []
    },
    {
      "cell_type": "code",
      "source": [
        "x.plot()"
      ],
      "metadata": {
        "id": "nQZ7Puf6vamE"
      },
      "execution_count": null,
      "outputs": []
    },
    {
      "cell_type": "markdown",
      "source": [
        "Se evidencia un incremento en 3 fechas especificas de la existencia de los puntos 13 y 14. pareceria ser un comportamiento atipico."
      ],
      "metadata": {
        "id": "zHnKA2ejvt6q"
      }
    },
    {
      "cell_type": "code",
      "source": [
        "nyra_2019['race_number'].value_counts(normalize=True) * 100"
      ],
      "metadata": {
        "id": "NJR-CFcswDDi"
      },
      "execution_count": null,
      "outputs": []
    },
    {
      "cell_type": "code",
      "source": [
        "nyra_2019['race_number'].hist()"
      ],
      "metadata": {
        "id": "PHSZMeSs2fXs"
      },
      "execution_count": null,
      "outputs": []
    },
    {
      "cell_type": "code",
      "source": [
        "xp = pd.crosstab(index=nyra_2019['race_number'],\n",
        "            columns=nyra_2019['position_at_finish']).apply(lambda r: r/r.sum() * 100,\n",
        "                                                                axis=0)\n",
        "xp"
      ],
      "metadata": {
        "id": "4IQEznGNwKzE"
      },
      "execution_count": null,
      "outputs": []
    },
    {
      "cell_type": "code",
      "source": [
        "sns.heatmap(xp)"
      ],
      "metadata": {
        "id": "5YS5EBv_wTJb"
      },
      "execution_count": null,
      "outputs": []
    },
    {
      "cell_type": "markdown",
      "source": [
        "Se observan que en las carreras 5 y 9 solo se presentarón posiciones 14, y referente a la 13 solo se presentan datos de la carera 5-10 (solo el 38% de las occurrencias)"
      ],
      "metadata": {
        "id": "jumSCwv2w0KZ"
      }
    },
    {
      "cell_type": "code",
      "source": [
        "nyra_2019['program_number'].value_counts(normalize=True) * 100"
      ],
      "metadata": {
        "id": "1VEcBChIwvwr"
      },
      "execution_count": null,
      "outputs": []
    },
    {
      "cell_type": "code",
      "source": [
        "plt.figure(figsize=(10,5))\n",
        "nyra_2019.program_number.value_counts().plot(kind='bar')\n",
        "plt.title('Program Number - Count')\n",
        "plt.grid()\n",
        "plt.show()"
      ],
      "metadata": {
        "id": "0QbGv23TyzZW"
      },
      "execution_count": null,
      "outputs": []
    },
    {
      "cell_type": "code",
      "source": [
        "xpp = pd.crosstab(index=nyra_2019['program_number'],\n",
        "            columns=nyra_2019['position_at_finish']).apply(lambda r: r/r.sum() * 100,\n",
        "                                                                axis=0)\n",
        "xpp"
      ],
      "metadata": {
        "id": "17-UqW7zx0tF"
      },
      "execution_count": null,
      "outputs": []
    },
    {
      "cell_type": "code",
      "source": [
        "sns.heatmap(xpp)"
      ],
      "metadata": {
        "id": "6DVH6S8eyUcU"
      },
      "execution_count": null,
      "outputs": []
    },
    {
      "cell_type": "markdown",
      "source": [
        "Se observa que el numero de programa 4, tiene el 8% de observaciones que terminaron en la primera poción, mayor que el resto de obervaciones."
      ],
      "metadata": {
        "id": "94wjxo__yu9L"
      }
    },
    {
      "cell_type": "code",
      "source": [
        "nyra_2019['distance_id'].value_counts(normalize=True) * 100"
      ],
      "metadata": {
        "id": "H0qMQkmc0H7D"
      },
      "execution_count": null,
      "outputs": []
    },
    {
      "cell_type": "code",
      "source": [
        "px = pd.crosstab(index=nyra_2019['distance_id'],\n",
        "            columns=nyra_2019['position_at_finish']).apply(lambda r: r/r.sum() * 100,\n",
        "                                                                axis=0)\n",
        "px"
      ],
      "metadata": {
        "id": "N8WTJ5JL1GwE"
      },
      "execution_count": null,
      "outputs": []
    },
    {
      "cell_type": "code",
      "source": [
        "nyra_2019['course_type'].value_counts(normalize=True) * 100"
      ],
      "metadata": {
        "id": "NV73o0fF1nYU"
      },
      "execution_count": null,
      "outputs": []
    },
    {
      "cell_type": "code",
      "source": [
        "pxp = pd.crosstab(index=nyra_2019['course_type'],\n",
        "            columns=nyra_2019['position_at_finish']).apply(lambda r: r/r.sum() * 100,\n",
        "                                                                axis=0)\n",
        "pxp"
      ],
      "metadata": {
        "id": "o2rkicvA15GL"
      },
      "execution_count": null,
      "outputs": []
    },
    {
      "cell_type": "code",
      "source": [
        "nyra_2019['track_condition'].value_counts(normalize=True) * 100"
      ],
      "metadata": {
        "id": "d49FCnRC3Ggk"
      },
      "execution_count": null,
      "outputs": []
    },
    {
      "cell_type": "code",
      "source": [
        "pxp = pd.crosstab(index=nyra_2019['track_condition'],\n",
        "            columns=nyra_2019['position_at_finish']).apply(lambda r: r/r.sum() * 100,\n",
        "                                                                axis=0)\n",
        "pxp"
      ],
      "metadata": {
        "id": "q6EZM4Uv3Ggl"
      },
      "execution_count": null,
      "outputs": []
    },
    {
      "cell_type": "code",
      "source": [
        "nyra_2019['race_type'].value_counts(normalize=True) * 100"
      ],
      "metadata": {
        "id": "BYbF9F7khsfQ"
      },
      "execution_count": null,
      "outputs": []
    },
    {
      "cell_type": "code",
      "source": [
        "rt = pd.crosstab(index=nyra_2019['race_type'],\n",
        "            columns=nyra_2019['position_at_finish']).apply(lambda r: r/r.sum() * 100,\n",
        "                                                                axis=0)\n",
        "rt"
      ],
      "metadata": {
        "id": "b9Q3EQr7osZ5"
      },
      "execution_count": null,
      "outputs": []
    },
    {
      "cell_type": "markdown",
      "source": [
        "Se eliminan las obervaciones de las posiciones 13 y 14"
      ],
      "metadata": {
        "id": "Gd0dQdEBxz-N"
      }
    },
    {
      "cell_type": "code",
      "source": [
        "nyra_2019 = nyra_2019[(nyra_2019['position_at_finish']!=13)&(nyra_2019['position_at_finish']!=14)]"
      ],
      "metadata": {
        "id": "IJUvyDPvx4pR"
      },
      "execution_count": null,
      "outputs": []
    },
    {
      "cell_type": "code",
      "source": [
        "nyra_2019.jockey.value_counts()"
      ],
      "metadata": {
        "id": "fyZm0C9XynPW"
      },
      "execution_count": null,
      "outputs": []
    },
    {
      "cell_type": "code",
      "source": [
        "plt.figure(figsize=(10,5))\n",
        "\n",
        "nyra_2019.jockey.value_counts()[0:20].plot(kind='bar')\n",
        "\n",
        "plt.title('Jockey - Top 20')\n",
        "\n",
        "plt.grid()\n",
        "\n",
        "plt.show()"
      ],
      "metadata": {
        "id": "8E1hKJC6yrRf"
      },
      "execution_count": null,
      "outputs": []
    },
    {
      "cell_type": "code",
      "source": [
        "plt.figure(figsize=(10,5))\n",
        "nyra_2019.odds.plot(kind='hist', bins=50)\n",
        "plt.title('Odds')\n",
        "plt.grid()\n",
        "plt.show()"
      ],
      "metadata": {
        "id": "nsdRRnUPzS9G"
      },
      "execution_count": null,
      "outputs": []
    },
    {
      "cell_type": "markdown",
      "source": [
        "# <h1><strong> 2. Modelo ingenuo: Sistema experto </h1></strong>\n",
        "\n",
        "Entendiendo que las variables que trackean cada 15 segundos la posición en la carrera (latitud, longitud y track index), vamos inicialmente a tomar los valores únicos para que éstos sirvan para hacer una predicción sencilla, tanto de reglas, como de red neuronal."
      ],
      "metadata": {
        "id": "mV1yZLGIy5eU"
      }
    },
    {
      "cell_type": "code",
      "source": [
        "nyra_2019_naive = nyra_2019[[\n",
        "    \"track_id\",\n",
        "    \"race_date\",\n",
        "    \"race_number\",\n",
        "    \"program_number\",\n",
        "    \"distance_id\",\n",
        "    \"course_type\",\n",
        "    \"track_condition\",\n",
        "    \"run_up_distance\",\n",
        "    \"race_type\",\n",
        "    \"purse\",\n",
        "    \"weight_carried\",\n",
        "    \"odds\",\n",
        "    \"position_at_finish\",\n",
        "    \"jockey\"\n",
        "]]\n",
        "nyra_2019_naive.head()"
      ],
      "metadata": {
        "id": "WxH2gQluzdgW"
      },
      "execution_count": null,
      "outputs": []
    },
    {
      "cell_type": "code",
      "source": [
        "nyra_2019_naive=nyra_2019_naive.drop_duplicates()"
      ],
      "metadata": {
        "id": "HVoS-XaJ1TWd"
      },
      "execution_count": null,
      "outputs": []
    },
    {
      "cell_type": "markdown",
      "source": [
        "Teniendo los datos únicos por carrera podemos ejecutar un modelo naive y un modelo de red neuronal.\n",
        "\n",
        "Para este caso vamos a intentar predecir si el caballo quedó entre los ***cinco primeros*** (Variable categórica) y así hacer una matriz de confusión con los aciertos."
      ],
      "metadata": {
        "id": "NPBtb1391puc"
      }
    },
    {
      "cell_type": "code",
      "source": [
        "nyra_2019_naive['First_3'] = 'Unknown'\n",
        "nyra_2019_naive.loc[nyra_2019_naive['position_at_finish'].between(0, 4, inclusive=False), 'First_3'] = 1\n",
        "nyra_2019_naive.loc[nyra_2019_naive['position_at_finish'].between(4, 60, inclusive=True), 'First_3'] = 0"
      ],
      "metadata": {
        "id": "OtkULRCkGxa5"
      },
      "execution_count": null,
      "outputs": []
    },
    {
      "cell_type": "markdown",
      "source": [
        "El modelo Naive más sencillo es ordenar los odds de menor a mayor, porque a mayor odds las casas de apuestas pagan más, esto quiere decir que si las casas de apuestas tienen un odds muy bajo, es porque probablemente el corredor va a ganar la carrera."
      ],
      "metadata": {
        "id": "Gf1lGaalJ9kA"
      }
    },
    {
      "cell_type": "code",
      "source": [
        "nyra_2019_naive=nyra_2019_naive.sort_values(by=['race_date','track_id','race_number', 'odds'], ascending=True, na_position='first')\n",
        "nyra_2019_naive.head()"
      ],
      "metadata": {
        "id": "XG09bLfsIY2e"
      },
      "execution_count": null,
      "outputs": []
    },
    {
      "cell_type": "code",
      "source": [
        "nyra_2019_naive"
      ],
      "metadata": {
        "id": "foKRDj34SHxd"
      },
      "execution_count": null,
      "outputs": []
    },
    {
      "cell_type": "code",
      "source": [
        "##Carrera de ejemplo\n",
        "\n",
        "nyra_2019_naive[(nyra_2019_naive['race_date']=='2019-01-01') & (nyra_2019_naive['race_number'] == 9)].sort_values(by='odds', ascending=True, na_position='first')\n"
      ],
      "metadata": {
        "id": "5lX021JUKkbB"
      },
      "execution_count": null,
      "outputs": []
    },
    {
      "cell_type": "markdown",
      "source": [
        "Tomando la carrera 9 del primero de enero del 2019, podemos observar que si ordenamos por odds, de las primeras 3 posiciones reales, el odd estuvo en una de ellas (acertó el ganador.)"
      ],
      "metadata": {
        "id": "Iw-IfdqOMah7"
      }
    },
    {
      "cell_type": "markdown",
      "source": [
        "Esta lógica es importante porque al separar el train y el test las predicciones no son independientes, y se debe hacer esta separación por carreras (80% carreras en train y 20% de carreras en test)."
      ],
      "metadata": {
        "id": "AVTTAaTdNc_u"
      }
    },
    {
      "cell_type": "markdown",
      "source": [
        "En éste caso vamos a predecir como los primeros 3 a los odds más bajos, como los que llegaron de primeras, esta sería nuestra predicción."
      ],
      "metadata": {
        "id": "Sl0ZYCw7RR6w"
      }
    },
    {
      "cell_type": "code",
      "source": [
        "first_ods=nyra_2019_naive.groupby([\"race_date\", \"race_number\"]).head(3).reset_index(\n",
        "    drop=True\n",
        ").sort_values(\n",
        "    by=[\"race_date\", \"track_id\", \"race_number\", \"odds\"],\n",
        "    ascending=True,\n",
        "    na_position=\"first\",\n",
        ")\n",
        "\n",
        "first_ods['prediction'] = '1'\n",
        "first_ods=first_ods[['race_date','race_number','program_number', 'prediction']]"
      ],
      "metadata": {
        "id": "_8OUsJCvQOyl"
      },
      "execution_count": null,
      "outputs": []
    },
    {
      "cell_type": "markdown",
      "source": [
        "Ahora vamos a integrar esta predicción naive a la base inicial."
      ],
      "metadata": {
        "id": "pkMw6HbtHpeo"
      }
    },
    {
      "cell_type": "code",
      "source": [
        "nyra_2019_naive=nyra_2019_naive.merge(first_ods, on=['race_date','race_number','program_number'], how='left').sort_values(by=['race_date','track_id','race_number', 'odds'], ascending=True, na_position='first')\n",
        "nyra_2019_naive['prediction'] = nyra_2019_naive['prediction'].fillna(0)\n",
        "nyra_2019_naive"
      ],
      "metadata": {
        "id": "4isahSsmUJcw"
      },
      "execution_count": null,
      "outputs": []
    },
    {
      "cell_type": "markdown",
      "source": [
        "Métricas regla de asociación (Con todos los datos)\n",
        "\n",
        "**Para facilitar la comparabilidad con los modelos de redes neuronales, también se añadió la métrica de asociación solamente para los datos de test**\n",
        "\n",
        "El modelo acierta en un 69% de las veces si la posición estará dentro o fuera del top 3 de la carrera, el tener una precisión mayor al 50% se admite como modelo naive.\n",
        "\n",
        "Recordar que la matriz de confusión de sklearn se muestra el revés, es decir la clase 1,1 (está en el top tres) es la de 2.692.\n",
        "https://towardsdatascience.com/accuracy-recall-precision-f-score-specificity-which-to-optimize-on-867d3f11124"
      ],
      "metadata": {
        "id": "gKiIShYiXv1C"
      }
    },
    {
      "cell_type": "code",
      "source": [
        "from sklearn.metrics import accuracy_score\n",
        "from sklearn.metrics import precision_score\n",
        "from sklearn.metrics import recall_score\n",
        "\n",
        "nyra_2019_naive['First_3']=nyra_2019_naive['First_3'].astype(int)\n",
        "nyra_2019_naive['prediction']=nyra_2019_naive['prediction'].astype(int)"
      ],
      "metadata": {
        "id": "Y6uubA5-XFot"
      },
      "execution_count": null,
      "outputs": []
    },
    {
      "cell_type": "code",
      "source": [
        "#confusion_matrix((nyra_2019_naive['First_3']), (nyra_2019_naive['prediction']))\n",
        "#accuracy_score(nyra_2019_naive['First_3'], nyra_2019_naive['prediction'], normalize=True)\n",
        "#tn, fp, fn, tp = confusion_matrix(nyra_2019_naive['First_3'], nyra_2019_naive['prediction']).ravel()\n",
        "#(tn, fp, fn, tp)\n",
        "#3696/(2304+3696)\n",
        "#696/(3696+2372)"
      ],
      "metadata": {
        "id": "g9QOp0mIWxao"
      },
      "execution_count": null,
      "outputs": []
    },
    {
      "cell_type": "code",
      "source": [
        "print('Precision:',precision_score(nyra_2019_naive['First_3'], nyra_2019_naive['prediction']))\n",
        "print('Recall:',recall_score(nyra_2019_naive['First_3'], nyra_2019_naive['prediction']))\n",
        "print('Accuracy:',accuracy_score(nyra_2019_naive['First_3'], nyra_2019_naive['prediction']))"
      ],
      "metadata": {
        "id": "8SdUDJvfYUiL"
      },
      "execution_count": null,
      "outputs": []
    },
    {
      "cell_type": "code",
      "source": [
        "d = {'Modelo': ['Sistema_experto'], \n",
        "     'Precision': [precision_score(nyra_2019_naive['First_3'], nyra_2019_naive['prediction'])], \n",
        "     'Recall': recall_score(nyra_2019_naive['First_3'], nyra_2019_naive['prediction']),\n",
        "     'Accuracy': accuracy_score(nyra_2019_naive['First_3'], nyra_2019_naive['prediction'])}\n",
        "Resultados = pd.DataFrame(data=d)\n",
        "Resultados"
      ],
      "metadata": {
        "id": "eF69zG7AZBOX"
      },
      "execution_count": null,
      "outputs": []
    },
    {
      "cell_type": "markdown",
      "source": [
        "# <h1><strong> 3. Modelo ingenuo: Sistema Rede Neuronal I.</h1></strong>"
      ],
      "metadata": {
        "id": "4sYsYbtbS2Nc"
      }
    },
    {
      "cell_type": "markdown",
      "source": [
        "\n",
        "\n",
        "División Test Train\n",
        "\n",
        "La división se va a hacer de manera secuencial, ordenada por fecha y tomaremos el 70% (1400 carreras como train y 600 carreras como test.)"
      ],
      "metadata": {
        "id": "ydlq9_vRaUdQ"
      }
    },
    {
      "cell_type": "code",
      "source": [
        "nyra_2019_naive[[\"race_date\", \"track_id\", \"race_number\"]].drop_duplicates()\n",
        "#Ordeno por fecha\n",
        "test=nyra_2019_naive[[\"race_date\", \"track_id\", \"race_number\"]].drop_duplicates().head(600)\n",
        "train=nyra_2019_naive[[\"race_date\", \"track_id\", \"race_number\"]].drop_duplicates().tail(1400)\n",
        "#Traigo 70% de las carreras para train y el 30% para test\n",
        "train=train.merge(nyra_2019_naive, on=['race_date','race_number','track_id'], how='left').sort_values(by=['race_date','track_id','race_number', 'odds'], ascending=True, na_position='first')\n",
        "test=test.merge(nyra_2019_naive, on=['race_date','race_number','track_id'], how='left').sort_values(by=['race_date','track_id','race_number', 'odds'], ascending=True, na_position='first')\n",
        "train"
      ],
      "metadata": {
        "id": "gw3mwvYHcPjp"
      },
      "execution_count": null,
      "outputs": []
    },
    {
      "cell_type": "markdown",
      "source": [
        "Ordenamos las carreras por fecha y escogemos el 70% de las carreras para train y el 30% de las carreras para test"
      ],
      "metadata": {
        "id": "yCFufl5-fp80"
      }
    },
    {
      "cell_type": "markdown",
      "source": [
        "Para facilidad del algoritmo escogemos 4 variables continuas para predecir si en la carrera acabaron entre los 3 primeros.\n",
        "\n",
        "Damos forma la los inputs de la red neuronal."
      ],
      "metadata": {
        "id": "PJp2I99V4CAW"
      }
    },
    {
      "cell_type": "code",
      "source": [
        "TargetVariable=['First_3']\n",
        "Predictors=['run_up_distance','purse'\t,'weight_carried'\t,'odds'\t]\n",
        "\n",
        "X_train=train[Predictors]\n",
        "y_train=train[TargetVariable]\n",
        "X_test=test[Predictors]\n",
        "y_test=test[TargetVariable]\n",
        "\n",
        "X_train=np.asarray(X_train).astype(np.float32)\n",
        "\n",
        "print(X_train.shape)\n",
        "print(y_train.shape)\n",
        "print(X_test.shape)\n",
        "print(y_test.shape)"
      ],
      "metadata": {
        "id": "hebWItnceUQd"
      },
      "execution_count": null,
      "outputs": []
    },
    {
      "cell_type": "markdown",
      "source": [
        "Para ésta red neuronal, se toman 4 inputs **('run_up_distance','purse'\t,'weight_carried'\t,'odds')**, 5 unidades en la primera capa con activación relu.\n",
        "\n",
        "Luego, se añaden 4 neuronas con activación relu y 1 capa final con activación sigmoide.\n",
        "\n",
        "Luego se compila con un optimizador Adam, una activación sigmoide y una función de pérdida binary_crossentropy.\n",
        "\n",
        "La red se pasará por 5 épocas, con un batch size de 64."
      ],
      "metadata": {
        "id": "MC2SDs8n4VUL"
      }
    },
    {
      "cell_type": "code",
      "source": [
        "from keras.models import Sequential\n",
        "from keras.layers import Dense\n",
        "classifier = Sequential()\n",
        "# Defining the Input layer and FIRST hidden layer,both are same!\n",
        "# relu means Rectifier linear unit function\n",
        "classifier.add(Dense(units=5, input_dim=4, kernel_initializer='uniform', activation='relu'))\n",
        " \n",
        "#Defining the SECOND hidden layer, here we have not defined input because it is\n",
        "# second layer and it will get input as the output of first hidden layer\n",
        "classifier.add(Dense(units=4, kernel_initializer='uniform', activation='relu'))\n",
        "classifier.add(Dense(units=1, kernel_initializer='uniform', activation='sigmoid'))\n",
        " \n",
        "# Optimizer== the algorithm of SGG to keep updating weights\n",
        "# loss== the loss function to measure the accuracy\n",
        "# metrics== the way we will compare the accuracy after each step of SGD\n",
        "classifier.compile(optimizer='adam', loss='binary_crossentropy', metrics=['accuracy'])\n",
        " \n",
        "# fitting the Neural Network on the training data\n",
        "classifier.fit(X_train,y_train, batch_size=64 , epochs=5, verbose=1)\n",
        "\n",
        "\n",
        "#dataframe=pd.DataFrame(classifier.predict(X_test).tolist())\n",
        "\n",
        "#dataframe['prediction'] = 'Unknown'\n",
        "#dataframe.loc[(dataframe[0]<0.5) & (dataframe[0]>0), 'prediction'] = 0\n",
        "#dataframe.loc[(dataframe[0]>0.5) , 'prediction'] = 1\n",
        "#confusion_matrix((y_test), dataframe[['prediction']].astype(int))\n",
        "\n",
        "#confusion_matrix((nyra_2019_naive['First_3']), (nyra_2019_naive['prediction']))\n",
        "#accuracy_score(y_test, dataframe[['prediction']].astype(int), normalize=True)\n",
        "#tn, fp, fn, tp = confusion_matrix(y_test, dataframe[['prediction']].astype(int)).ravel()\n",
        "#(tn, fp, fn, tp)\n",
        "#tp/(tp+fp)\n",
        "#tp/(tp+fn)"
      ],
      "metadata": {
        "id": "nh2huzc8hupk"
      },
      "execution_count": null,
      "outputs": []
    },
    {
      "cell_type": "code",
      "source": [
        "y_pred = classifier.predict(X_test.values)"
      ],
      "metadata": {
        "id": "qDhrwgSwtyMp"
      },
      "execution_count": null,
      "outputs": []
    },
    {
      "cell_type": "code",
      "source": [
        "#y_pred = np.where(y_pred <0.5, 0, 1)\n",
        "print('Precision:',precision_score(y_test, y_pred.round()))\n",
        "print('Recall:',recall_score(y_test,y_pred.round()))\n",
        "print('Accuracy:',accuracy_score(y_test,y_pred.round()))"
      ],
      "metadata": {
        "id": "ddIjwVe6jce6"
      },
      "execution_count": null,
      "outputs": []
    },
    {
      "cell_type": "code",
      "source": [
        "d1 = {'Modelo': ['Redes_1'], \n",
        "     'Precision': precision_score(y_test, y_pred.round()), \n",
        "     'Recall': recall_score(y_test, y_pred.round()),\n",
        "     'Accuracy': accuracy_score(y_test, y_pred.round())}\n",
        "Resultados1 = pd.DataFrame(data=d1)\n",
        "\n",
        "Resultados = Resultados.append(Resultados1, ignore_index=True)\n",
        "Resultados"
      ],
      "metadata": {
        "id": "51YsRa7DoAGb"
      },
      "execution_count": null,
      "outputs": []
    },
    {
      "cell_type": "markdown",
      "source": [
        "# <h1><strong> 4. Modelo ingenuo: Sistema Rede Neuronal II .</h1></strong>"
      ],
      "metadata": {
        "id": "A63B-HgAUjpJ"
      }
    },
    {
      "cell_type": "code",
      "source": [
        "train.columns"
      ],
      "metadata": {
        "id": "W2hBNhOmzrj3"
      },
      "execution_count": null,
      "outputs": []
    },
    {
      "cell_type": "code",
      "source": [
        "TargetVariable=['First_3']\n",
        "Predictors=['run_up_distance'\t,'weight_carried'\t,'odds'\t]\n",
        "\n",
        "X_train=train[Predictors]\n",
        "y_train=train[TargetVariable]\n",
        "X_test=test[Predictors]\n",
        "y_test=test[TargetVariable]\n",
        "\n",
        "\n",
        "from tensorflow.keras import layers\n",
        "from tensorflow.keras import initializers\n",
        "from tensorflow.keras.callbacks import EarlyStopping\n",
        "\n",
        "from sklearn import preprocessing\n",
        "\n",
        "early_stopping = EarlyStopping()\n",
        "classifier2 = Sequential()\n",
        "classifier2.add(Dense(units=3, input_dim=3, activation='sigmoid'))\n",
        "classifier2.add(Dense(units=14, activation='sigmoid'))\n",
        " \n",
        "classifier2.add(Dense(units=1, activation='relu'))\n",
        " \n",
        "classifier2.compile(optimizer='Adam', loss='binary_crossentropy', metrics=['accuracy'])\n",
        " \n",
        "# fitting the Neural Network on the training data\n",
        "classifier2.fit(X_train,y_train, batch_size=32 , epochs=10, verbose=1, callbacks=[early_stopping])\n",
        "\n",
        "#df =pd.DataFrame(classifier2.predict(X_test).tolist())\n",
        "##df =pd.DataFrame(classifier2.predict(X_test).tolist())\n",
        "#df ['prediction'] = 'Unknown'\n",
        "#df.loc[(df[0]<0.50) & (df[0]>0), 'prediction'] = 0\n",
        "#df.loc[(df[0]>0.50) , 'prediction'] = 1\n",
        "#confusion_matrix((y_test), df[['prediction']].astype(int))\n",
        "#accuracy_score(y_test, df[['prediction']].astype(int), normalize=True)\n",
        "#tn, fp, fn, tp = confusion_matrix(y_test, df[['prediction']].astype(int)).ravel()\n",
        "#(tn, fp, fn, tp)\n",
        "#tp/(tp+fp)\n",
        "#tp/(tp+fn)"
      ],
      "metadata": {
        "id": "azgaQvE4Us93"
      },
      "execution_count": null,
      "outputs": []
    },
    {
      "cell_type": "code",
      "source": [
        "y_pred2 = classifier2.predict(X_test.values)"
      ],
      "metadata": {
        "id": "N82zCAA9tutO"
      },
      "execution_count": null,
      "outputs": []
    },
    {
      "cell_type": "code",
      "source": [
        "#y_pred2 = np.where(y_pred2 <0.5, 0, 1)\n",
        "print('Precision:',precision_score(y_test, y_pred2.round()))\n",
        "print('Recall:',recall_score(y_test,y_pred2.round()))\n",
        "print('Accuracy:',accuracy_score(y_test,y_pred2.round()))"
      ],
      "metadata": {
        "id": "tNQHZXY1rtzE"
      },
      "execution_count": null,
      "outputs": []
    },
    {
      "cell_type": "code",
      "source": [
        "d2 = {'Modelo': ['Redes_2'], \n",
        "     'Precision': precision_score(y_test, y_pred2.round()), \n",
        "     'Recall': recall_score(y_test, y_pred2.round()),\n",
        "     'Accuracy': accuracy_score(y_test, y_pred2.round())}\n",
        "Resultados2 = pd.DataFrame(data=d2)\n",
        "\n",
        "Resultados = Resultados.append(Resultados2, ignore_index=True)\n",
        "Resultados"
      ],
      "metadata": {
        "id": "Zitl0MXwrtzE"
      },
      "execution_count": null,
      "outputs": []
    },
    {
      "cell_type": "markdown",
      "source": [
        "# <h1><strong> 5. Conclusiones: Modelos ingenuos.</h1></strong>"
      ],
      "metadata": {
        "id": "KKbCvTIqdDvs"
      }
    },
    {
      "cell_type": "markdown",
      "source": [
        "**Accuracy**\n",
        "\n",
        "Red Neuronal 1 **66,5%**\n",
        "\n",
        "Red Neuronal 2 **69,17%**\n",
        "\n",
        "Naive **68,07%**\n",
        "\n",
        "***Precision*** (TP/(TP+FP))\n",
        "\n",
        "\n",
        "Red Neuronal 1 **58,4%**\n",
        "\n",
        "Red Neuronal 2 **65.8%**\n",
        "\n",
        "Naive **62,67%**\n",
        "\n",
        "\n",
        "***Sensibilidad*** (TP/(tp+fn))\n",
        "\n",
        "Red Neuronal 1 **74,28%**\n",
        "\n",
        "Red Neuronal 2 **57,43**\n",
        "\n",
        "Naive          **62,11%**\n"
      ],
      "metadata": {
        "id": "7qXhMndldXwe"
      }
    },
    {
      "cell_type": "markdown",
      "source": [
        "En general los tres modelos tienen métricas similares.\n",
        "\n",
        "La red neuronal 2 destaca por tener una presición alta (**buena capacidad para detectar a los 3 primeros de una carrera**) y tener un accuracy un poco mejor que los otros dos modelos llevados a cabo.\n",
        "\n",
        "Sin embargo la red neuronal 1 tiene mayor sensibilidad, es decir, detecta casi el 74% correctamente los verdaderos  positivos, es decir los tres primeros en llegar a la meta, debido a que ésta es la métrica que más nos interesa, dado que la precisión es similar, el modelo que más nos ayuda a la predicción, es la red neuronal 2.\n",
        "\n",
        "Aún estos modelos no consideran datos como la longitud y la latitud en la carrera, algo que en el futuro nos puede mejorar la predicción actual.\n",
        "\n",
        "Se comprueba adicionalmente que el modelo de recomendación dado los odds (o el pago estimado de la casa de apuesta) tienen una naturaleza predictiva frente a quién ganará la carrera."
      ],
      "metadata": {
        "id": "6UFC4DvB7rrC"
      }
    },
    {
      "cell_type": "markdown",
      "source": [
        "# <h1><strong> 6. Algoritmo genetico: Selección de variables.</h1></strong>"
      ],
      "metadata": {
        "id": "Y1GNvTEyA1zB"
      }
    },
    {
      "cell_type": "code",
      "source": [
        "pip install sklearn-genetic-opt"
      ],
      "metadata": {
        "id": "FiqlByTYBulC",
        "outputId": "740462f4-dca7-482d-e51f-1387d929809c",
        "colab": {
          "base_uri": "https://localhost:8080/"
        }
      },
      "execution_count": 327,
      "outputs": [
        {
          "output_type": "stream",
          "name": "stdout",
          "text": [
            "Looking in indexes: https://pypi.org/simple, https://us-python.pkg.dev/colab-wheels/public/simple/\n",
            "Requirement already satisfied: sklearn-genetic-opt in /usr/local/lib/python3.7/dist-packages (0.9.0)\n",
            "Requirement already satisfied: deap>=1.3.1 in /usr/local/lib/python3.7/dist-packages (from sklearn-genetic-opt) (1.3.3)\n",
            "Requirement already satisfied: numpy>=1.14.5 in /usr/local/lib/python3.7/dist-packages (from sklearn-genetic-opt) (1.21.6)\n",
            "Requirement already satisfied: scikit-learn>=0.21.3 in /usr/local/lib/python3.7/dist-packages (from sklearn-genetic-opt) (1.0.2)\n",
            "Requirement already satisfied: tqdm>=4.61.1 in /usr/local/lib/python3.7/dist-packages (from sklearn-genetic-opt) (4.64.1)\n",
            "Requirement already satisfied: threadpoolctl>=2.0.0 in /usr/local/lib/python3.7/dist-packages (from scikit-learn>=0.21.3->sklearn-genetic-opt) (3.1.0)\n",
            "Requirement already satisfied: scipy>=1.1.0 in /usr/local/lib/python3.7/dist-packages (from scikit-learn>=0.21.3->sklearn-genetic-opt) (1.7.3)\n",
            "Requirement already satisfied: joblib>=0.11 in /usr/local/lib/python3.7/dist-packages (from scikit-learn>=0.21.3->sklearn-genetic-opt) (1.2.0)\n"
          ]
        }
      ]
    },
    {
      "cell_type": "code",
      "source": [
        "pip install sklearn-genetic"
      ],
      "metadata": {
        "colab": {
          "base_uri": "https://localhost:8080/"
        },
        "id": "vqKJKLc_aBCf",
        "outputId": "a09bf2c9-58f8-4eb5-d6a3-db4757227428"
      },
      "execution_count": 328,
      "outputs": [
        {
          "output_type": "stream",
          "name": "stdout",
          "text": [
            "Looking in indexes: https://pypi.org/simple, https://us-python.pkg.dev/colab-wheels/public/simple/\n",
            "Requirement already satisfied: sklearn-genetic in /usr/local/lib/python3.7/dist-packages (0.5.1)\n",
            "Requirement already satisfied: deap>=1.0.2 in /usr/local/lib/python3.7/dist-packages (from sklearn-genetic) (1.3.3)\n",
            "Requirement already satisfied: numpy in /usr/local/lib/python3.7/dist-packages (from sklearn-genetic) (1.21.6)\n",
            "Requirement already satisfied: scikit-learn>=0.23 in /usr/local/lib/python3.7/dist-packages (from sklearn-genetic) (1.0.2)\n",
            "Requirement already satisfied: multiprocess in /usr/local/lib/python3.7/dist-packages (from sklearn-genetic) (0.70.13)\n",
            "Requirement already satisfied: scipy>=1.1.0 in /usr/local/lib/python3.7/dist-packages (from scikit-learn>=0.23->sklearn-genetic) (1.7.3)\n",
            "Requirement already satisfied: joblib>=0.11 in /usr/local/lib/python3.7/dist-packages (from scikit-learn>=0.23->sklearn-genetic) (1.2.0)\n",
            "Requirement already satisfied: threadpoolctl>=2.0.0 in /usr/local/lib/python3.7/dist-packages (from scikit-learn>=0.23->sklearn-genetic) (3.1.0)\n",
            "Requirement already satisfied: dill>=0.3.5.1 in /usr/local/lib/python3.7/dist-packages (from multiprocess->sklearn-genetic) (0.3.5.1)\n"
          ]
        }
      ]
    },
    {
      "cell_type": "code",
      "source": [
        "# from genetic_selection import GeneticSelectionCV\n",
        "# estimator = RandomForestClassifier(max_depth=6, random_state=0)\n",
        "# model = GeneticSelectionCV(\n",
        "#     estimator, cv=5, verbose=0,\n",
        "#     scoring=\"accuracy\", n_population=15, crossover_proba=0.5,\n",
        "#     mutation_proba=0.2, n_generations=50,\n",
        "#     crossover_independent_proba=0.5,\n",
        "#     mutation_independent_proba=0.04,\n",
        "#     tournament_size=3, n_gen_no_change=10,\n",
        "#     caching=True, n_jobs=-1)\n",
        "# model = model.fit(X_train, y_train)\n",
        "# print('Features:', X_train.columns[model.support_])"
      ],
      "metadata": {
        "id": "bZf6OdPEjP4X"
      },
      "execution_count": null,
      "outputs": []
    },
    {
      "cell_type": "code",
      "source": [
        "import matplotlib.pyplot as plt\n",
        "from sklearn_genetic import GAFeatureSelectionCV\n",
        "from sklearn.ensemble import RandomForestClassifier\n",
        "from sklearn.metrics import accuracy_score\n",
        "import numpy as np"
      ],
      "metadata": {
        "id": "YsP7hcVwBEoZ"
      },
      "execution_count": null,
      "outputs": []
    },
    {
      "cell_type": "code",
      "source": [
        "data = nyra_2019.copy()\n",
        "data = data.drop('jockey', axis=1)\n",
        "test=data[[\"race_date\", \"track_id\", \"race_number\"]].drop_duplicates().head(600)\n",
        "train=data[[\"race_date\", \"track_id\", \"race_number\"]].drop_duplicates().tail(1400)\n",
        "data['First_3'] = 0\n",
        "data.loc[data['position_at_finish'].between(0, 4, inclusive=False), 'First_3'] = 1\n",
        "# data.loc[data['position_at_finish'].between(4, 60, inclusive=True), 'First_3'] = 0\n",
        "#Traigo 70% de las carreras para train y el 30% para test\n",
        "data = data.drop(['unique_id', 'position_at_finish'], axis=1)\n",
        "data =  pd.get_dummies(data, columns=['track_condition', 'course_type', 'race_type', 'program_number'], dtype='float')\n",
        "data_F = data.copy()\n",
        "train=train.merge(data_F, on=['race_date','race_number','track_id'], how='left').sort_values(by=['race_date','track_id','race_number', 'odds'], ascending=True, na_position='first')\n",
        "test=test.merge(data_F, on=['race_date','race_number','track_id'], how='left').sort_values(by=['race_date','track_id','race_number', 'odds'], ascending=True, na_position='first')\n",
        "train = pd.get_dummies(train, columns=['track_id'], dtype='float')\n",
        "test = pd.get_dummies(test, columns=['track_id'], dtype='float')\n",
        "train = train.drop('race_date', axis=1)\n",
        "test = test.drop('race_date', axis=1)\n",
        "X_train, y_train = train.drop('First_3', axis=1), train['First_3']\n",
        "X_test, y_test = test.drop('First_3', axis=1), test['First_3']"
      ],
      "metadata": {
        "id": "k2wsgYz_A-Cb"
      },
      "execution_count": null,
      "outputs": []
    },
    {
      "cell_type": "code",
      "source": [
        "clf = RandomForestClassifier()\n",
        "evolved_estimator = GAFeatureSelectionCV(\n",
        "    estimator=clf,\n",
        "    scoring=\"accuracy\",\n",
        "    population_size=15,\n",
        "    generations=15,\n",
        "    n_jobs=-1)\n",
        "# Entrena y selecciona las variables \n",
        "evolved_estimator.fit(X_train, y_train)"
      ],
      "metadata": {
        "id": "AuArTECJCfzK",
        "colab": {
          "base_uri": "https://localhost:8080/"
        },
        "outputId": "100e584a-e9ae-4651-d3f1-d4e59e526d9b"
      },
      "execution_count": 332,
      "outputs": [
        {
          "metadata": {
            "tags": null
          },
          "name": "stdout",
          "output_type": "stream",
          "text": [
            "gen\tnevals\tfitness \tfitness_std\tfitness_max\tfitness_min\n",
            "0  \t15    \t0.623228\t0.0624058  \t0.676878   \t0.51677    \n",
            "1  \t30    \t0.670895\t0.00627743 \t0.676878   \t0.648585   \n",
            "2  \t30    \t0.673381\t0.00189874 \t0.676878   \t0.669384   \n",
            "3  \t30    \t0.675304\t0.00183081 \t0.678658   \t0.671819   \n",
            "4  \t30    \t0.675917\t0.00154414 \t0.678658   \t0.673412   \n",
            "5  \t30    \t0.676323\t0.00174012 \t0.678658   \t0.673506   \n",
            "6  \t30    \t0.677128\t0.00173952 \t0.679502   \t0.674068   \n",
            "7  \t30    \t0.677359\t0.00176761 \t0.679502   \t0.673318   \n",
            "8  \t30    \t0.677772\t0.00134241 \t0.678658   \t0.673693   \n",
            "9  \t30    \t0.677284\t0.00152554 \t0.678846   \t0.673693   \n",
            "10 \t30    \t0.67754 \t0.00116987 \t0.678846   \t0.674349   \n",
            "11 \t30    \t0.677909\t0.00166785 \t0.681844   \t0.674349   \n",
            "12 \t30    \t0.67874 \t0.00221116 \t0.681844   \t0.673599   \n",
            "13 \t30    \t0.679021\t0.00196899 \t0.682031   \t0.675754   \n",
            "14 \t30    \t0.678121\t0.00220469 \t0.681844   \t0.674068   \n",
            "15 \t30    \t0.679539\t0.00207433 \t0.681844   \t0.675192   \n"
          ]
        },
        {
          "data": {
            "text/plain": [
              "GAFeatureSelectionCV(estimator=RandomForestClassifier(), generations=15,\n",
              "                     n_jobs=-1, population_size=15, return_train_score=True,\n",
              "                     scoring='accuracy')"
            ]
          },
          "execution_count": 332,
          "metadata": {},
          "output_type": "execute_result"
        }
      ]
    },
    {
      "cell_type": "code",
      "source": [
        "features = evolved_estimator.best_features_\n",
        "#print(features)\n",
        "#X_test.columns[features]\n",
        "variables_imp = X_test[X_test.columns[features]]\n",
        "variables_imp"
      ],
      "metadata": {
        "id": "KNP3wxZImL_m"
      },
      "execution_count": null,
      "outputs": []
    },
    {
      "cell_type": "code",
      "source": [
        "# Predict only with the subset of selected features\n",
        "X_trainn = X_train.to_numpy()\n",
        "X_testt = X_test.to_numpy()\n",
        "y_predict_ga = evolved_estimator.predict(X_testt[:, features])\n",
        "#accuracy = accuracy_score(y_test, y_predict_ga)\n"
      ],
      "metadata": {
        "id": "Dk2ekYl_mNTI"
      },
      "execution_count": null,
      "outputs": []
    },
    {
      "cell_type": "code",
      "source": [
        "print('Precision:',precision_score(y_test, y_predict_ga))\n",
        "print('Recall:',recall_score(y_test,y_predict_ga))\n",
        "print('Accuracy:',accuracy_score(y_test,y_predict_ga))"
      ],
      "metadata": {
        "id": "L97lDdoHuUl6"
      },
      "execution_count": null,
      "outputs": []
    },
    {
      "cell_type": "code",
      "source": [
        "d3 = {'Modelo': ['Gen_FI'], \n",
        "     'Precision': precision_score(y_test, y_predict_ga), \n",
        "     'Recall': recall_score(y_test, y_predict_ga),\n",
        "     'Accuracy': accuracy_score(y_test, y_predict_ga)}\n",
        "Resultados3 = pd.DataFrame(data=d3)\n",
        "\n",
        "Resultados = Resultados.append(Resultados3, ignore_index=True)\n",
        "Resultados"
      ],
      "metadata": {
        "id": "Y0ez1KicuUl7"
      },
      "execution_count": null,
      "outputs": []
    },
    {
      "cell_type": "markdown",
      "source": [
        "# <h1><strong> 7.Algoritmo genetico: Selección de hiper-parametos con los features seleccionados.</strong></h1>"
      ],
      "metadata": {
        "id": "-Zt36U1lLbvZ"
      }
    },
    {
      "cell_type": "code",
      "source": [
        "from sklearn_genetic import GASearchCV\n",
        "from sklearn_genetic.space import Continuous, Categorical, Integer\n",
        "from sklearn_genetic.plots import plot_fitness_evolution, plot_search_space\n",
        "from sklearn.model_selection import StratifiedKFold\n",
        "import matplotlib.pyplot as plt\n",
        "\n",
        "param_grid = {'min_weight_fraction_leaf': Continuous(0.01, 0.5, distribution='log-uniform'),\n",
        "              'bootstrap': Categorical([True, False]),\n",
        "              'max_depth': Integer(2, 30), \n",
        "              'max_leaf_nodes': Integer(2, 35), \n",
        "              'n_estimators': Integer(100, 300)}\n",
        "\n",
        "cv = StratifiedKFold(n_splits=3, shuffle=True)\n",
        "\n",
        "evolved_estimator = GASearchCV(estimator=clf,\n",
        "                               cv=cv,\n",
        "                               scoring='accuracy',\n",
        "                               population_size=10,\n",
        "                               generations=20,\n",
        "                               tournament_size=3,\n",
        "                               elitism=True,\n",
        "                               crossover_probability=0.8,\n",
        "                               mutation_probability=0.1,\n",
        "                               param_grid=param_grid,\n",
        "                               criteria='max',\n",
        "                               algorithm='eaMuPlusLambda',\n",
        "                               n_jobs=-1,\n",
        "                               verbose=True,\n",
        "                               keep_top_k=4)"
      ],
      "metadata": {
        "id": "e-fPuT2n9Q6_"
      },
      "execution_count": 337,
      "outputs": []
    },
    {
      "cell_type": "code",
      "source": [
        "evolved_estimator.fit(X_trainn[:,features],y_train)"
      ],
      "metadata": {
        "id": "c-ueU7yH9T-8",
        "outputId": "33bf5153-1986-4aac-f46b-c932ae03f5db",
        "colab": {
          "base_uri": "https://localhost:8080/"
        }
      },
      "execution_count": 338,
      "outputs": [
        {
          "output_type": "stream",
          "name": "stdout",
          "text": [
            "gen\tnevals\tfitness \tfitness_std\tfitness_max\tfitness_min\n",
            "0  \t10    \t0.641934\t0.0425077  \t0.696646   \t0.602024   \n",
            "1  \t20    \t0.683324\t0.0272999  \t0.697396   \t0.602024   \n",
            "2  \t19    \t0.694126\t0.00269334 \t0.697489   \t0.690275   \n",
            "3  \t18    \t0.697189\t0.00191348 \t0.699644   \t0.694117   \n",
            "4  \t19    \t0.698988\t0.00129476 \t0.700393   \t0.696178   \n",
            "5  \t17    \t0.699934\t0.00129167 \t0.70133    \t0.69674    \n",
            "6  \t15    \t0.700824\t0.000763638\t0.701892   \t0.700019   \n",
            "7  \t18    \t0.701265\t0.00112583 \t0.702923   \t0.699363   \n",
            "8  \t19    \t0.70193 \t0.000920029\t0.702923   \t0.700487   \n",
            "9  \t18    \t0.702014\t0.00132296 \t0.702923   \t0.698895   \n",
            "10 \t18    \t0.70148 \t0.00154522 \t0.702923   \t0.698895   \n",
            "11 \t18    \t0.701939\t0.00135715 \t0.702923   \t0.699831   \n",
            "12 \t17    \t0.701902\t0.0014291  \t0.702923   \t0.699269   \n",
            "13 \t18    \t0.700946\t0.00157127 \t0.702923   \t0.698239   \n",
            "14 \t20    \t0.702164\t0.000922173\t0.702923   \t0.700206   \n",
            "15 \t18    \t0.70163 \t0.00171565 \t0.702923   \t0.698145   \n",
            "16 \t19    \t0.702314\t0.00117705 \t0.702923   \t0.699082   \n",
            "17 \t17    \t0.702848\t0.000224845\t0.702923   \t0.702174   \n",
            "18 \t18    \t0.702248\t0.00132014 \t0.702923   \t0.698613   \n",
            "19 \t20    \t0.702136\t0.0010634  \t0.702923   \t0.700019   \n",
            "20 \t17    \t0.702305\t0.00107244 \t0.702923   \t0.700206   \n"
          ]
        },
        {
          "output_type": "execute_result",
          "data": {
            "text/plain": [
              "GASearchCV(crossover_probability=0.8,\n",
              "           cv=StratifiedKFold(n_splits=3, random_state=None, shuffle=True),\n",
              "           estimator=RandomForestClassifier(max_depth=30, max_leaf_nodes=26,\n",
              "                                            min_weight_fraction_leaf=0.010177574417251091,\n",
              "                                            n_estimators=241),\n",
              "           generations=20, keep_top_k=4, mutation_probability=0.1, n_jobs=-1,\n",
              "           param_grid={'bootstrap': <sklearn_genetic.space.space.Categor...\n",
              "                       'max_depth': <sklearn_genetic.space.space.Integer object at 0x7fbc990abb90>,\n",
              "                       'max_leaf_nodes': <sklearn_genetic.space.space.Integer object at 0x7fbc990ab350>,\n",
              "                       'min_weight_fraction_leaf': <sklearn_genetic.space.space.Continuous object at 0x7fbc990abf50>,\n",
              "                       'n_estimators': <sklearn_genetic.space.space.Integer object at 0x7fbc990ab650>},\n",
              "           population_size=10, return_train_score=True, scoring='accuracy')"
            ]
          },
          "metadata": {},
          "execution_count": 338
        }
      ]
    },
    {
      "cell_type": "code",
      "execution_count": 339,
      "metadata": {
        "id": "29eab865",
        "outputId": "c36ff749-adb8-4808-bc53-399b6a800d26",
        "colab": {
          "base_uri": "https://localhost:8080/"
        }
      },
      "outputs": [
        {
          "output_type": "execute_result",
          "data": {
            "text/plain": [
              "{'min_weight_fraction_leaf': 0.010177574417251091,\n",
              " 'bootstrap': True,\n",
              " 'max_depth': 30,\n",
              " 'max_leaf_nodes': 26,\n",
              " 'n_estimators': 241}"
            ]
          },
          "metadata": {},
          "execution_count": 339
        }
      ],
      "source": [
        "evolved_estimator.best_params_"
      ]
    },
    {
      "cell_type": "code",
      "execution_count": 340,
      "metadata": {
        "id": "cdb6c8c9"
      },
      "outputs": [],
      "source": [
        "y_predicy_ga2 = evolved_estimator.predict(X_testt[:,features])\n",
        "#accuracy_score(y_test,y_predicy_ga)"
      ]
    },
    {
      "cell_type": "code",
      "execution_count": 341,
      "metadata": {
        "id": "4275d220",
        "outputId": "7b31e9d5-beaf-477c-f46f-43baa0c3a760",
        "colab": {
          "base_uri": "https://localhost:8080/",
          "height": 246
        }
      },
      "outputs": [
        {
          "output_type": "display_data",
          "data": {
            "text/plain": [
              "<Figure size 360x216 with 1 Axes>"
            ],
            "image/png": "[encoded data removed]"
          },
          "metadata": {}
        }
      ],
      "source": [
        "plt.figure(figsize=(5,3))\n",
        "plot_fitness_evolution(evolved_estimator)\n",
        "plt.show()"
      ]
    },
    {
      "cell_type": "code",
      "execution_count": 342,
      "metadata": {
        "id": "bdcd34c2",
        "outputId": "fd9f99a6-ed61-4b3a-d418-77b0527912f9",
        "colab": {
          "base_uri": "https://localhost:8080/"
        }
      },
      "outputs": [
        {
          "output_type": "stream",
          "name": "stdout",
          "text": [
            "Parámetros y sus cv_scores in cada iteración:\n",
            "                                                                                                                                                        parameters                                                                                                                                                        \n",
            "--------------------------------------------------------------------------------------------------------------------------------------------------------------------------------------------------------------------------------------------------------------------------------------------------------------------------\n",
            "bootstrap\tcv_scores                         \tfit_time                          \tindex\tmax_depth\tmax_leaf_nodes\tmin_weight_fraction_leaf\tn_estimators\tscore   \tscore_time                        \ttest_score                        \ttrain_score                       \n",
            "False    \t[0.68943227 0.69392917 0.68858909]\t[1.88712382 1.86898303 1.15230155]\t0    \t29       \t22            \t0.0250768               \t297         \t0.69065 \t[0.16034627 0.15703011 0.10608912]\t[0.68943227 0.69392917 0.68858909]\t[0.71332209 0.70222035 0.69870714]\n",
            "True     \t[0.60202361 0.60202361 0.60202361]\t[0.52035451 0.51375818 0.31387043]\t1    \t16       \t17            \t0.405921                \t145         \t0.602024\t[0.06116629 0.06137729 0.0403254 ]\t[0.60202361 0.60202361 0.60202361]\t[0.60202361 0.60202361 0.60202361]\n",
            "False    \t[0.67762788 0.68634064 0.69392917]\t[1.16035485 1.1235652  0.73763227]\t2    \t16       \t27            \t0.0309766               \t194         \t0.685966\t[0.10505867 0.1003406  0.07054591]\t[0.67762788 0.68634064 0.69392917]\t[0.70025295 0.69294547 0.6960371 ]\n",
            "True     \t[0.60202361 0.60202361 0.60680157]\t[0.92068267 0.94047832 0.58339548]\t3    \t12       \t26            \t0.142758                \t228         \t0.603616\t[0.1041081  0.1020546  0.06754327]\t[0.60202361 0.60202361 0.60680157]\t[0.60202361 0.60202361 0.60820686]\n",
            "True     \t[0.60202361 0.60202361 0.60202361]\t[0.94339705 0.95214272 0.58623958]\t4    \t23       \t2             \t0.0906112               \t242         \t0.602024\t[0.10314894 0.10338855 0.06422162]\t[0.60202361 0.60202361 0.60202361]\t[0.60202361 0.60202361 0.60202361]\n",
            "False    \t[0.63350197 0.62816189 0.65373806]\t[1.28047466 1.29878831 0.83265972]\t5    \t10       \t7             \t0.0950931               \t298         \t0.638467\t[0.13462114 0.13657308 0.09042048]\t[0.63350197 0.62816189 0.65373806]\t[0.64038786 0.62338392 0.64600899]\n",
            "True     \t[0.70039348 0.69983137 0.68746487]\t[1.47183895 1.46670914 0.90126586]\t6    \t30       \t26            \t0.0170751               \t241         \t0.695897\t[0.13193655 0.1307478  0.09137893]\t[0.70039348 0.69983137 0.68746487]\t[0.70826307 0.71374368 0.71008994]\n",
            "False    \t[0.70292299 0.69617763 0.69083755]\t[1.82121396 1.79919243 1.12727475]\t7    \t10       \t31            \t0.0101776               \t247         \t0.696646\t[0.13826704 0.13750887 0.09533167]\t[0.70292299 0.69617763 0.69083755]\t[0.71571107 0.71332209 0.71950534]\n",
            "False    \t[0.60202361 0.60202361 0.60202361]\t[0.8882854 0.8710587 0.539428 ]   \t8    \t10       \t2             \t0.0842567               \t235         \t0.602024\t[0.10722375 0.10475969 0.06165981]\t[0.60202361 0.60202361 0.60202361]\t[0.60202361 0.60202361 0.60202361]\n",
            "False    \t[0.60202361 0.60202361 0.60202361]\t[0.82922411 0.85515738 0.54215693]\t9    \t24       \t23            \t0.350513                \t281         \t0.602024\t[0.11674643 0.1186161  0.07407117]\t[0.60202361 0.60202361 0.60202361]\t[0.60202361 0.60202361 0.60202361]\n",
            "True     \t[0.60905003 0.60286678 0.60202361]\t[0.65670657 0.65287495 0.40111089]\t10   \t12       \t26            \t0.142758                \t159         \t0.604647\t[0.07628036 0.08934927 0.04651546]\t[0.60905003 0.60286678 0.60202361]\t[0.60947161 0.60399101 0.60202361]\n",
            "True     \t[0.60202361 0.60202361 0.60202361]\t[0.95172477 0.95180917 0.58238673]\t11   \t16       \t2             \t0.0842567               \t235         \t0.602024\t[0.10147953 0.10021663 0.06381083]\t[0.60202361 0.60202361 0.60202361]\t[0.60202361 0.60202361 0.60202361]\n",
            "False    \t[0.69449129 0.67875211 0.68437324]\t[1.14848828 1.13267016 0.74173331]\t12   \t24       \t27            \t0.0309766               \t194         \t0.685872\t[0.11107063 0.09949374 0.07142329]\t[0.69449129 0.67875211 0.68437324]\t[0.70362563 0.68872962 0.70474986]\n",
            "False    \t[0.68858909 0.70095559 0.68128162]\t[1.83793879 1.82999134 1.15510058]\t13   \t16       \t22            \t0.0250768               \t297         \t0.690275\t[0.15882254 0.17316127 0.1104002 ]\t[0.68858909 0.70095559 0.68128162]\t[0.71416526 0.69786397 0.7034851 ]\n",
            "False    \t[0.64277684 0.63603148 0.64362001]\t[1.06606174 1.04280615 0.69378185]\t14   \t24       \t23            \t0.0842567               \t235         \t0.640809\t[0.11992288 0.10808992 0.07209039]\t[0.64277684 0.63603148 0.64362001]\t[0.64881956 0.63827993 0.64657111]\n",
            "False    \t[0.6950534  0.68999438 0.68718381]\t[1.61834502 1.59022331 1.04657936]\t15   \t29       \t22            \t0.0250768               \t261         \t0.690744\t[0.13627386 0.1357646  0.09578848]\t[0.6950534  0.68999438 0.68718381]\t[0.70137718 0.70306352 0.70798201]\n",
            "False    \t[0.68577853 0.68521641 0.68521641]\t[1.15217137 1.13678551 0.73095632]\t16   \t23       \t27            \t0.0309766               \t194         \t0.685404\t[0.10088158 0.10035348 0.06891012]\t[0.68577853 0.68521641 0.68521641]\t[0.70784148 0.69041596 0.69758291]\n",
            "True     \t[0.60202361 0.60202361 0.60202361]\t[0.95538259 0.94156456 0.62986231]\t17   \t23       \t2             \t0.0906112               \t242         \t0.602024\t[0.10473871 0.1044364  0.06548691]\t[0.60202361 0.60202361 0.60202361]\t[0.60202361 0.60202361 0.60202361]\n",
            "True     \t[0.60202361 0.60202361 0.60202361]\t[0.95629859 0.94199419 0.58456707]\t18   \t10       \t2             \t0.0906112               \t242         \t0.602024\t[0.10736537 0.1040988  0.064363  ]\t[0.60202361 0.60202361 0.60202361]\t[0.60202361 0.60202361 0.60202361]\n",
            "False    \t[0.66975829 0.653457   0.63799888]\t[1.03754425 1.04847145 0.63511229]\t19   \t12       \t26            \t0.0842567               \t228         \t0.653738\t[0.11345792 0.11084795 0.07352877]\t[0.66975829 0.653457   0.63799888]\t[0.67467678 0.6554244  0.63589095]\n",
            "True     \t[0.60202361 0.60202361 0.60202361]\t[1.04169965 1.03419018 0.6259613 ]\t20   \t23       \t2             \t0.0906112               \t262         \t0.602024\t[0.1147511  0.11401081 0.07791209]\t[0.60202361 0.60202361 0.60202361]\t[0.60202361 0.60202361 0.60202361]\n",
            "False    \t[0.70264193 0.68605958 0.68690275]\t[1.22278333 1.21076226 0.76433206]\t21   \t29       \t22            \t0.0250768               \t194         \t0.691868\t[0.10587597 0.10546708 0.07026887]\t[0.70264193 0.68605958 0.68690275]\t[0.70306352 0.6970208  0.7093873 ]\n",
            "False    \t[0.60202361 0.60202361 0.60202361]\t[0.46089053 0.44301081 0.27702498]\t22   \t16       \t17            \t0.405921                \t145         \t0.602024\t[0.06232357 0.06260514 0.03901505]\t[0.60202361 0.60202361 0.60202361]\t[0.60202361 0.60202361 0.60202361]\n",
            "True     \t[0.60202361 0.60202361 0.60202361]\t[0.97087169 1.00928617 0.61320019]\t23   \t16       \t17            \t0.350513                \t281         \t0.602024\t[0.11902905 0.1217525  0.07346988]\t[0.60202361 0.60202361 0.60202361]\t[0.60202361 0.60202361 0.60202361]\n",
            "False    \t[0.60202361 0.60202361 0.60202361]\t[0.88135648 0.84887576 0.53819489]\t24   \t29       \t2             \t0.0842567               \t235         \t0.602024\t[0.10373044 0.10217905 0.06365895]\t[0.60202361 0.60202361 0.60202361]\t[0.60202361 0.60202361 0.60202361]\n",
            "True     \t[0.63209668 0.65261383 0.61495222]\t[1.30429673 1.32030988 0.81312299]\t25   \t10       \t7             \t0.0950931               \t298         \t0.633221\t[0.13579154 0.13669586 0.08908415]\t[0.63209668 0.65261383 0.61495222]\t[0.63673412 0.6524733  0.61565486]\n",
            "True     \t[0.60202361 0.60905003 0.61354694]\t[0.9888308  1.02764106 0.63881254]\t26   \t12       \t31            \t0.142758                \t247         \t0.608207\t[0.10852504 0.10987973 0.07360053]\t[0.60202361 0.60905003 0.61354694]\t[0.60202361 0.61312535 0.61073637]\n",
            "True     \t[0.60202361 0.60202361 0.60202361]\t[0.83963799 0.86877394 0.54623175]\t27   \t23       \t2             \t0.350513                \t242         \t0.602024\t[0.10075641 0.10181451 0.06523991]\t[0.60202361 0.60202361 0.60202361]\t[0.60202361 0.60202361 0.60202361]\n",
            "True     \t[0.70376616 0.69111861 0.69730185]\t[1.36190701 1.36230874 0.86875176]\t28   \t12       \t26            \t0.0170751               \t228         \t0.697396\t[0.14408469 0.12894702 0.08719945]\t[0.70376616 0.69111861 0.69730185]\t[0.71149522 0.70812254 0.71219786]\n",
            "True     \t[0.60202361 0.60202361 0.60202361]\t[0.95360827 0.94403601 0.58364892]\t29   \t12       \t23            \t0.142758                \t228         \t0.602024\t[0.10345554 0.10358834 0.0673728 ]\t[0.60202361 0.60202361 0.60202361]\t[0.60230467 0.60202361 0.60202361]\n",
            "False    \t[0.69196178 0.68437324 0.69055649]\t[1.22774935 1.21062565 0.76948357]\t30   \t29       \t22            \t0.0250768               \t194         \t0.688964\t[0.10361266 0.10180902 0.07145452]\t[0.69196178 0.68437324 0.69055649]\t[0.70573356 0.70165823 0.7054525 ]\n",
            "True     \t[0.60202361 0.60202361 0.60202361]\t[0.89322424 0.90555239 0.5732851 ]\t31   \t30       \t26            \t0.242994                \t241         \t0.602024\t[0.10419559 0.12294722 0.06568694]\t[0.60202361 0.60202361 0.60202361]\t[0.60202361 0.60202361 0.60202361]\n",
            "False    \t[0.68521641 0.69814503 0.69027544]\t[1.24909949 1.20095444 0.77898836]\t32   \t29       \t22            \t0.0250768               \t194         \t0.691212\t[0.10385919 0.10226822 0.073879  ]\t[0.68521641 0.69814503 0.69027544]\t[0.70264193 0.70264193 0.70292299]\n",
            "False    \t[0.67200675 0.69814503 0.68802698]\t[1.12832785 1.17719197 0.74615049]\t33   \t24       \t21            \t0.0309766               \t194         \t0.68606 \t[0.09998059 0.1001811  0.06941462]\t[0.67200675 0.69814503 0.68802698]\t[0.70264193 0.69828555 0.69027544]\n",
            "False    \t[0.693086   0.69645868 0.6950534 ]\t[1.55877209 1.57937145 1.00035095]\t34   \t12       \t26            \t0.0170751               \t228         \t0.694866\t[0.12666011 0.1265049  0.08702374]\t[0.693086   0.69645868 0.6950534 ]\t[0.71191681 0.70770096 0.71458685]\n",
            "True     \t[0.69786397 0.69027544 0.70123665]\t[1.39388537 1.39289451 0.87469029]\t35   \t29       \t26            \t0.0170751               \t228         \t0.696459\t[0.12486267 0.12504768 0.08655691]\t[0.69786397 0.69027544 0.70123665]\t[0.71177628 0.7168353  0.70615514]\n",
            "False    \t[0.70179876 0.69477234 0.68184373]\t[0.90905833 0.89092612 0.55598235]\t36   \t16       \t17            \t0.0250768               \t145         \t0.692805\t[0.07683611 0.07652402 0.0530417 ]\t[0.70179876 0.69477234 0.68184373]\t[0.70966835 0.70011242 0.70011242]\n",
            "True     \t[0.68718381 0.70460933 0.69533446]\t[1.35421801 1.40265751 0.90560627]\t37   \t29       \t26            \t0.0170751               \t228         \t0.695709\t[0.14553142 0.12958717 0.08826733]\t[0.68718381 0.70460933 0.69533446]\t[0.71008994 0.70868465 0.71037099]\n",
            "False    \t[0.69055649 0.70123665 0.69730185]\t[1.6921196  1.68743277 1.05407214]\t38   \t10       \t31            \t0.0170751               \t247         \t0.696365\t[0.13861513 0.13774371 0.09581065]\t[0.69055649 0.70123665 0.69730185]\t[0.71543002 0.71079258 0.71360315]\n",
            "False    \t[0.68802698 0.69561551 0.6826869 ]\t[1.67727447 1.63354301 1.04290795]\t39   \t29       \t22            \t0.0250768               \t261         \t0.688776\t[0.16129017 0.14160633 0.09546065]\t[0.68802698 0.69561551 0.6826869 ]\t[0.69350759 0.71093311 0.70966835]\n",
            "False    \t[0.68240585 0.68156268 0.68943227]\t[1.16665006 1.12786937 0.72379446]\t40   \t24       \t27            \t0.0309766               \t194         \t0.684467\t[0.10061336 0.10022545 0.0682447 ]\t[0.68240585 0.68156268 0.68943227]\t[0.69266442 0.69744238 0.69940978]\n",
            "False    \t[0.68690275 0.69673974 0.69364812]\t[1.20873094 1.21971512 0.7581141 ]\t41   \t12       \t22            \t0.0250768               \t194         \t0.69243 \t[0.10502958 0.10370493 0.07269168]\t[0.68690275 0.69673974 0.69364812]\t[0.70671726 0.71149522 0.70137718]\n",
            "True     \t[0.70573356 0.68353007 0.6970208 ]\t[1.10852981 1.10375738 0.6895926 ]\t42   \t30       \t22            \t0.0250768               \t194         \t0.695428\t[0.1099298  0.11818886 0.070611  ]\t[0.70573356 0.68353007 0.6970208 ]\t[0.70362563 0.70784148 0.70489039]\n",
            "True     \t[0.7054525  0.69224283 0.69139966]\t[1.44542265 1.43731833 0.90322161]\t43   \t29       \t22            \t0.0170751               \t241         \t0.696365\t[0.1330266  0.13148999 0.09020066]\t[0.7054525  0.69224283 0.69139966]\t[0.70474986 0.7034851  0.71795953]\n",
            "True     \t[0.69392917 0.6950534  0.7034851 ]\t[1.52200675 1.54009032 0.97392964]\t44   \t30       \t26            \t0.0101776               \t241         \t0.697489\t[0.13164377 0.13214707 0.1027174 ]\t[0.69392917 0.6950534  0.7034851 ]\t[0.717819   0.71219786 0.71290051]\n",
            "False    \t[0.69139966 0.68634064 0.68184373]\t[1.22560382 1.16868663 0.78032446]\t45   \t16       \t17            \t0.0250768               \t194         \t0.686528\t[0.10391521 0.10115004 0.07112765]\t[0.69139966 0.68634064 0.68184373]\t[0.71163575 0.68929174 0.70573356]\n",
            "False    \t[0.69336706 0.69336706 0.69955031]\t[1.23293447 1.18675971 0.78249264]\t46   \t29       \t22            \t0.0250768               \t194         \t0.695428\t[0.1123085  0.11304545 0.07791615]\t[0.69336706 0.69336706 0.69955031]\t[0.71233839 0.70193929 0.70868465]\n",
            "False    \t[0.69477234 0.68971332 0.68943227]\t[1.20938134 1.19562554 0.76756573]\t47   \t29       \t22            \t0.0250768               \t194         \t0.691306\t[0.10200119 0.10235    0.0719614 ]\t[0.69477234 0.68971332 0.68943227]\t[0.70460933 0.70601461 0.70629567]\n",
            "False    \t[0.68521641 0.69168072 0.68802698]\t[1.16931581 1.22182107 0.79307127]\t48   \t10       \t31            \t0.0250768               \t194         \t0.688308\t[0.10266924 0.11755705 0.07408619]\t[0.68521641 0.69168072 0.68802698]\t[0.69758291 0.69926925 0.71824058]\n",
            "False    \t[0.69027544 0.69814503 0.70432827]\t[1.77098513 1.75590515 1.1640029 ]\t49   \t10       \t31            \t0.0101776               \t247         \t0.697583\t[0.14427018 0.15254688 0.10027838]\t[0.69027544 0.69814503 0.70432827]\t[0.71472737 0.71950534 0.7148679 ]\n",
            "False    \t[0.69814503 0.68521641 0.70432827]\t[1.31487656 1.2893157  0.82666159]\t50   \t29       \t22            \t0.0170751               \t194         \t0.695897\t[0.10732388 0.1057651  0.07164931]\t[0.69814503 0.68521641 0.70432827]\t[0.71121417 0.71318156 0.70320405]\n",
            "False    \t[0.68690275 0.69673974 0.70039348]\t[2.02278829 1.99136591 1.27431297]\t51   \t12       \t26            \t0.0170751               \t297         \t0.694679\t[0.16187596 0.1611073  0.11939192]\t[0.68690275 0.69673974 0.70039348]\t[0.72034851 0.70713884 0.70784148]\n",
            "True     \t[0.70657673 0.69168072 0.70067454]\t[1.38713861 1.37119818 0.84299302]\t52   \t12       \t26            \t0.0170751               \t228         \t0.699644\t[0.12474442 0.123698   0.08759379]\t[0.70657673 0.69168072 0.70067454]\t[0.7034851  0.71599213 0.71360315]\n",
            "False    \t[0.69392917 0.69983137 0.70207982]\t[1.5135653  1.53746915 0.97343731]\t53   \t12       \t26            \t0.0170751               \t228         \t0.698613\t[0.13068509 0.12862158 0.09181547]\t[0.69392917 0.69983137 0.70207982]\t[0.71613266 0.71163575 0.71725689]\n",
            "False    \t[0.68830804 0.69168072 0.68830804]\t[1.56034756 1.52193999 0.97668457]\t54   \t29       \t31            \t0.0250768               \t247         \t0.689432\t[0.13163257 0.13339257 0.08992076]\t[0.68830804 0.69168072 0.68830804]\t[0.71543002 0.71037099 0.69238336]\n",
            "True     \t[0.70011242 0.69055649 0.69758291]\t[0.71156836 0.71452022 0.43194628]\t55   \t12       \t26            \t0.0170751               \t116         \t0.696084\t[0.06467295 0.06385612 0.04606462]\t[0.70011242 0.69055649 0.69758291]\t[0.71346262 0.71458685 0.7044688 ]\n",
            "False    \t[0.70685779 0.70067454 0.68071951]\t[1.5781033  1.52129745 0.97294497]\t56   \t12       \t26            \t0.0170751               \t228         \t0.696084\t[0.1236701  0.12358308 0.08565593]\t[0.70685779 0.70067454 0.68071951]\t[0.70966835 0.71275998 0.71753794]\n",
            "False    \t[0.68128162 0.693086   0.6950534 ]\t[1.15307951 1.17574763 1.12448072]\t57   \t29       \t22            \t0.0250768               \t186         \t0.689807\t[0.10971284 0.11071563 0.09093976]\t[0.68128162 0.693086   0.6950534 ]\t[0.71360315 0.6980045  0.70137718]\n",
            "False    \t[0.69421023 0.68943227 0.69955031]\t[2.06020474 2.14739537 1.26914382]\t58   \t12       \t22            \t0.0170751               \t297         \t0.694398\t[0.15860844 0.16628432 0.11123323]\t[0.69421023 0.68943227 0.69955031]\t[0.71177628 0.71149522 0.71093311]\n",
            "True     \t[0.70067454 0.70489039 0.70320405]\t[1.48527384 1.50927091 0.94178486]\t59   \t30       \t26            \t0.0101776               \t241         \t0.702923\t[0.13123131 0.13327813 0.09064603]\t[0.70067454 0.70489039 0.70320405]\t[0.71346262 0.71599213 0.7148679 ]\n",
            "True     \t[0.69645868 0.69364812 0.6989882 ]\t[1.3880868  1.39471698 0.86760283]\t60   \t29       \t22            \t0.0170751               \t228         \t0.696365\t[0.1231463  0.12274456 0.08479595]\t[0.69645868 0.69364812 0.6989882 ]\t[0.71346262 0.70896571 0.70896571]\n",
            "True     \t[0.69336706 0.69842608 0.70657673]\t[1.59553242 1.59092259 1.00889993]\t61   \t30       \t31            \t0.0101776               \t247         \t0.699457\t[0.13934779 0.13923955 0.09866452]\t[0.69336706 0.69842608 0.70657673]\t[0.7188027  0.71500843 0.71051152]\n",
            "False    \t[0.6950534  0.69280495 0.68802698]\t[1.24689889 1.23470926 0.74942279]\t62   \t29       \t22            \t0.0250768               \t194         \t0.691962\t[0.10468292 0.10302281 0.07308817]\t[0.6950534  0.69280495 0.68802698]\t[0.70095559 0.7054525  0.71008994]\n",
            "False    \t[0.68437324 0.70517144 0.7034851 ]\t[1.67743707 1.72178793 1.1487093 ]\t63   \t10       \t26            \t0.0101776               \t247         \t0.697677\t[0.13573647 0.13663363 0.0934546 ]\t[0.68437324 0.70517144 0.7034851 ]\t[0.71374368 0.71093311 0.71374368]\n",
            "False    \t[0.68071951 0.69730185 0.69139966]\t[1.81602287 1.86864948 1.21803975]\t64   \t12       \t22            \t0.0250768               \t297         \t0.689807\t[0.15691376 0.1556406  0.10759187]\t[0.68071951 0.69730185 0.69139966]\t[0.70334458 0.70264193 0.69814503]\n",
            "False    \t[0.68493536 0.69252389 0.69870714]\t[1.22036839 1.20627809 0.77903008]\t65   \t29       \t22            \t0.0250768               \t194         \t0.692055\t[0.10312176 0.10324621 0.07208848]\t[0.68493536 0.69252389 0.69870714]\t[0.71528949 0.7084036  0.70404722]\n",
            "False    \t[0.69842608 0.68971332 0.69421023]\t[1.8827157  1.85201287 1.20035267]\t66   \t10       \t22            \t0.0250768               \t297         \t0.694117\t[0.16166425 0.16037464 0.10897374]\t[0.69842608 0.68971332 0.69421023]\t[0.70770096 0.6989882  0.71037099]\n",
            "True     \t[0.69983137 0.69196178 0.70460933]\t[1.43523574 1.45243263 0.92359662]\t67   \t12       \t26            \t0.0101776               \t228         \t0.698801\t[0.12642527 0.1262393  0.08735919]\t[0.69983137 0.69196178 0.70460933]\t[0.70994941 0.71725689 0.71051152]\n",
            "False    \t[0.69336706 0.69842608 0.69673974]\t[2.0416739  2.09844017 1.29376721]\t68   \t12       \t26            \t0.0170751               \t297         \t0.696178\t[0.16373754 0.16258264 0.11397815]\t[0.69336706 0.69842608 0.69673974]\t[0.70671726 0.71543002 0.70980888]\n",
            "False    \t[0.69421023 0.68858909 0.7054525 ]\t[1.31955481 1.2701683  0.84555602]\t69   \t21       \t22            \t0.0170751               \t194         \t0.696084\t[0.1125679  0.11718225 0.07577825]\t[0.69421023 0.68858909 0.7054525 ]\t[0.71557055 0.69856661 0.70784148]\n",
            "False    \t[0.6826869  0.69673974 0.69561551]\t[1.84140277 1.85826778 1.18858027]\t70   \t12       \t26            \t0.0250768               \t297         \t0.691681\t[0.15811491 0.15842772 0.1095109 ]\t[0.6826869  0.69673974 0.69561551]\t[0.70601461 0.70222035 0.70685779]\n",
            "True     \t[0.70489039 0.69196178 0.69786397]\t[1.51179719 1.51951528 0.9363451 ]\t71   \t30       \t26            \t0.0101776               \t241         \t0.698239\t[0.13276196 0.13350201 0.09821153]\t[0.70489039 0.69196178 0.69786397]\t[0.70882518 0.71360315 0.71571107]\n",
            "False    \t[0.70095559 0.69589657 0.6989882 ]\t[1.69666457 1.7435751  1.13327289]\t72   \t12       \t26            \t0.0101776               \t247         \t0.698613\t[0.143332   0.14678311 0.09475684]\t[0.70095559 0.69589657 0.6989882 ]\t[0.71205734 0.71908375 0.71627319]\n",
            "False    \t[0.70011242 0.693086   0.69533446]\t[1.62464356 1.64651489 1.05362701]\t73   \t29       \t22            \t0.0101776               \t241         \t0.696178\t[0.1298089  0.13219023 0.09188986]\t[0.70011242 0.693086   0.69533446]\t[0.71261945 0.71697583 0.71402473]\n",
            "False    \t[0.69983137 0.69758291 0.69111861]\t[1.36507773 1.30010581 0.84494066]\t74   \t29       \t22            \t0.0101776               \t194         \t0.696178\t[0.10521221 0.10432386 0.07158065]\t[0.69983137 0.69758291 0.69111861]\t[0.7168353  0.7138842  0.71177628]\n",
            "True     \t[0.70264193 0.69421023 0.70320405]\t[0.93555021 0.9109962  0.5807476 ]\t75   \t12       \t26            \t0.0170751               \t148         \t0.700019\t[0.08287525 0.08205009 0.05743623]\t[0.70264193 0.69421023 0.70320405]\t[0.70713884 0.7168353  0.70798201]\n",
            "True     \t[0.70151771 0.68999438 0.68915121]\t[1.37519312 1.39759946 0.86409211]\t76   \t12       \t26            \t0.0170751               \t228         \t0.693554\t[0.14434791 0.12891054 0.08800364]\t[0.70151771 0.68999438 0.68915121]\t[0.7074199  0.70770096 0.71557055]\n",
            "False    \t[0.70011242 0.69673974 0.69926925]\t[1.57083678 1.57967186 0.99092269]\t77   \t10       \t26            \t0.0170751               \t228         \t0.698707\t[0.12860084 0.14631391 0.08727407]\t[0.70011242 0.69673974 0.69926925]\t[0.71402473 0.71360315 0.70854413]\n",
            "False    \t[0.69814503 0.69645868 0.69758291]\t[1.70170498 1.69603324 1.09941411]\t78   \t10       \t26            \t0.0101776               \t241         \t0.697396\t[0.13236761 0.13247752 0.09352589]\t[0.69814503 0.69645868 0.69758291]\t[0.71613266 0.71318156 0.71458685]\n",
            "True     \t[0.68409219 0.69955031 0.70713884]\t[1.53085876 1.52758789 0.9520824 ]\t79   \t30       \t31            \t0.0170751               \t247         \t0.696927\t[0.13638878 0.13645697 0.09497952]\t[0.68409219 0.69955031 0.70713884]\t[0.71444632 0.71458685 0.7044688 ]\n",
            "False    \t[0.69589657 0.69421023 0.70067454]\t[2.01554775 2.00923204 1.28735256]\t80   \t10       \t31            \t0.0170751               \t297         \t0.696927\t[0.16263127 0.16354847 0.11438966]\t[0.69589657 0.69421023 0.70067454]\t[0.71571107 0.71767847 0.71023047]\n",
            "True     \t[0.68858909 0.71416526 0.69280495]\t[1.47971153 1.47095966 0.95054865]\t81   \t18       \t26            \t0.0101776               \t241         \t0.69852 \t[0.1318984  0.13160539 0.09173298]\t[0.68858909 0.71416526 0.69280495]\t[0.71866217 0.70432827 0.72034851]\n",
            "True     \t[0.7034851  0.69392917 0.70376616]\t[1.49364233 1.46448612 0.96466589]\t82   \t12       \t26            \t0.0101776               \t241         \t0.700393\t[0.13312793 0.13046694 0.0922606 ]\t[0.7034851  0.69392917 0.70376616]\t[0.71247892 0.71557055 0.7148679 ]\n",
            "True     \t[0.70236088 0.69926925 0.69645868]\t[1.3837738  1.41751122 0.88994265]\t83   \t30       \t31            \t0.0170751               \t228         \t0.699363\t[0.12709594 0.12801743 0.08840919]\t[0.70236088 0.69926925 0.69645868]\t[0.70952782 0.70994941 0.71346262]\n",
            "False    \t[0.69083755 0.70095559 0.68999438]\t[1.80863118 1.85201216 1.17661357]\t84   \t29       \t22            \t0.0250768               \t297         \t0.693929\t[0.17416835 0.16094995 0.10991597]\t[0.69083755 0.70095559 0.68999438]\t[0.70390669 0.70615514 0.70671726]\n",
            "True     \t[0.70657673 0.68802698 0.69392917]\t[1.8094008  1.83877158 1.17902207]\t85   \t30       \t26            \t0.0101776               \t297         \t0.696178\t[0.16128588 0.16226101 0.11202788]\t[0.70657673 0.68802698 0.69392917]\t[0.70390669 0.72105115 0.71697583]\n",
            "False    \t[0.68830804 0.69842608 0.70292299]\t[1.74355793 1.69774389 1.08732104]\t86   \t10       \t26            \t0.0101776               \t241         \t0.696552\t[0.13256431 0.13224483 0.09022284]\t[0.68830804 0.69842608 0.70292299]\t[0.71964587 0.71543002 0.71304103]\n",
            "True     \t[0.7034851  0.69364812 0.693086  ]\t[1.40477777 1.42730403 0.91661692]\t87   \t18       \t26            \t0.0101776               \t228         \t0.69674 \t[0.12483859 0.12312865 0.08754683]\t[0.7034851  0.69364812 0.693086  ]\t[0.70657673 0.71304103 0.71669477]\n",
            "True     \t[0.69730185 0.69758291 0.7034851 ]\t[1.57577467 1.62487864 1.01905799]\t88   \t12       \t31            \t0.0101776               \t247         \t0.699457\t[0.13909578 0.14102793 0.09733438]\t[0.69730185 0.69758291 0.7034851 ]\t[0.71051152 0.71908375 0.71444632]\n",
            "True     \t[0.69617763 0.68971332 0.70207982]\t[1.42390227 1.41269875 0.87866688]\t89   \t12       \t26            \t0.0101776               \t228         \t0.69599 \t[0.1269083  0.1270287  0.08596754]\t[0.69617763 0.68971332 0.70207982]\t[0.71500843 0.72062957 0.71008994]\n",
            "True     \t[0.68943227 0.69561551 0.70376616]\t[1.51054192 1.48890352 0.94170332]\t90   \t12       \t26            \t0.0170751               \t247         \t0.696271\t[0.13531804 0.13554645 0.09752798]\t[0.68943227 0.69561551 0.70376616]\t[0.70236088 0.7138842  0.71135469]\n",
            "True     \t[0.70629567 0.70179876 0.69477234]\t[1.60398006 1.61245799 1.00476003]\t91   \t18       \t31            \t0.0101776               \t247         \t0.700956\t[0.13945746 0.14005709 0.1054635 ]\t[0.70629567 0.70179876 0.69477234]\t[0.7148679  0.71767847 0.7148679 ]\n",
            "True     \t[0.70966835 0.69224283 0.69168072]\t[1.50474215 1.49043345 0.94380522]\t92   \t12       \t26            \t0.0101776               \t241         \t0.697864\t[0.13121533 0.13034987 0.09149742]\t[0.70966835 0.69224283 0.69168072]\t[0.70868465 0.72062957 0.71655424]\n",
            "False    \t[0.68746487 0.70685779 0.69870714]\t[1.6510725  1.71459055 1.11299467]\t93   \t12       \t26            \t0.0101776               \t241         \t0.697677\t[0.1508584  0.15510488 0.09259892]\t[0.68746487 0.70685779 0.69870714]\t[0.71894323 0.7148679  0.71739741]\n",
            "True     \t[0.69870714 0.69870714 0.6950534 ]\t[1.39581466 1.43681955 0.90450668]\t94   \t30       \t31            \t0.0170751               \t228         \t0.697489\t[0.12830424 0.12723851 0.09055662]\t[0.69870714 0.69870714 0.6950534 ]\t[0.71472737 0.71093311 0.71247892]\n",
            "True     \t[0.69786397 0.70095559 0.69252389]\t[1.54919314 1.53094554 0.9408493 ]\t95   \t12       \t26            \t0.0101776               \t241         \t0.697114\t[0.13158631 0.13124204 0.09138227]\t[0.69786397 0.70095559 0.69252389]\t[0.71374368 0.71233839 0.71571107]\n",
            "False    \t[0.693086   0.69673974 0.69926925]\t[1.68904209 1.71076941 1.09870625]\t96   \t10       \t31            \t0.0170751               \t247         \t0.696365\t[0.13629055 0.1367178  0.09715772]\t[0.693086   0.69673974 0.69926925]\t[0.71444632 0.70980888 0.71444632]\n",
            "True     \t[0.69561551 0.69870714 0.69926925]\t[1.54122901 1.50473022 0.95396304]\t97   \t18       \t26            \t0.0101776               \t241         \t0.697864\t[0.13128018 0.13119745 0.10148454]\t[0.69561551 0.69870714 0.69926925]\t[0.71472737 0.71149522 0.7188027 ]\n",
            "True     \t[0.70067454 0.69814503 0.69252389]\t[1.53585362 1.48594308 0.93735814]\t98   \t12       \t26            \t0.0101776               \t241         \t0.697114\t[0.13240647 0.13229752 0.09934378]\t[0.70067454 0.69814503 0.69252389]\t[0.71107364 0.70924677 0.71725689]\n",
            "True     \t[0.69842608 0.69758291 0.69280495]\t[1.50051904 1.50298452 0.93091083]\t99   \t12       \t26            \t0.0170751               \t247         \t0.696271\t[0.13803697 0.13802814 0.09407568]\t[0.69842608 0.69758291 0.69280495]\t[0.70994941 0.71135469 0.70924677]\n",
            "False    \t[0.70067454 0.70264193 0.69673974]\t[1.73278427 1.75984025 1.12047696]\t100  \t12       \t26            \t0.0101776               \t247         \t0.700019\t[0.1354444  0.13651681 0.09527874]\t[0.70067454 0.70264193 0.69673974]\t[0.71810006 0.71697583 0.71655424]\n",
            "True     \t[0.7054525  0.69786397 0.70067454]\t[1.5482657  1.57187843 0.97391868]\t101  \t12       \t26            \t0.0101776               \t247         \t0.70133 \t[0.13471675 0.1353631  0.09509492]\t[0.7054525  0.69786397 0.70067454]\t[0.71093311 0.71374368 0.71304103]\n",
            "True     \t[0.69870714 0.69786397 0.69758291]\t[1.49782157 1.54772115 0.9699049 ]\t102  \t12       \t26            \t0.0101776               \t241         \t0.698051\t[0.12979031 0.131634   0.09364605]\t[0.69870714 0.69786397 0.69758291]\t[0.71008994 0.71177628 0.71964587]\n",
            "True     \t[0.70095559 0.71051152 0.69421023]\t[1.44018865 1.41591239 0.90797257]\t103  \t18       \t26            \t0.0101776               \t228         \t0.701892\t[0.12523222 0.12414074 0.0865469 ]\t[0.70095559 0.71051152 0.69421023]\t[0.71304103 0.71416526 0.71641372]\n",
            "False    \t[0.69870714 0.68690275 0.70264193]\t[1.71131825 1.68575692 1.074615  ]\t104  \t12       \t26            \t0.0101776               \t241         \t0.696084\t[0.13209867 0.13140106 0.09109807]\t[0.69870714 0.68690275 0.70264193]\t[0.72175379 0.71374368 0.71008994]\n",
            "True     \t[0.69392917 0.7034851  0.69561551]\t[1.53422499 1.58818221 1.01635385]\t105  \t18       \t31            \t0.0101776               \t241         \t0.697677\t[0.13777542 0.15697575 0.09556746]\t[0.69392917 0.7034851  0.69561551]\t[0.71275998 0.71304103 0.71753794]\n",
            "True     \t[0.71416526 0.69083755 0.69336706]\t[1.40325928 1.41881871 0.90342522]\t106  \t6        \t26            \t0.0101776               \t241         \t0.699457\t[0.14464927 0.13812089 0.09086084]\t[0.71416526 0.69083755 0.69336706]\t[0.70320405 0.71149522 0.71838111]\n",
            "True     \t[0.6989882  0.70629567 0.68493536]\t[1.55730271 1.55293369 0.94929647]\t107  \t12       \t26            \t0.0101776               \t247         \t0.69674 \t[0.13676953 0.13605928 0.09376693]\t[0.6989882  0.70629567 0.68493536]\t[0.71936481 0.71065205 0.71346262]\n",
            "False    \t[0.70460933 0.69364812 0.70236088]\t[1.71494126 1.74382639 1.09848118]\t108  \t12       \t26            \t0.0101776               \t241         \t0.700206\t[0.13065886 0.13125324 0.09382129]\t[0.70460933 0.69364812 0.70236088]\t[0.71416526 0.72119168 0.71641372]\n",
            "True     \t[0.70629567 0.68634064 0.70039348]\t[1.49613452 1.54529667 0.97425842]\t109  \t18       \t26            \t0.0101776               \t241         \t0.697677\t[0.13720798 0.13513327 0.09233618]\t[0.70629567 0.68634064 0.70039348]\t[0.71261945 0.72020798 0.70826307]\n",
            "False    \t[0.69139966 0.70404722 0.70207982]\t[1.72273135 1.75076079 1.08786154]\t110  \t12       \t26            \t0.0101776               \t241         \t0.699176\t[0.13423157 0.15253568 0.090698  ]\t[0.69139966 0.70404722 0.70207982]\t[0.7188027  0.7158516  0.71079258]\n",
            "False    \t[0.69758291 0.70629567 0.69252389]\t[1.7835989  1.73541427 1.12461019]\t111  \t18       \t26            \t0.0101776               \t247         \t0.698801\t[0.13739419 0.13626194 0.09371972]\t[0.69758291 0.70629567 0.69252389]\t[0.71318156 0.70882518 0.72062957]\n",
            "True     \t[0.70095559 0.68802698 0.70067454]\t[1.48223042 1.47126532 1.00037074]\t112  \t18       \t26            \t0.0101776               \t228         \t0.696552\t[0.12665749 0.12645173 0.11754251]\t[0.70095559 0.68802698 0.70067454]\t[0.71725689 0.71922428 0.71191681]\n",
            "True     \t[0.7074199  0.70236088 0.68634064]\t[2.10423851 2.20521474 1.04044771]\t113  \t18       \t31            \t0.0101776               \t241         \t0.698707\t[0.13418603 0.13444042 0.09414625]\t[0.7074199  0.70236088 0.68634064]\t[0.71037099 0.71360315 0.72048904]\n",
            "True     \t[0.69870714 0.69392917 0.70179876]\t[1.56322551 1.59962177 0.9770112 ]\t114  \t12       \t26            \t0.0101776               \t247         \t0.698145\t[0.13631535 0.13678837 0.09352851]\t[0.69870714 0.69392917 0.70179876]\t[0.71332209 0.71500843 0.71360315]\n",
            "True     \t[0.69392917 0.69673974 0.70601461]\t[1.52127147 1.52918005 1.00832272]\t115  \t29       \t26            \t0.0101776               \t247         \t0.698895\t[0.13728213 0.13684106 0.10068727]\t[0.69392917 0.69673974 0.70601461]\t[0.71641372 0.71275998 0.71346262]\n",
            "False    \t[0.69477234 0.70039348 0.69870714]\t[1.66378832 1.78389692 1.13910675]\t116  \t12       \t26            \t0.0101776               \t241         \t0.697958\t[0.14824724 0.13337135 0.09395838]\t[0.69477234 0.70039348 0.69870714]\t[0.71613266 0.71290051 0.7168353 ]\n",
            "False    \t[0.69617763 0.70179876 0.68858909]\t[1.70844984 1.84231925 1.18442774]\t117  \t12       \t26            \t0.0101776               \t247         \t0.695522\t[0.1336143  0.13536119 0.09597397]\t[0.69617763 0.70179876 0.68858909]\t[0.71543002 0.71219786 0.7188027 ]\n",
            "True     \t[0.6989882  0.69926925 0.70039348]\t[1.5406003  1.55243182 0.97988153]\t118  \t12       \t26            \t0.0101776               \t247         \t0.69955 \t[0.13424611 0.13484836 0.09974575]\t[0.6989882  0.69926925 0.70039348]\t[0.71444632 0.71430579 0.71346262]\n",
            "True     \t[0.68690275 0.69758291 0.70404722]\t[1.53331351 1.56903172 0.95913553]\t119  \t12       \t26            \t0.0101776               \t247         \t0.696178\t[0.13514972 0.13882899 0.09339404]\t[0.68690275 0.69758291 0.70404722]\t[0.72006745 0.71332209 0.70854413]\n",
            "True     \t[0.70854413 0.68718381 0.69589657]\t[1.50313759 1.54599571 0.95572114]\t120  \t12       \t26            \t0.0101776               \t241         \t0.697208\t[0.15055299 0.13137221 0.09258795]\t[0.70854413 0.68718381 0.69589657]\t[0.70882518 0.71964587 0.71444632]\n",
            "True     \t[0.69449129 0.70236088 0.69392917]\t[1.53863335 1.57529235 0.98791623]\t121  \t18       \t26            \t0.0101776               \t247         \t0.696927\t[0.13427114 0.13601279 0.09317851]\t[0.69449129 0.70236088 0.69392917]\t[0.71360315 0.71107364 0.71725689]\n",
            "True     \t[0.6970208  0.70264193 0.68999438]\t[1.50644684 1.51289511 0.98834467]\t122  \t12       \t26            \t0.0101776               \t241         \t0.696552\t[0.13326073 0.13342166 0.09363413]\t[0.6970208  0.70264193 0.68999438]\t[0.71177628 0.7084036  0.7197864 ]\n",
            "True     \t[0.70292299 0.69252389 0.70151771]\t[1.58129621 1.59792948 0.97446752]\t123  \t18       \t26            \t0.0101776               \t247         \t0.698988\t[0.1363616  0.13758945 0.09583879]\t[0.70292299 0.69252389 0.70151771]\t[0.71233839 0.71557055 0.71444632]\n",
            "False    \t[0.69477234 0.70685779 0.6950534 ]\t[1.75404882 1.7458322  1.13942957]\t124  \t12       \t26            \t0.0101776               \t247         \t0.698895\t[0.13505578 0.13527775 0.09502292]\t[0.69477234 0.70685779 0.6950534 ]\t[0.71655424 0.71360315 0.71950534]\n",
            "True     \t[0.69926925 0.69983137 0.70517144]\t[1.55374479 1.55634284 0.97312117]\t125  \t18       \t26            \t0.0101776               \t247         \t0.701424\t[0.13854313 0.15402436 0.09654355]\t[0.69926925 0.69983137 0.70517144]\t[0.71374368 0.71247892 0.71528949]\n",
            "True     \t[0.69336706 0.70207982 0.70264193]\t[1.54331255 1.55148959 0.97309685]\t126  \t12       \t26            \t0.0101776               \t247         \t0.699363\t[0.13456535 0.13425493 0.09513378]\t[0.69336706 0.70207982 0.70264193]\t[0.71557055 0.70994941 0.71416526]\n",
            "True     \t[0.68887015 0.69224283 0.70123665]\t[1.53078485 1.53997898 0.98454714]\t127  \t12       \t26            \t0.0101776               \t247         \t0.694117\t[0.13721657 0.13883018 0.09464264]\t[0.68887015 0.69224283 0.70123665]\t[0.71247892 0.72006745 0.70966835]\n",
            "True     \t[0.70067454 0.70095559 0.68999438]\t[1.57502103 1.5652926  0.9759264 ]\t128  \t18       \t26            \t0.0101776               \t247         \t0.697208\t[0.13850689 0.13781381 0.09274912]\t[0.70067454 0.70095559 0.68999438]\t[0.71753794 0.71191681 0.7148679 ]\n",
            "False    \t[0.70882518 0.68774592 0.70151771]\t[1.7714932  1.75283909 1.10161018]\t129  \t12       \t26            \t0.0101776               \t247         \t0.699363\t[0.13506627 0.13540196 0.09308553]\t[0.70882518 0.68774592 0.70151771]\t[0.71346262 0.71922428 0.71852164]\n",
            "True     \t[0.693086   0.70770096 0.69814503]\t[1.61893129 1.60000396 0.96707773]\t130  \t12       \t26            \t0.0101776               \t247         \t0.699644\t[0.1366291  0.1365881  0.09460449]\t[0.693086   0.70770096 0.69814503]\t[0.71430579 0.71121417 0.71824058]\n",
            "False    \t[0.67762788 0.68296796 0.6950534 ]\t[1.52107763 1.51440048 0.94482994]\t131  \t12       \t26            \t0.0280422               \t247         \t0.685216\t[0.12973499 0.13091111 0.08835483]\t[0.67762788 0.68296796 0.6950534 ]\t[0.69955031 0.69983137 0.69631816]\n",
            "True     \t[0.7034851  0.6970208  0.70011242]\t[1.57458401 1.59155226 1.00760865]\t132  \t18       \t26            \t0.0101776               \t247         \t0.700206\t[0.1388309  0.14608765 0.09679008]\t[0.7034851  0.6970208  0.70011242]\t[0.71135469 0.71528949 0.71304103]\n",
            "False    \t[0.70067454 0.69421023 0.68943227]\t[1.75255752 1.81982589 1.19005084]\t133  \t12       \t26            \t0.0101776               \t241         \t0.694772\t[0.13330293 0.13731074 0.09213328]\t[0.70067454 0.69421023 0.68943227]\t[0.71543002 0.71233839 0.71346262]\n",
            "False    \t[0.69392917 0.69842608 0.6989882 ]\t[1.74168253 1.73561001 1.12697077]\t134  \t12       \t26            \t0.0101776               \t247         \t0.697114\t[0.13492155 0.13516212 0.09313011]\t[0.69392917 0.69842608 0.6989882 ]\t[0.7207701  0.71275998 0.71219786]\n",
            "False    \t[0.69842608 0.69533446 0.71500843]\t[1.75244641 1.78026509 1.10613918]\t135  \t12       \t26            \t0.0101776               \t247         \t0.702923\t[0.13514638 0.13617206 0.09305048]\t[0.69842608 0.69533446 0.71500843]\t[0.717819   0.71810006 0.70784148]\n",
            "True     \t[0.6970208  0.69083755 0.70123665]\t[1.58341694 1.5546329  0.98045325]\t136  \t18       \t26            \t0.0101776               \t247         \t0.696365\t[0.13708901 0.15454245 0.09648085]\t[0.6970208  0.69083755 0.70123665]\t[0.71514896 0.7138842  0.71430579]\n",
            "False    \t[0.70207982 0.69168072 0.70798201]\t[1.77685142 1.78282642 1.13749433]\t137  \t12       \t26            \t0.0101776               \t247         \t0.700581\t[0.13717818 0.13723612 0.0945766 ]\t[0.70207982 0.69168072 0.70798201]\t[0.71528949 0.71922428 0.71191681]\n",
            "False    \t[0.68858909 0.69449129 0.70039348]\t[1.78802419 1.78037524 1.08426929]\t138  \t12       \t26            \t0.0101776               \t247         \t0.694491\t[0.1389792  0.15374637 0.09367156]\t[0.68858909 0.69449129 0.70039348]\t[0.71528949 0.71247892 0.71838111]\n",
            "False    \t[0.69364812 0.6989882  0.69533446]\t[1.79543257 1.73900032 1.14231801]\t139  \t12       \t26            \t0.0101776               \t247         \t0.69599 \t[0.13771963 0.13654709 0.09569049]\t[0.69364812 0.6989882  0.69533446]\t[0.7188027  0.71163575 0.71936481]\n",
            "True     \t[0.6970208  0.70432827 0.69364812]\t[1.53471875 1.56040549 0.9936738 ]\t140  \t12       \t26            \t0.0101776               \t247         \t0.698332\t[0.1342907  0.13485694 0.10578227]\t[0.6970208  0.70432827 0.69364812]\t[0.71121417 0.71346262 0.71922428]\n",
            "False    \t[0.68887015 0.69533446 0.70770096]\t[1.75008464 1.8002677  1.13515878]\t141  \t12       \t26            \t0.0101776               \t247         \t0.697302\t[0.13642406 0.13675308 0.09330726]\t[0.68887015 0.69533446 0.70770096]\t[0.71711636 0.71430579 0.7138842 ]\n",
            "True     \t[0.69786397 0.70320405 0.69224283]\t[1.57960939 1.55539274 0.95657158]\t142  \t18       \t26            \t0.0101776               \t247         \t0.69777 \t[0.13552189 0.13615823 0.09315753]\t[0.69786397 0.70320405 0.69224283]\t[0.71163575 0.71304103 0.71304103]\n",
            "True     \t[0.68184373 0.70264193 0.70320405]\t[1.39247441 1.43593454 0.93575358]\t143  \t12       \t26            \t0.0101776               \t228         \t0.695897\t[0.12271571 0.12385583 0.09018421]\t[0.68184373 0.70264193 0.70320405]\t[0.72231591 0.70460933 0.71402473]\n",
            "True     \t[0.71079258 0.69224283 0.6970208 ]\t[1.53636837 1.53967309 0.97529864]\t144  \t18       \t26            \t0.0101776               \t247         \t0.700019\t[0.13665104 0.1361022  0.09641194]\t[0.71079258 0.69224283 0.6970208 ]\t[0.71261945 0.71697583 0.71177628]\n",
            "True     \t[0.69955031 0.70460933 0.69111861]\t[1.54851413 1.56907487 1.0221107 ]\t145  \t12       \t26            \t0.0101776               \t247         \t0.698426\t[0.13679838 0.13747525 0.09579968]\t[0.69955031 0.70460933 0.69111861]\t[0.71290051 0.71458685 0.71795953]\n",
            "True     \t[0.69196178 0.69477234 0.70629567]\t[1.57738376 1.59214664 0.98642039]\t146  \t18       \t26            \t0.0101776               \t247         \t0.697677\t[0.13801551 0.13826442 0.09578609]\t[0.69196178 0.69477234 0.70629567]\t[0.71852164 0.71627319 0.70503092]\n",
            "True     \t[0.69168072 0.70432827 0.69955031]\t[1.57256365 1.58383846 0.96375513]\t147  \t18       \t26            \t0.0101776               \t247         \t0.69852 \t[0.15502024 0.13739061 0.10724974]\t[0.69168072 0.70432827 0.69955031]\t[0.71571107 0.71079258 0.7168353 ]\n",
            "True     \t[0.60202361 0.60202361 0.60202361]\t[0.87730527 0.89675736 0.54858327]\t148  \t12       \t26            \t0.341417                \t247         \t0.602024\t[0.10440755 0.10457826 0.06483173]\t[0.60202361 0.60202361 0.60202361]\t[0.60202361 0.60202361 0.60202361]\n",
            "True     \t[0.70151771 0.6970208  0.70292299]\t[1.57467151 1.589257   0.98317122]\t149  \t18       \t26            \t0.0101776               \t247         \t0.700487\t[0.13603163 0.13708735 0.09345531]\t[0.70151771 0.6970208  0.70292299]\t[0.71627319 0.71767847 0.71290051]\n",
            "True     \t[0.70207982 0.71023047 0.68381113]\t[1.56497264 1.60475016 0.99958181]\t150  \t18       \t26            \t0.0101776               \t247         \t0.698707\t[0.13508797 0.13621187 0.09308243]\t[0.70207982 0.71023047 0.68381113]\t[0.71528949 0.71163575 0.71950534]\n",
            "True     \t[0.69364812 0.70376616 0.70179876]\t[1.57735348 1.60155225 0.99705362]\t151  \t12       \t26            \t0.0101776               \t247         \t0.699738\t[0.13491726 0.1354084  0.09299326]\t[0.69364812 0.70376616 0.70179876]\t[0.7207701  0.71275998 0.70980888]\n",
            "True     \t[0.70236088 0.69842608 0.69983137]\t[1.56906056 1.61478877 1.03181553]\t152  \t12       \t26            \t0.0101776               \t247         \t0.700206\t[0.13639379 0.13684368 0.10150218]\t[0.70236088 0.69842608 0.69983137]\t[0.70882518 0.72048904 0.71261945]\n",
            "False    \t[0.69280495 0.6989882  0.70011242]\t[1.7610929  1.85342956 1.17784286]\t153  \t12       \t26            \t0.0101776               \t247         \t0.697302\t[0.13323903 0.13608456 0.0957067 ]\t[0.69280495 0.6989882  0.70011242]\t[0.71838111 0.71163575 0.71838111]\n",
            "True     \t[0.69421023 0.70404722 0.69449129]\t[1.55283761 1.59638429 1.00872278]\t154  \t12       \t26            \t0.0101776               \t247         \t0.697583\t[0.13682199 0.13652778 0.09510303]\t[0.69421023 0.70404722 0.69449129]\t[0.71810006 0.71261945 0.71472737]\n",
            "True     \t[0.69224283 0.70798201 0.69645868]\t[1.61242342 1.5824306  1.01698804]\t155  \t12       \t26            \t0.0101776               \t247         \t0.698895\t[0.13657308 0.1370182  0.10601878]\t[0.69224283 0.70798201 0.69645868]\t[0.71557055 0.71107364 0.71346262]\n",
            "True     \t[0.69645868 0.70882518 0.69083755]\t[1.56816626 1.54502201 1.00393081]\t156  \t12       \t26            \t0.0101776               \t247         \t0.698707\t[0.13596487 0.13517714 0.09417605]\t[0.69645868 0.70882518 0.69083755]\t[0.71430579 0.7148679  0.71655424]\n",
            "False    \t[0.70179876 0.69673974 0.68746487]\t[1.81271935 1.82354641 1.12577605]\t157  \t12       \t26            \t0.0101776               \t247         \t0.695334\t[0.13595724 0.1364634  0.09405923]\t[0.70179876 0.69673974 0.68746487]\t[0.71543002 0.71008994 0.72428331]\n",
            "False    \t[0.70404722 0.68802698 0.69252389]\t[1.77572751 1.76630688 1.14423418]\t158  \t12       \t26            \t0.0101776               \t247         \t0.694866\t[0.13592958 0.13540339 0.0964725 ]\t[0.70404722 0.68802698 0.69252389]\t[0.71444632 0.72161327 0.71191681]\n",
            "False    \t[0.70011242 0.69758291 0.7034851 ]\t[1.65197086 1.63132358 1.06515861]\t159  \t12       \t26            \t0.0101776               \t228         \t0.700393\t[0.12751031 0.12669539 0.0888381 ]\t[0.70011242 0.69758291 0.7034851 ]\t[0.71711636 0.71655424 0.7158516 ]\n",
            "False    \t[0.6846543  0.70489039 0.6950534 ]\t[1.76855564 1.75425959 1.12494659]\t160  \t12       \t26            \t0.0101776               \t247         \t0.694866\t[0.13592124 0.13579345 0.09360147]\t[0.6846543  0.70489039 0.6950534 ]\t[0.72147274 0.71247892 0.71641372]\n",
            "True     \t[0.69786397 0.69842608 0.69730185]\t[1.60794973 1.55232382 1.0124619 ]\t161  \t12       \t26            \t0.0101776               \t247         \t0.697864\t[0.13743329 0.13694167 0.09541702]\t[0.69786397 0.69842608 0.69730185]\t[0.71290051 0.71233839 0.71304103]\n",
            "False    \t[0.69168072 0.70264193 0.69477234]\t[1.74262738 1.77393651 1.17525363]\t162  \t12       \t26            \t0.0101776               \t247         \t0.696365\t[0.13782692 0.13812804 0.09347987]\t[0.69168072 0.70264193 0.69477234]\t[0.71852164 0.71275998 0.72048904]\n",
            "False    \t[0.71753794 0.69392917 0.69139966]\t[1.64231038 1.63682413 1.0530169 ]\t163  \t18       \t26            \t0.0101776               \t228         \t0.700956\t[0.12535477 0.12558913 0.09745312]\t[0.71753794 0.69392917 0.69139966]\t[0.71290051 0.71037099 0.72273749]\n",
            "False    \t[0.69814503 0.70264193 0.68802698]\t[1.80928278 1.76792789 1.11628771]\t164  \t12       \t26            \t0.0101776               \t247         \t0.696271\t[0.13579106 0.13614058 0.09323335]\t[0.69814503 0.70264193 0.68802698]\t[0.7093873  0.71107364 0.7207701 ]\n",
            "True     \t[0.69477234 0.70264193 0.69533446]\t[1.54611754 1.54707623 0.96926069]\t165  \t18       \t26            \t0.0101776               \t247         \t0.697583\t[0.13442945 0.13477063 0.09594345]\t[0.69477234 0.70264193 0.69533446]\t[0.71514896 0.71528949 0.71613266]\n",
            "True     \t[0.70966835 0.68774592 0.69139966]\t[1.56690907 1.54655766 0.97289133]\t166  \t18       \t26            \t0.0101776               \t247         \t0.696271\t[0.13675833 0.1370635  0.09845662]\t[0.70966835 0.68774592 0.69139966]\t[0.70798201 0.7188027  0.71627319]\n",
            "True     \t[0.68830804 0.70292299 0.70123665]\t[2.41381574 2.40289044 0.90192008]\t167  \t18       \t26            \t0.0101776               \t228         \t0.697489\t[0.1263206  0.12601519 0.08733654]\t[0.68830804 0.70292299 0.70123665]\t[0.72006745 0.70629567 0.71416526]\n",
            "True     \t[0.70095559 0.6970208  0.68971332]\t[1.55450606 1.50143957 1.00152445]\t168  \t11       \t26            \t0.0101776               \t247         \t0.695897\t[0.13674664 0.14152241 0.09459186]\t[0.70095559 0.6970208  0.68971332]\t[0.71135469 0.70854413 0.72006745]\n",
            "False    \t[0.70011242 0.69224283 0.69758291]\t[1.75651503 1.73687911 1.10802555]\t169  \t12       \t26            \t0.0101776               \t247         \t0.696646\t[0.14952374 0.14182854 0.09540272]\t[0.70011242 0.69224283 0.69758291]\t[0.71655424 0.71838111 0.71810006]\n",
            "False    \t[0.69786397 0.69055649 0.70489039]\t[1.6249001  1.64461851 1.04603171]\t170  \t12       \t26            \t0.0101776               \t228         \t0.69777 \t[0.12514162 0.12671781 0.08635044]\t[0.69786397 0.69055649 0.70489039]\t[0.71247892 0.72203485 0.71318156]\n",
            "False    \t[0.70770096 0.69364812 0.69364812]\t[1.74735045 1.74397826 1.09684134]\t171  \t18       \t26            \t0.0101776               \t247         \t0.698332\t[0.13534498 0.13561511 0.09280014]\t[0.70770096 0.69364812 0.69364812]\t[0.70826307 0.72161327 0.71992693]\n",
            "True     \t[0.69617763 0.68690275 0.71051152]\t[1.52871704 1.54862094 0.99992919]\t172  \t12       \t26            \t0.0101776               \t247         \t0.697864\t[0.13768291 0.15435696 0.09766912]\t[0.69617763 0.68690275 0.71051152]\t[0.71655424 0.7188027  0.70770096]\n",
            "True     \t[0.70264193 0.6950534  0.69421023]\t[1.57031417 1.57408452 0.99852085]\t173  \t12       \t26            \t0.0101776               \t247         \t0.697302\t[0.13601279 0.1352632  0.09517384]\t[0.70264193 0.6950534  0.69421023]\t[0.71163575 0.71374368 0.71725689]\n",
            "True     \t[0.70264193 0.70489039 0.68493536]\t[1.57999277 1.555022   0.96652603]\t174  \t18       \t26            \t0.0101776               \t247         \t0.697489\t[0.13531399 0.13642168 0.09240746]\t[0.70264193 0.70489039 0.68493536]\t[0.71149522 0.71261945 0.72231591]\n",
            "True     \t[0.70573356 0.69449129 0.70039348]\t[1.59458661 1.583112   0.97357035]\t175  \t12       \t26            \t0.0101776               \t247         \t0.700206\t[0.13572478 0.13603568 0.09442401]\t[0.70573356 0.69449129 0.70039348]\t[0.71177628 0.71444632 0.71458685]\n",
            "False    \t[0.70179876 0.69477234 0.69139966]\t[1.77262497 1.72795725 1.12255955]\t176  \t12       \t26            \t0.0101776               \t247         \t0.69599 \t[0.13650084 0.13580465 0.09249759]\t[0.70179876 0.69477234 0.69139966]\t[0.71824058 0.71444632 0.71711636]\n",
            "False    \t[0.6950534  0.69055649 0.69983137]\t[1.79654145 1.72675586 1.14303589]\t177  \t12       \t26            \t0.0101776               \t247         \t0.695147\t[0.13489413 0.13493466 0.09463024]\t[0.6950534  0.69055649 0.69983137]\t[0.71697583 0.71950534 0.70699831]\n",
            "True     \t[0.69926925 0.69955031 0.69561551]\t[1.56463313 1.55782175 0.96964955]\t178  \t18       \t26            \t0.0101776               \t247         \t0.698145\t[0.1370492  0.13654828 0.09569049]\t[0.69926925 0.69955031 0.69561551]\t[0.71669477 0.71711636 0.71514896]\n",
            "False    \t[0.70067454 0.70264193 0.69280495]\t[1.72421193 1.76473403 1.12416124]\t179  \t12       \t26            \t0.0101776               \t247         \t0.698707\t[0.15555239 0.13674212 0.09667277]\t[0.70067454 0.70264193 0.69280495]\t[0.71163575 0.71135469 0.72034851]\n",
            "True     \t[0.70264193 0.6970208  0.70011242]\t[1.53407097 1.54830241 0.98696661]\t180  \t12       \t26            \t0.0101776               \t247         \t0.699925\t[0.13651729 0.13613892 0.13134503]\t[0.70264193 0.6970208  0.70011242]\t[0.70896571 0.71627319 0.71810006]\n",
            "True     \t[0.70123665 0.69224283 0.69955031]\t[1.57140899 1.57774949 0.97639108]\t181  \t12       \t26            \t0.0101776               \t247         \t0.697677\t[0.13588357 0.13619232 0.09592319]\t[0.70123665 0.69224283 0.69955031]\t[0.71051152 0.7188027  0.71402473]\n",
            "True     \t[0.70264193 0.69196178 0.69168072]\t[1.56124759 1.50978589 0.9996295 ]\t182  \t12       \t26            \t0.0101776               \t247         \t0.695428\t[0.13494611 0.13502312 0.09451532]\t[0.70264193 0.69196178 0.69168072]\t[0.71753794 0.70727937 0.71767847]\n",
            "True     \t[0.69842608 0.70320405 0.69027544]\t[1.43044281 1.43179846 0.89941406]\t183  \t18       \t26            \t0.0101776               \t228         \t0.697302\t[0.12614489 0.12558699 0.08688307]\t[0.69842608 0.70320405 0.69027544]\t[0.7138842  0.71205734 0.71992693]\n",
            "True     \t[0.69168072 0.71275998 0.69589657]\t[1.55390763 1.55163789 0.96699929]\t184  \t12       \t26            \t0.0101776               \t247         \t0.700112\t[0.13427019 0.13427234 0.09415388]\t[0.69168072 0.71275998 0.69589657]\t[0.71753794 0.70826307 0.7168353 ]\n",
            "True     \t[0.70067454 0.70011242 0.69589657]\t[1.55455112 1.54923701 0.95923662]\t185  \t12       \t26            \t0.0101776               \t247         \t0.698895\t[0.13801599 0.13685703 0.09406114]\t[0.70067454 0.70011242 0.69589657]\t[0.71037099 0.71458685 0.71697583]\n",
            "True     \t[0.60202361 0.60202361 0.60202361]\t[0.92541456 0.92119074 0.56665421]\t186  \t12       \t26            \t0.260558                \t247         \t0.602024\t[0.10817647 0.10844851 0.07829762]\t[0.60202361 0.60202361 0.60202361]\t[0.60202361 0.60202361 0.60202361]\n",
            "True     \t[0.70292299 0.69477234 0.70292299]\t[1.52932858 1.55868363 0.96259785]\t187  \t18       \t26            \t0.0101776               \t247         \t0.700206\t[0.13417172 0.13446021 0.094877  ]\t[0.70292299 0.69477234 0.70292299]\t[0.71458685 0.71641372 0.71163575]\n",
            "False    \t[0.69533446 0.69477234 0.69814503]\t[1.77248597 1.75832319 1.08474684]\t188  \t18       \t26            \t0.0101776               \t247         \t0.696084\t[0.13566995 0.1345377  0.09352064]\t[0.69533446 0.69477234 0.69814503]\t[0.71824058 0.71697583 0.70713884]\n",
            "True     \t[0.7054525  0.69083755 0.70320405]\t[1.54032183 1.55702353 0.98694801]\t189  \t18       \t26            \t0.0101776               \t247         \t0.699831\t[0.13409376 0.13520145 0.09577012]\t[0.7054525  0.69083755 0.70320405]\t[0.71191681 0.71613266 0.71275998]\n",
            "True     \t[0.70798201 0.69842608 0.69617763]\t[1.55063462 1.52851391 0.96587539]\t190  \t12       \t26            \t0.0101776               \t247         \t0.700862\t[0.13643503 0.13612652 0.09538913]\t[0.70798201 0.69842608 0.69617763]\t[0.71037099 0.72020798 0.71514896]\n",
            "True     \t[0.69926925 0.70011242 0.69730185]\t[1.55872512 1.55690336 0.96948576]\t191  \t12       \t26            \t0.0101776               \t247         \t0.698895\t[0.13661575 0.1361618  0.1117723 ]\t[0.69926925 0.70011242 0.69730185]\t[0.71430579 0.71866217 0.71430579]\n",
            "False    \t[0.6970208  0.69842608 0.693086  ]\t[1.83397794 1.74332976 1.16125178]\t192  \t12       \t26            \t0.0101776               \t247         \t0.696178\t[0.13511252 0.13360429 0.10628891]\t[0.6970208  0.69842608 0.693086  ]\t[0.7158516  0.71290051 0.71908375]\n",
            "True     \t[0.70039348 0.69842608 0.70770096]\t[1.56850529 1.56303024 0.96511531]\t193  \t12       \t26            \t0.0101776               \t247         \t0.702174\t[0.13626981 0.13592339 0.09364915]\t[0.70039348 0.69842608 0.70770096]\t[0.71191681 0.71866217 0.71304103]\n",
            "True     \t[0.70460933 0.70320405 0.69083755]\t[1.54226303 1.52856827 0.97483683]\t194  \t12       \t26            \t0.0101776               \t247         \t0.69955 \t[0.1354363  0.13449001 0.09329581]\t[0.70460933 0.70320405 0.69083755]\t[0.71149522 0.71416526 0.71922428]\n",
            "False    \t[0.69926925 0.69561551 0.69673974]\t[1.75103188 1.73859215 1.1333797 ]\t195  \t12       \t26            \t0.0101776               \t247         \t0.697208\t[0.13882184 0.13783741 0.09896207]\t[0.69926925 0.69561551 0.69673974]\t[0.72091062 0.71641372 0.71360315]\n",
            "False    \t[0.70207982 0.68915121 0.69983137]\t[1.74515653 1.78933406 1.15355659]\t196  \t12       \t26            \t0.0101776               \t247         \t0.697021\t[0.13613176 0.13791275 0.09403634]\t[0.70207982 0.68915121 0.69983137]\t[0.71444632 0.72231591 0.71627319]\n",
            "False    \t[0.68577853 0.70376616 0.70179876]\t[1.74613023 1.79719877 1.14446378]\t197  \t12       \t26            \t0.0101776               \t247         \t0.697114\t[0.13367653 0.13543677 0.09407926]\t[0.68577853 0.70376616 0.70179876]\t[0.71725689 0.71374368 0.71093311]\n",
            "False    \t[0.69533446 0.693086   0.69252389]\t[1.74320173 1.79869437 1.16301107]\t198  \t18       \t26            \t0.0101776               \t247         \t0.693648\t[0.13350844 0.13523674 0.09438205]\t[0.69533446 0.693086   0.69252389]\t[0.7168353  0.70994941 0.72048904]\n",
            "False    \t[0.69252389 0.70882518 0.69842608]\t[1.72121429 1.7318871  1.14677215]\t199  \t12       \t26            \t0.0101776               \t247         \t0.699925\t[0.13331532 0.13552094 0.09587264]\t[0.69252389 0.70882518 0.69842608]\t[0.71599213 0.71627319 0.71416526]\n",
            "True     \t[0.69842608 0.68830804 0.70629567]\t[1.59998226 1.59039211 0.97310138]\t200  \t14       \t26            \t0.0101776               \t247         \t0.697677\t[0.13821578 0.13729262 0.09595346]\t[0.69842608 0.68830804 0.70629567]\t[0.71346262 0.71697583 0.70854413]\n",
            "True     \t[0.6989882  0.69926925 0.70011242]\t[1.57769489 1.54775023 0.99346113]\t201  \t12       \t26            \t0.0101776               \t247         \t0.699457\t[0.13556552 0.1352396  0.09389877]\t[0.6989882  0.69926925 0.70011242]\t[0.71711636 0.71374368 0.71416526]\n",
            "False    \t[0.69477234 0.69421023 0.70657673]\t[2.08783364 2.12841725 1.36603141]\t202  \t12       \t26            \t0.0101776               \t298         \t0.69852 \t[0.18192673 0.16806626 0.11476874]\t[0.69477234 0.69421023 0.70657673]\t[0.71430579 0.71543002 0.71514896]\n",
            "False    \t[0.70207982 0.69842608 0.70264193]\t[1.69545102 1.78513527 1.14001942]\t203  \t18       \t26            \t0.0101776               \t247         \t0.701049\t[0.1345408  0.1364131  0.09420443]\t[0.70207982 0.69842608 0.70264193]\t[0.7138842  0.71627319 0.71318156]\n",
            "True     \t[0.70207982 0.70067454 0.69814503]\t[1.53622746 1.56924152 1.00395226]\t204  \t12       \t26            \t0.0101776               \t247         \t0.7003  \t[0.13642287 0.13782597 0.09685373]\t[0.70207982 0.70067454 0.69814503]\t[0.71135469 0.71655424 0.71613266]\n",
            "False    \t[0.70264193 0.70236088 0.68999438]\t[1.78564119 1.71328664 1.14113069]\t205  \t12       \t26            \t0.0101776               \t247         \t0.698332\t[0.13822365 0.13421464 0.09408879]\t[0.70264193 0.70236088 0.68999438]\t[0.71894323 0.7168353  0.71739741]\n",
            "False    \t[0.68353007 0.70910624 0.69645868]\t[1.71477485 1.76628685 1.12678218]\t206  \t12       \t26            \t0.0101776               \t247         \t0.696365\t[0.13608313 0.15414667 0.0952487 ]\t[0.68353007 0.70910624 0.69645868]\t[0.71346262 0.7168353  0.71149522]\n",
            "True     \t[0.70039348 0.69617763 0.69983137]\t[1.55367398 1.56606364 0.98293567]\t207  \t18       \t26            \t0.0101776               \t247         \t0.698801\t[0.13511586 0.13537741 0.09419584]\t[0.70039348 0.69617763 0.69983137]\t[0.71135469 0.71023047 0.71852164]\n",
            "True     \t[0.69645868 0.68858909 0.69870714]\t[1.57054162 1.53406358 0.98827434]\t208  \t12       \t26            \t0.0101776               \t247         \t0.694585\t[0.13614631 0.13559008 0.09566522]\t[0.69645868 0.68858909 0.69870714]\t[0.71557055 0.71318156 0.71669477]\n",
            "True     \t[0.69926925 0.69983137 0.69477234]\t[1.61334229 1.59187675 0.96317673]\t209  \t18       \t26            \t0.0101776               \t247         \t0.697958\t[0.13568735 0.13655615 0.09422731]\t[0.69926925 0.69983137 0.69477234]\t[0.7168353  0.71346262 0.71374368]\n",
            "True     \t[0.69926925 0.69926925 0.69392917]\t[1.57707119 1.54697418 0.96649456]\t210  \t12       \t26            \t0.0101776               \t247         \t0.697489\t[0.13548422 0.13573766 0.09991717]\t[0.69926925 0.69926925 0.69392917]\t[0.71360315 0.71430579 0.70727937]\n",
            "True     \t[0.69252389 0.70067454 0.70095559]\t[1.51955986 1.53991222 0.98147249]\t211  \t12       \t26            \t0.0101776               \t247         \t0.698051\t[0.13573623 0.13635325 0.09501696]\t[0.69252389 0.70067454 0.70095559]\t[0.71964587 0.71261945 0.71219786]\n",
            "False    \t[0.69533446 0.69477234 0.68887015]\t[1.71712279 1.7584939  1.11492252]\t212  \t12       \t26            \t0.0101776               \t247         \t0.692992\t[0.13548207 0.13484263 0.09286332]\t[0.69533446 0.69477234 0.68887015]\t[0.71810006 0.71697583 0.70966835]\n",
            "False    \t[0.69617763 0.70095559 0.68915121]\t[1.7571671  1.82040739 1.14433122]\t213  \t12       \t26            \t0.0101776               \t247         \t0.695428\t[0.13526964 0.13560247 0.09478974]\t[0.69617763 0.70095559 0.68915121]\t[0.71247892 0.71599213 0.71950534]\n",
            "False    \t[0.69814503 0.69392917 0.69842608]\t[1.77171111 1.72401357 1.13231659]\t214  \t12       \t26            \t0.0101776               \t247         \t0.696833\t[0.13914537 0.13662219 0.0944159 ]\t[0.69814503 0.69392917 0.69842608]\t[0.71599213 0.71275998 0.71304103]\n",
            "True     \t[0.69673974 0.69758291 0.70039348]\t[1.55722952 1.5465374  0.95295429]\t215  \t12       \t26            \t0.0101776               \t247         \t0.698239\t[0.13744307 0.13710928 0.09373951]\t[0.69673974 0.69758291 0.70039348]\t[0.71528949 0.71233839 0.7148679 ]\n",
            "True     \t[0.69955031 0.69842608 0.70236088]\t[1.55495524 1.51302457 0.98821545]\t216  \t18       \t26            \t0.0101776               \t247         \t0.700112\t[0.13817048 0.13685441 0.09406424]\t[0.69955031 0.69842608 0.70236088]\t[0.71107364 0.71528949 0.71936481]\n",
            "False    \t[0.70179876 0.69477234 0.69617763]\t[1.73656464 1.72859836 1.11933804]\t217  \t12       \t26            \t0.0101776               \t247         \t0.697583\t[0.13665318 0.13659072 0.09602261]\t[0.70179876 0.69477234 0.69617763]\t[0.7138842  0.72006745 0.71711636]\n",
            "True     \t[0.69842608 0.70207982 0.68774592]\t[1.55266237 1.57226634 0.99777865]\t218  \t12       \t26            \t0.0101776               \t247         \t0.696084\t[0.13539147 0.13544726 0.09559941]\t[0.69842608 0.70207982 0.68774592]\t[0.71360315 0.71261945 0.71641372]\n",
            "False    \t[0.6950534  0.69786397 0.69617763]\t[1.78977394 1.76967478 1.13730383]\t219  \t12       \t26            \t0.0101776               \t247         \t0.696365\t[0.13519025 0.13715315 0.10028386]\t[0.6950534  0.69786397 0.69617763]\t[0.7138842  0.71304103 0.71360315]\n",
            "False    \t[0.70067454 0.68240585 0.70264193]\t[1.76333761 1.72518373 1.20568061]\t220  \t12       \t26            \t0.0101776               \t247         \t0.695241\t[0.13511872 0.13568783 0.12876844]\t[0.70067454 0.68240585 0.70264193]\t[0.71739741 0.71992693 0.70924677]\n",
            "False    \t[0.693086   0.70011242 0.7074199 ]\t[2.32561469 2.3292532  1.10473919]\t221  \t12       \t26            \t0.0101776               \t247         \t0.700206\t[0.13500118 0.13599801 0.09724927]\t[0.693086   0.70011242 0.7074199 ]\t[0.72119168 0.71894323 0.70868465]\n",
            "True     \t[0.69533446 0.70685779 0.7034851 ]\t[1.55770731 1.5432024  0.96327043]\t222  \t12       \t26            \t0.0101776               \t247         \t0.701892\t[0.13580155 0.13589835 0.0930016 ]\t[0.69533446 0.70685779 0.7034851 ]\t[0.71922428 0.71149522 0.7093873 ]\n",
            "True     \t[0.69336706 0.70179876 0.6866217 ]\t[1.52185774 1.54426813 0.97470427]\t223  \t12       \t26            \t0.0101776               \t247         \t0.693929\t[0.13580227 0.13497448 0.09415603]\t[0.69336706 0.70179876 0.6866217 ]\t[0.71669477 0.70854413 0.71332209]\n",
            "False    \t[0.6970208  0.69392917 0.69983137]\t[1.76215029 1.70545411 1.10337567]\t224  \t12       \t26            \t0.0101776               \t247         \t0.696927\t[0.13911605 0.15337944 0.09323144]\t[0.6970208  0.69392917 0.69983137]\t[0.71557055 0.71753794 0.71641372]\n",
            "False    \t[0.6866217  0.71191681 0.69926925]\t[1.774508   1.76786852 1.13164639]\t225  \t12       \t26            \t0.0101776               \t247         \t0.699269\t[0.13699102 0.13615155 0.09441686]\t[0.6866217  0.71191681 0.69926925]\t[0.72245644 0.71107364 0.7168353 ]\n",
            "False    \t[0.69224283 0.69926925 0.69533446]\t[1.76362252 1.70499802 1.14064717]\t226  \t12       \t26            \t0.0101776               \t247         \t0.695616\t[0.15532136 0.13662863 0.09605646]\t[0.69224283 0.69926925 0.69533446]\t[0.71261945 0.71360315 0.71866217]\n",
            "False    \t[0.70067454 0.68999438 0.70432827]\t[1.79267216 1.75264549 1.1086185 ]\t227  \t12       \t26            \t0.0101776               \t247         \t0.698332\t[0.13589549 0.13670278 0.09316707]\t[0.70067454 0.68999438 0.70432827]\t[0.71304103 0.71767847 0.71641372]\n",
            "True     \t[0.6989882  0.70123665 0.69449129]\t[1.55290413 1.55447149 0.96179056]\t228  \t12       \t26            \t0.0101776               \t247         \t0.698239\t[0.13445234 0.13381338 0.10005403]\t[0.6989882  0.70123665 0.69449129]\t[0.71191681 0.71458685 0.71627319]\n",
            "False    \t[0.7034851  0.69477234 0.70039348]\t[1.70321631 1.71342778 1.11234283]\t229  \t12       \t26            \t0.0101776               \t247         \t0.69955 \t[0.15147448 0.13689709 0.09410715]\t[0.7034851  0.69477234 0.70039348]\t[0.71500843 0.71500843 0.71697583]\n",
            "False    \t[0.68943227 0.70854413 0.69083755]\t[1.74113917 1.74877429 1.12161827]\t230  \t12       \t26            \t0.0101776               \t247         \t0.696271\t[0.13659    0.13597178 0.09513736]\t[0.68943227 0.70854413 0.69083755]\t[0.72105115 0.71247892 0.71753794]\n",
            "False    \t[0.68240585 0.7074199  0.69421023]\t[1.71419644 1.75188828 1.14430714]\t231  \t12       \t26            \t0.0101776               \t247         \t0.694679\t[0.14256072 0.15023947 0.09275556]\t[0.68240585 0.7074199  0.69421023]\t[0.71191681 0.71275998 0.72020798]\n",
            "False    \t[0.69252389 0.6970208  0.6970208 ]\t[1.74999166 1.74531984 1.10600328]\t232  \t12       \t26            \t0.0101776               \t247         \t0.695522\t[0.13483095 0.13559437 0.09225273]\t[0.69252389 0.6970208  0.6970208 ]\t[0.72231591 0.71416526 0.71514896]\n",
            "False    \t[0.69730185 0.69280495 0.69224283]\t[1.5159905  1.50466466 0.92618203]\t233  \t5        \t26            \t0.0101776               \t247         \t0.694117\t[0.12801027 0.12804103 0.08933139]\t[0.69730185 0.69280495 0.69224283]\t[0.70854413 0.7093873  0.70713884]\n",
            "False    \t[0.69842608 0.69673974 0.69533446]\t[1.73717475 1.7469728  1.0999279 ]\t234  \t12       \t26            \t0.0101776               \t247         \t0.696833\t[0.15549564 0.14048386 0.09566951]\t[0.69842608 0.69673974 0.69533446]\t[0.71416526 0.71416526 0.71430579]\n",
            "False    \t[0.70404722 0.69786397 0.69280495]\t[1.79461575 1.7606411  1.13999224]\t235  \t12       \t26            \t0.0101776               \t247         \t0.698239\t[0.13762069 0.13807631 0.09447122]\t[0.70404722 0.69786397 0.69280495]\t[0.71627319 0.71247892 0.71922428]\n",
            "False    \t[0.6950534  0.70067454 0.68999438]\t[1.65770674 1.72693777 1.09221148]\t236  \t12       \t21            \t0.0101776               \t247         \t0.695241\t[0.13608813 0.1388042  0.0895555 ]\t[0.6950534  0.70067454 0.68999438]\t[0.71079258 0.71304103 0.7148679 ]\n",
            "True     \t[0.69083755 0.67762788 0.70292299]\t[1.4428947  1.48417926 0.93223214]\t237  \t6        \t26            \t0.0101776               \t247         \t0.690463\t[0.1339879  0.13485074 0.09126019]\t[0.69083755 0.67762788 0.70292299]\t[0.70531197 0.71838111 0.70404722]\n",
            "False    \t[0.69870714 0.69533446 0.70123665]\t[1.72882271 1.7663033  1.13951516]\t238  \t12       \t26            \t0.0101776               \t247         \t0.698426\t[0.1372683  0.1367147  0.09416509]\t[0.69870714 0.69533446 0.70123665]\t[0.71051152 0.71290051 0.71795953]\n",
            "False    \t[0.6970208  0.69055649 0.69645868]\t[1.76427579 1.75052881 1.1020627 ]\t239  \t12       \t26            \t0.0101776               \t247         \t0.694679\t[0.13517237 0.1347928  0.09548473]\t[0.6970208  0.69055649 0.69645868]\t[0.71500843 0.71838111 0.71290051]\n",
            "False    \t[0.69477234 0.70882518 0.68718381]\t[1.7328434  1.81909561 1.18046427]\t240  \t12       \t26            \t0.0101776               \t247         \t0.696927\t[0.13438463 0.13590503 0.09499264]\t[0.69477234 0.70882518 0.68718381]\t[0.71416526 0.70966835 0.72133221]\n",
            "False    \t[0.69589657 0.69027544 0.70573356]\t[1.67322063 1.65700388 1.09668541]\t241  \t12       \t26            \t0.0187178               \t247         \t0.697302\t[0.13831687 0.13808298 0.09584856]\t[0.69589657 0.69027544 0.70573356]\t[0.71219786 0.7074199  0.71557055]\n",
            "False    \t[0.69252389 0.69926925 0.69955031]\t[1.79911971 1.75450301 1.12754512]\t242  \t12       \t26            \t0.0101776               \t247         \t0.697114\t[0.13647532 0.13621235 0.09482932]\t[0.69252389 0.69926925 0.69955031]\t[0.71795953 0.71528949 0.71163575]\n",
            "False    \t[0.6866217  0.70264193 0.693086  ]\t[1.79829431 1.75806952 1.12895203]\t243  \t12       \t26            \t0.0101776               \t247         \t0.694117\t[0.14164996 0.14056396 0.09411812]\t[0.6866217  0.70264193 0.693086  ]\t[0.72386172 0.70798201 0.71950534]\n",
            "False    \t[0.71051152 0.69955031 0.69252389]\t[1.81885767 1.77213931 1.12756276]\t244  \t12       \t26            \t0.0101776               \t247         \t0.700862\t[0.13492036 0.13475251 0.09454226]\t[0.71051152 0.69955031 0.69252389]\t[0.7138842  0.71908375 0.71866217]\n",
            "False    \t[0.70629567 0.68493536 0.70179876]\t[1.76125526 1.80082059 1.10903215]\t245  \t12       \t26            \t0.0101776               \t247         \t0.697677\t[0.13526249 0.13548541 0.09420633]\t[0.70629567 0.68493536 0.70179876]\t[0.71374368 0.72554806 0.71149522]\n",
            "False    \t[0.70573356 0.69196178 0.69870714]\t[1.78751779 1.75721788 1.13994503]\t246  \t12       \t26            \t0.0101776               \t247         \t0.698801\t[0.13837981 0.13522363 0.09411645]\t[0.70573356 0.69196178 0.69870714]\t[0.72034851 0.7197864  0.71304103]\n",
            "True     \t[0.70798201 0.68240585 0.70039348]\t[1.55282331 1.56156468 1.02720284]\t247  \t18       \t26            \t0.0101776               \t247         \t0.696927\t[0.13653922 0.13613868 0.1033833 ]\t[0.70798201 0.68240585 0.70039348]\t[0.70432827 0.72161327 0.71079258]\n",
            "True     \t[0.70292299 0.70011242 0.68830804]\t[1.58874416 1.60006261 0.9805665 ]\t248  \t12       \t26            \t0.0101776               \t247         \t0.697114\t[0.13616157 0.13536501 0.0938158 ]\t[0.70292299 0.70011242 0.68830804]\t[0.70812254 0.71852164 0.71936481]\n",
            "False    \t[0.69617763 0.70404722 0.68999438]\t[1.84588146 1.81919026 1.14389372]\t249  \t12       \t26            \t0.0101776               \t247         \t0.69674 \t[0.13646197 0.13658214 0.09458089]\t[0.69617763 0.70404722 0.68999438]\t[0.72062957 0.71247892 0.71866217]\n",
            "True     \t[0.70460933 0.69168072 0.69955031]\t[1.56919718 1.55200672 1.00506282]\t250  \t18       \t26            \t0.0101776               \t247         \t0.698613\t[0.13679171 0.13583469 0.10063648]\t[0.70460933 0.69168072 0.69955031]\t[0.70812254 0.71627319 0.71402473]\n",
            "False    \t[0.69842608 0.68915121 0.70685779]\t[1.83340502 1.75893021 1.15386987]\t251  \t12       \t26            \t0.0101776               \t247         \t0.698145\t[0.13718319 0.15443993 0.09431601]\t[0.69842608 0.68915121 0.70685779]\t[0.71838111 0.71500843 0.70994941]\n",
            "True     \t[0.70320405 0.70432827 0.69673974]\t[1.63705301 1.59585094 0.99092937]\t252  \t12       \t26            \t0.0101776               \t247         \t0.701424\t[0.13576531 0.1359694  0.09342146]\t[0.70320405 0.70432827 0.69673974]\t[0.71008994 0.71079258 0.71894323]\n",
            "False    \t[0.68999438 0.69870714 0.69926925]\t[1.77460122 1.72470927 1.16693759]\t253  \t12       \t26            \t0.0101776               \t247         \t0.69599 \t[0.13669419 0.13737249 0.09287548]\t[0.68999438 0.69870714 0.69926925]\t[0.71922428 0.71430579 0.71346262]\n",
            "False    \t[0.69926925 0.70151771 0.69364812]\t[1.77409315 1.74304128 1.12842417]\t254  \t12       \t26            \t0.0101776               \t247         \t0.698145\t[0.13645291 0.13506675 0.09484029]\t[0.69926925 0.70151771 0.69364812]\t[0.71627319 0.7168353  0.71500843]\n",
            "False    \t[0.67931422 0.68353007 0.69280495]\t[1.43768525 1.45511842 0.89661407]\t255  \t12       \t10            \t0.0101776               \t247         \t0.685216\t[0.1213758  0.12183499 0.08289003]\t[0.67931422 0.68353007 0.69280495]\t[0.68971332 0.71107364 0.69561551]\n",
            "True     \t[0.69449129 0.6989882  0.70095559]\t[1.56649113 1.55397415 1.00371623]\t256  \t18       \t26            \t0.0101776               \t247         \t0.698145\t[0.13541079 0.13566136 0.09603453]\t[0.69449129 0.6989882  0.70095559]\t[0.71177628 0.71332209 0.71444632]\n",
            "True     \t[0.70264193 0.6970208  0.7034851 ]\t[1.58219481 1.60194612 0.97612453]\t257  \t12       \t26            \t0.0101776               \t247         \t0.701049\t[0.13680792 0.13725543 0.13826942]\t[0.70264193 0.6970208  0.7034851 ]\t[0.71261945 0.71767847 0.71149522]\n",
            "False    \t[0.70095559 0.68353007 0.70517144]\t[1.83614206 1.789217   1.16460657]\t258  \t12       \t26            \t0.0101776               \t247         \t0.696552\t[0.13624597 0.13718605 0.09439158]\t[0.70095559 0.68353007 0.70517144]\t[0.71627319 0.72400225 0.70980888]\n",
            "False    \t[0.70264193 0.69786397 0.68915121]\t[1.7846849  1.81035018 1.13662267]\t259  \t12       \t26            \t0.0101776               \t247         \t0.696552\t[0.13706923 0.13715029 0.09371018]\t[0.70264193 0.69786397 0.68915121]\t[0.71008994 0.7138842  0.72020798]\n",
            "False    \t[0.69364812 0.69055649 0.71275998]\t[1.73975897 1.78035283 1.17244744]\t260  \t12       \t26            \t0.0101776               \t247         \t0.698988\t[0.13441062 0.13519192 0.09453416]\t[0.69364812 0.69055649 0.71275998]\t[0.71402473 0.72414278 0.71332209]\n",
            "True     \t[0.70460933 0.69673974 0.70404722]\t[1.64628386 1.5580945  1.01999688]\t261  \t18       \t26            \t0.0101776               \t247         \t0.701799\t[0.13595557 0.13465476 0.09336329]\t[0.70460933 0.69673974 0.70404722]\t[0.71233839 0.71304103 0.71023047]\n",
            "False    \t[0.69392917 0.70320405 0.6970208 ]\t[1.78612304 1.73490548 1.11576915]\t262  \t12       \t26            \t0.0101776               \t247         \t0.698051\t[0.13605189 0.13489676 0.09455848]\t[0.69392917 0.70320405 0.6970208 ]\t[0.71697583 0.70896571 0.71950534]\n",
            "False    \t[0.70207982 0.70179876 0.68718381]\t[1.78055024 1.76550412 1.09470534]\t263  \t12       \t26            \t0.0101776               \t247         \t0.697021\t[0.13455486 0.13440108 0.09300709]\t[0.70207982 0.70179876 0.68718381]\t[0.71346262 0.71669477 0.71023047]\n",
            "False    \t[0.68521641 0.69589657 0.7054525 ]\t[1.78978539 1.7948873  1.1543231 ]\t264  \t12       \t26            \t0.0101776               \t247         \t0.695522\t[0.13774586 0.13847542 0.09556389]\t[0.68521641 0.69589657 0.7054525 ]\t[0.71135469 0.71655424 0.71304103]\n",
            "True     \t[0.69589657 0.6989882  0.69280495]\t[1.60329604 1.60800004 1.00516367]\t265  \t12       \t26            \t0.0101776               \t247         \t0.695897\t[0.13811517 0.13768744 0.0938375 ]\t[0.69589657 0.6989882  0.69280495]\t[0.71121417 0.71065205 0.717819  ]\n",
            "True     \t[0.69926925 0.69673974 0.69477234]\t[1.5794971  1.60989285 1.00444555]\t266  \t12       \t26            \t0.0101776               \t247         \t0.696927\t[0.14164639 0.13672352 0.09444928]\t[0.69926925 0.69673974 0.69477234]\t[0.71191681 0.71374368 0.7148679 ]\n",
            "True     \t[0.70236088 0.68577853 0.7074199 ]\t[1.59252238 1.56740022 0.99335837]\t267  \t12       \t26            \t0.0101776               \t247         \t0.69852 \t[0.13554692 0.13498878 0.09562969]\t[0.70236088 0.68577853 0.7074199 ]\t[0.71416526 0.72020798 0.71008994]\n",
            "False    \t[0.70460933 0.69336706 0.69280495]\t[1.14533758 1.13650322 0.73555183]\t268  \t12       \t26            \t0.0101776               \t159         \t0.696927\t[0.08794522 0.08822417 0.0613122 ]\t[0.70460933 0.69336706 0.69280495]\t[0.71107364 0.71627319 0.7197864 ]\n",
            "True     \t[0.69280495 0.70067454 0.69870714]\t[1.59441829 1.58408117 1.00204754]\t269  \t12       \t26            \t0.0101776               \t247         \t0.697396\t[0.13763022 0.13803816 0.09888411]\t[0.69280495 0.70067454 0.69870714]\t[0.71233839 0.71543002 0.71922428]\n",
            "True     \t[0.69758291 0.69730185 0.70573356]\t[1.59676051 1.58292556 0.96151328]\t270  \t12       \t26            \t0.0101776               \t247         \t0.700206\t[0.13592505 0.13563824 0.09614873]\t[0.69758291 0.69730185 0.70573356]\t[0.71149522 0.71795953 0.71500843]\n",
            "False    \t[0.70404722 0.68858909 0.70011242]\t[1.77605224 1.77582979 1.13813066]\t271  \t12       \t26            \t0.0101776               \t247         \t0.697583\t[0.13552332 0.13448524 0.09326982]\t[0.70404722 0.68858909 0.70011242]\t[0.71079258 0.72105115 0.71725689]\n",
            "True     \t[0.693086   0.70404722 0.70123665]\t[1.59569812 1.5453124  0.98183298]\t272  \t12       \t26            \t0.0101776               \t247         \t0.699457\t[0.13933778 0.15714788 0.09559274]\t[0.693086   0.70404722 0.70123665]\t[0.71739741 0.71332209 0.7093873 ]\n",
            "True     \t[0.69392917 0.69252389 0.70798201]\t[2.16080785 2.19295263 1.11289763]\t273  \t12       \t26            \t0.0101776               \t247         \t0.698145\t[0.25859094 0.25701022 0.09438276]\t[0.69392917 0.69252389 0.70798201]\t[0.71093311 0.72161327 0.71008994]\n",
            "True     \t[0.71360315 0.68212479 0.70095559]\t[1.61030054 1.58049035 0.9862988 ]\t274  \t12       \t26            \t0.0101776               \t247         \t0.698895\t[0.13810778 0.13701606 0.09395528]\t[0.71360315 0.68212479 0.70095559]\t[0.71149522 0.72119168 0.71304103]\n",
            "False    \t[0.69477234 0.70601461 0.6950534 ]\t[1.79828835 1.80338407 1.12182546]\t275  \t12       \t26            \t0.0101776               \t247         \t0.698613\t[0.13817716 0.13757086 0.09465289]\t[0.69477234 0.70601461 0.6950534 ]\t[0.71852164 0.71290051 0.71402473]\n",
            "False    \t[0.69083755 0.69983137 0.69955031]\t[1.77430034 1.76345611 1.11750746]\t276  \t29       \t26            \t0.0101776               \t247         \t0.69674 \t[0.13720489 0.13763309 0.09342647]\t[0.69083755 0.69983137 0.69955031]\t[0.7197864  0.71795953 0.71528949]\n",
            "True     \t[0.69758291 0.69842608 0.70067454]\t[1.58543062 1.5722158  0.97295332]\t277  \t12       \t26            \t0.0101776               \t247         \t0.698895\t[0.13835907 0.13806963 0.09685731]\t[0.69758291 0.69842608 0.70067454]\t[0.71838111 0.71655424 0.71149522]\n",
            "False    \t[0.69814503 0.70629567 0.69786397]\t[1.76792955 1.79390574 1.15221953]\t278  \t12       \t26            \t0.0101776               \t247         \t0.700768\t[0.13777423 0.15523005 0.09401417]\t[0.69814503 0.70629567 0.69786397]\t[0.71922428 0.71261945 0.71866217]\n",
            "False    \t[0.69983137 0.69673974 0.69139966]\t[1.74303317 1.76532102 1.11864924]\t279  \t12       \t26            \t0.0101776               \t247         \t0.69599 \t[0.13492131 0.13432693 0.09449339]\t[0.69983137 0.69673974 0.69139966]\t[0.71711636 0.71992693 0.71543002]\n",
            "False    \t[0.70151771 0.68830804 0.70207982]\t[1.82752442 1.78171206 1.11410761]\t280  \t12       \t26            \t0.0101776               \t247         \t0.697302\t[0.14002991 0.15404129 0.09487462]\t[0.70151771 0.68830804 0.70207982]\t[0.71458685 0.71838111 0.71613266]\n",
            "False    \t[0.70039348 0.70067454 0.70151771]\t[1.73671389 1.76935601 1.13644838]\t281  \t12       \t26            \t0.0101776               \t247         \t0.700862\t[0.13738084 0.137007   0.09417868]\t[0.70039348 0.70067454 0.70151771]\t[0.71557055 0.71950534 0.71219786]\n",
            "False    \t[0.69983137 0.68887015 0.69983137]\t[1.7703073  1.81223607 1.13934493]\t282  \t12       \t26            \t0.0101776               \t247         \t0.696178\t[0.1553638  0.13971162 0.09581995]\t[0.69983137 0.68887015 0.69983137]\t[0.70657673 0.72217538 0.71275998]\n",
            "False    \t[0.68971332 0.70573356 0.70264193]\t[1.77652597 1.77556014 1.19274998]\t283  \t12       \t26            \t0.0101776               \t247         \t0.699363\t[0.13652134 0.13626027 0.10300279]\t[0.68971332 0.70573356 0.70264193]\t[0.71739741 0.7148679  0.7158516 ]\n",
            "True     \t[0.69758291 0.70685779 0.69280495]\t[1.56403017 1.58027625 1.0036304 ]\t284  \t12       \t26            \t0.0101776               \t247         \t0.699082\t[0.13820314 0.15522838 0.09552765]\t[0.69758291 0.70685779 0.69280495]\t[0.70980888 0.71374368 0.71824058]\n",
            "True     \t[0.69111861 0.70207982 0.69926925]\t[1.5863483  1.57898712 0.98159981]\t285  \t12       \t26            \t0.0101776               \t247         \t0.697489\t[0.13843036 0.13715649 0.09573293]\t[0.69111861 0.70207982 0.69926925]\t[0.71613266 0.71065205 0.71795953]\n",
            "False    \t[0.69139966 0.69252389 0.70826307]\t[1.72069764 1.75722504 1.17529988]\t286  \t12       \t26            \t0.0101776               \t247         \t0.697396\t[0.13458514 0.13529897 0.09804583]\t[0.69139966 0.69252389 0.70826307]\t[0.71655424 0.7207701  0.70952782]\n",
            "True     \t[0.69561551 0.69027544 0.70826307]\t[1.57115817 1.53158879 1.02897573]\t287  \t12       \t26            \t0.0101776               \t247         \t0.698051\t[0.13560462 0.13526654 0.09573221]\t[0.69561551 0.69027544 0.70826307]\t[0.71121417 0.71964587 0.71247892]\n",
            "True     \t[0.70404722 0.69786397 0.69533446]\t[1.53403664 1.53598309 0.97413206]\t288  \t12       \t26            \t0.0101776               \t247         \t0.699082\t[0.14432168 0.15200424 0.09413147]\t[0.70404722 0.69786397 0.69533446]\t[0.71557055 0.70910624 0.71950534]\n",
            "True     \t[0.69617763 0.69842608 0.70039348]\t[1.57053447 1.59616637 0.97973824]\t289  \t12       \t26            \t0.0101776               \t247         \t0.698332\t[0.13515878 0.13587451 0.09649396]\t[0.69617763 0.69842608 0.70039348]\t[0.71191681 0.71824058 0.71824058]\n",
            "False    \t[0.69364812 0.69842608 0.69955031]\t[1.77231264 1.73717952 1.10842395]\t290  \t12       \t26            \t0.0101776               \t247         \t0.697208\t[0.13575053 0.13610506 0.09439874]\t[0.69364812 0.69842608 0.69955031]\t[0.71852164 0.71374368 0.7158516 ]\n",
            "True     \t[0.70601461 0.68802698 0.70292299]\t[1.57417488 1.55512261 0.96869707]\t291  \t12       \t26            \t0.0101776               \t247         \t0.698988\t[0.13633776 0.13649344 0.09289765]\t[0.70601461 0.68802698 0.70292299]\t[0.71205734 0.71964587 0.71191681]\n",
            "False    \t[0.68802698 0.70123665 0.7054525 ]\t[1.73496413 1.75713825 1.11206865]\t292  \t12       \t26            \t0.0101776               \t247         \t0.698239\t[0.13560247 0.13685536 0.09641266]\t[0.68802698 0.70123665 0.7054525 ]\t[0.71725689 0.71557055 0.71514896]\n",
            "True     \t[0.68690275 0.70826307 0.70320405]\t[1.57242584 1.54945135 0.96637869]\t293  \t12       \t26            \t0.0101776               \t247         \t0.699457\t[0.13738441 0.13902807 0.09678006]\t[0.68690275 0.70826307 0.70320405]\t[0.72020798 0.71290051 0.71318156]\n",
            "False    \t[0.69617763 0.69252389 0.69421023]\t[1.75762749 1.73703027 1.11174369]\t294  \t12       \t26            \t0.0101776               \t247         \t0.694304\t[0.13606977 0.13718033 0.09441113]\t[0.69617763 0.69252389 0.69421023]\t[0.71641372 0.71725689 0.717819  ]\n",
            "True     \t[0.69645868 0.69814503 0.70910624]\t[1.5766046  1.52524638 0.9823668 ]\t295  \t12       \t26            \t0.0101776               \t247         \t0.701237\t[0.13790154 0.15574479 0.09396243]\t[0.69645868 0.69814503 0.70910624]\t[0.71290051 0.71557055 0.71430579]\n",
            "True     \t[0.69561551 0.69196178 0.69730185]\t[1.56786633 1.53651762 0.97573066]\t296  \t12       \t26            \t0.0101776               \t247         \t0.69496 \t[0.13927555 0.13839602 0.09601974]\t[0.69561551 0.69196178 0.69730185]\t[0.71725689 0.71093311 0.71725689]\n",
            "False    \t[0.70067454 0.69561551 0.70039348]\t[1.73715949 1.73980474 1.13207388]\t297  \t12       \t26            \t0.0101776               \t247         \t0.698895\t[0.13437605 0.13455129 0.1010859 ]\t[0.70067454 0.69561551 0.70039348]\t[0.71205734 0.71444632 0.7168353 ]\n",
            "False    \t[0.69421023 0.70798201 0.6950534 ]\t[1.76206827 1.75541854 1.11855102]\t298  \t12       \t26            \t0.0101776               \t247         \t0.699082\t[0.13946009 0.15124226 0.09479809]\t[0.69421023 0.70798201 0.6950534 ]\t[0.7148679  0.71318156 0.71008994]\n",
            "False    \t[0.69842608 0.70517144 0.69252389]\t[1.83005619 1.74673724 1.16072869]\t299  \t12       \t26            \t0.0101776               \t247         \t0.698707\t[0.13567972 0.13352251 0.10104156]\t[0.69842608 0.70517144 0.69252389]\t[0.71528949 0.71051152 0.71838111]\n",
            "False    \t[0.69477234 0.70207982 0.69645868]\t[1.78122902 1.71419239 1.11837864]\t300  \t12       \t26            \t0.0101776               \t247         \t0.69777 \t[0.1360209  0.13805461 0.09484482]\t[0.69477234 0.70207982 0.69645868]\t[0.71444632 0.717819   0.71711636]\n",
            "False    \t[0.70573356 0.68521641 0.69926925]\t[1.76757884 1.7591176  1.0857234 ]\t301  \t12       \t26            \t0.0101776               \t247         \t0.69674 \t[0.13651633 0.13623309 0.09649372]\t[0.70573356 0.68521641 0.69926925]\t[0.71079258 0.72273749 0.71219786]\n",
            "False    \t[0.69758291 0.69111861 0.70629567]\t[1.71203899 1.73091674 1.10118437]\t302  \t12       \t26            \t0.0101776               \t247         \t0.698332\t[0.15448308 0.13883495 0.09325552]\t[0.69758291 0.69111861 0.70629567]\t[0.71852164 0.7158516  0.7138842 ]\n",
            "False    \t[0.69224283 0.71135469 0.69477234]\t[1.73385024 1.79436803 1.10487509]\t303  \t12       \t26            \t0.0101776               \t247         \t0.699457\t[0.13501358 0.13682294 0.09256887]\t[0.69224283 0.71135469 0.69477234]\t[0.71613266 0.71318156 0.71936481]\n",
            "True     \t[0.71051152 0.6950534  0.69477234]\t[1.54686236 1.50887537 0.96891952]\t304  \t12       \t26            \t0.0101776               \t247         \t0.700112\t[0.13476753 0.13705444 0.09355354]\t[0.71051152 0.6950534  0.69477234]\t[0.71304103 0.72147274 0.71444632]\n",
            "True     \t[0.70432827 0.70489039 0.69083755]\t[1.54126263 1.52830982 0.95966983]\t305  \t12       \t26            \t0.0101776               \t247         \t0.700019\t[0.1340518  0.13385296 0.10097742]\t[0.70432827 0.70489039 0.69083755]\t[0.70980888 0.71219786 0.72020798]\n",
            "False    \t[0.70657673 0.68690275 0.70123665]\t[1.77078152 1.71288967 1.10427785]\t306  \t12       \t26            \t0.0101776               \t247         \t0.698239\t[0.13481164 0.15213704 0.09303236]\t[0.70657673 0.68690275 0.70123665]\t[0.71627319 0.71992693 0.71290051]\n",
            "True     \t[0.70489039 0.71275998 0.68353007]\t[1.54250765 1.53951645 0.95915675]\t307  \t12       \t26            \t0.0101776               \t247         \t0.700393\t[0.13729477 0.1382637  0.09279013]\t[0.70489039 0.71275998 0.68353007]\t[0.71599213 0.71261945 0.71894323]\n",
            "False    \t[0.69842608 0.68999438 0.68999438]\t[1.74229074 1.74509954 1.0969882 ]\t308  \t12       \t26            \t0.0101776               \t247         \t0.692805\t[0.13469505 0.1349082  0.09968138]\t[0.69842608 0.68999438 0.68999438]\t[0.7168353  0.72147274 0.71402473]\n",
            "False    \t[0.70011242 0.69196178 0.69758291]\t[1.72313619 1.74420643 1.13769579]\t309  \t12       \t26            \t0.0101776               \t247         \t0.696552\t[0.1427381  0.13705921 0.09491014]\t[0.70011242 0.69196178 0.69758291]\t[0.71290051 0.72203485 0.71247892]\n",
            "True     \t[0.70151771 0.69477234 0.70207982]\t[1.5603323  1.55667615 0.99978518]\t310  \t12       \t26            \t0.0101776               \t247         \t0.699457\t[0.13558578 0.1352632  0.09629297]\t[0.70151771 0.69477234 0.70207982]\t[0.7138842  0.71219786 0.71275998]\n",
            "True     \t[0.69730185 0.69196178 0.69673974]\t[1.55722594 1.52336311 0.95351529]\t311  \t12       \t26            \t0.0101776               \t247         \t0.695334\t[0.1366508  0.13665724 0.09467721]\t[0.69730185 0.69196178 0.69673974]\t[0.71711636 0.71444632 0.70713884]\n",
            "False    \t[0.6989882  0.68858909 0.70264193]\t[1.68752575 1.76129627 1.13300347]\t312  \t12       \t26            \t0.0101776               \t247         \t0.69674 \t[0.13454318 0.13719487 0.09261417]\t[0.6989882  0.68858909 0.70264193]\t[0.71472737 0.72386172 0.70882518]\n",
            "True     \t[0.69533446 0.70095559 0.7034851 ]\t[1.52018833 1.52178717 0.96125078]\t313  \t12       \t26            \t0.0101776               \t247         \t0.699925\t[0.1350708  0.13447094 0.09417725]\t[0.69533446 0.70095559 0.7034851 ]\t[0.71613266 0.71430579 0.71079258]\n",
            "False    \t[0.70123665 0.69983137 0.6950534 ]\t[1.73431015 1.7093606  1.14386106]\t314  \t12       \t26            \t0.0101776               \t247         \t0.698707\t[0.13561916 0.13506842 0.0953691 ]\t[0.70123665 0.69983137 0.6950534 ]\t[0.71725689 0.71669477 0.7138842 ]\n",
            "False    \t[0.70236088 0.68381113 0.69786397]\t[1.72447014 1.70722699 1.11910748]\t315  \t12       \t26            \t0.0101776               \t247         \t0.694679\t[0.13552642 0.13558531 0.09508467]\t[0.70236088 0.68381113 0.69786397]\t[0.71669477 0.71852164 0.71669477]\n",
            "False    \t[0.70039348 0.7054525  0.69617763]\t[1.73033309 1.73580289 1.12714291]\t316  \t12       \t26            \t0.0101776               \t247         \t0.700675\t[0.13570571 0.13607383 0.09252071]\t[0.70039348 0.7054525  0.69617763]\t[0.717819   0.7138842  0.71908375]\n",
            "False    \t[0.68409219 0.69786397 0.7054525 ]\t[1.69038057 1.77088165 1.13831043]\t317  \t12       \t26            \t0.0101776               \t247         \t0.695803\t[0.13462377 0.1359129  0.09240675]\t[0.68409219 0.69786397 0.7054525 ]\t[0.71992693 0.71908375 0.71528949]\n",
            "False    \t[0.69730185 0.69168072 0.7074199 ]\t[1.77636051 1.75136638 1.11737585]\t318  \t12       \t26            \t0.0101776               \t247         \t0.698801\t[0.13567495 0.13491678 0.09347773]\t[0.69730185 0.69168072 0.7074199 ]\t[0.71908375 0.71739741 0.71177628]\n",
            "False    \t[0.7034851  0.70067454 0.69111861]\t[1.719841   1.75295877 1.12030506]\t319  \t12       \t26            \t0.0101776               \t247         \t0.698426\t[0.13383484 0.13346529 0.09462237]\t[0.7034851  0.70067454 0.69111861]\t[0.71163575 0.7158516  0.71950534]\n",
            "True     \t[0.70404722 0.69758291 0.70713884]\t[1.52989697 1.52312446 0.99812102]\t320  \t12       \t26            \t0.0101776               \t247         \t0.702923\t[0.13909411 0.15566206 0.09453893]\t[0.70404722 0.69758291 0.70713884]\t[0.71655424 0.71275998 0.71430579]\n",
            "False    \t[0.61270377 0.61916807 0.61410905]\t[0.99373698 1.02377963 0.64701867]\t321  \t12       \t26            \t0.128128                \t247         \t0.615327\t[0.11031532 0.11121058 0.0729115 ]\t[0.61270377 0.61916807 0.61410905]\t[0.61509275 0.62703766 0.61649803]\n",
            "False    \t[0.69083755 0.69814503 0.70179876]\t[1.43918443 1.38697481 0.88413286]\t322  \t12       \t26            \t0.0101776               \t197         \t0.696927\t[0.10914183 0.10868955 0.07406688]\t[0.69083755 0.69814503 0.70179876]\t[0.71908375 0.71304103 0.7138842 ]\n",
            "False    \t[0.70236088 0.7034851  0.68802698]\t[1.70119476 1.75341916 1.10861421]\t323  \t12       \t26            \t0.0101776               \t247         \t0.697958\t[0.13405871 0.13459539 0.09236622]\t[0.70236088 0.7034851  0.68802698]\t[0.71543002 0.7168353  0.71641372]\n",
            "False    \t[0.69842608 0.693086   0.70067454]\t[1.76690078 1.73151088 1.12734556]\t324  \t12       \t26            \t0.0101776               \t247         \t0.697396\t[0.13707304 0.13662839 0.09251499]\t[0.69842608 0.693086   0.70067454]\t[0.71514896 0.71894323 0.71528949]\n",
            "False    \t[0.70123665 0.69645868 0.70601461]\t[1.73197031 1.74310017 1.10255146]\t325  \t12       \t26            \t0.0101776               \t247         \t0.701237\t[0.13698387 0.13712811 0.09753442]\t[0.70123665 0.69645868 0.70601461]\t[0.71557055 0.71852164 0.71402473]\n",
            "False    \t[0.70095559 0.69224283 0.69842608]\t[2.53329515 2.60951757 1.1433208 ]\t326  \t12       \t26            \t0.0101776               \t247         \t0.697208\t[0.1342113  0.13612032 0.09298134]\t[0.70095559 0.69224283 0.69842608]\t[0.71261945 0.71866217 0.71725689]\n",
            "False    \t[0.69449129 0.70432827 0.70236088]\t[1.70691204 1.70969844 1.14604378]\t327  \t12       \t26            \t0.0101776               \t247         \t0.700393\t[0.13961363 0.1554153  0.09539151]\t[0.69449129 0.70432827 0.70236088]\t[0.71543002 0.71500843 0.71922428]\n",
            "True     \t[0.69758291 0.69561551 0.70376616]\t[1.54404402 1.53776717 0.95743132]\t328  \t12       \t26            \t0.0101776               \t247         \t0.698988\t[0.13817978 0.13683057 0.09551525]\t[0.69758291 0.69561551 0.70376616]\t[0.71374368 0.71571107 0.71065205]\n",
            "False    \t[0.6970208  0.69589657 0.70236088]\t[1.74922538 1.72879672 1.07508826]\t329  \t12       \t26            \t0.0101776               \t247         \t0.698426\t[0.13421249 0.13400507 0.09409189]\t[0.6970208  0.69589657 0.70236088]\t[0.717819   0.71992693 0.71810006]\n",
            "False    \t[0.69842608 0.70573356 0.69168072]\t[1.69656706 1.79710841 1.15995884]\t330  \t12       \t26            \t0.0101776               \t247         \t0.698613\t[0.13742304 0.14823341 0.09597468]\t[0.69842608 0.70573356 0.69168072]\t[0.70882518 0.71121417 0.72119168]\n",
            "False    \t[0.69758291 0.70517144 0.68521641]\t[1.68656969 1.70942354 1.13711262]\t331  \t12       \t25            \t0.0101776               \t247         \t0.69599 \t[0.1345036  0.13732529 0.09493399]\t[0.69758291 0.70517144 0.68521641]\t[0.71500843 0.71261945 0.71416526]\n",
            "False    \t[0.70629567 0.68605958 0.70151771]\t[1.72466969 1.71051097 1.09336615]\t332  \t12       \t26            \t0.0101776               \t247         \t0.697958\t[0.1347816  0.13498831 0.09268999]\t[0.70629567 0.68605958 0.70151771]\t[0.71163575 0.7197864  0.71332209]\n",
            "False    \t[0.6846543  0.70601461 0.70517144]\t[1.73639512 1.71169686 1.08887506]\t333  \t12       \t26            \t0.0101776               \t247         \t0.698613\t[0.13455319 0.13451791 0.09302187]\t[0.6846543  0.70601461 0.70517144]\t[0.71950534 0.71514896 0.71191681]\n",
            "False    \t[0.69589657 0.69926925 0.69589657]\t[1.72316694 1.80268741 1.11013436]\t334  \t12       \t26            \t0.0101776               \t247         \t0.697021\t[0.135221   0.13537002 0.09272814]\t[0.69589657 0.69926925 0.69589657]\t[0.71711636 0.71360315 0.7148679 ]\n",
            "False    \t[0.70039348 0.69983137 0.69673974]\t[1.78177333 1.711097   1.12598777]\t335  \t12       \t26            \t0.0101776               \t247         \t0.698988\t[0.13636184 0.13492179 0.09333563]\t[0.70039348 0.69983137 0.69673974]\t[0.71669477 0.71430579 0.71599213]\n",
            "False    \t[0.69730185 0.70011242 0.69083755]\t[1.79780459 1.77294397 1.1418364 ]\t336  \t12       \t26            \t0.0101776               \t247         \t0.696084\t[0.13666654 0.13660455 0.09579086]\t[0.69730185 0.70011242 0.69083755]\t[0.71992693 0.71318156 0.71697583]\n",
            "False    \t[0.6989882  0.69336706 0.69786397]\t[1.73476791 1.73524404 1.13357735]\t337  \t12       \t26            \t0.0101776               \t247         \t0.69674 \t[0.1355629  0.13547683 0.09497762]\t[0.6989882  0.69336706 0.69786397]\t[0.7158516  0.71641372 0.71472737]\n",
            "False    \t[0.6989882  0.69786397 0.69477234]\t[1.7492795  1.7455008  1.11542296]\t338  \t12       \t26            \t0.0101776               \t247         \t0.697208\t[0.14159703 0.13961172 0.09369183]\t[0.6989882  0.69786397 0.69477234]\t[0.71093311 0.71613266 0.71739741]\n",
            "True     \t[0.70095559 0.70489039 0.69421023]\t[1.57004595 1.58136749 0.98677254]\t339  \t12       \t26            \t0.0101776               \t247         \t0.700019\t[0.14472604 0.15271854 0.09448552]\t[0.70095559 0.70489039 0.69421023]\t[0.71543002 0.70966835 0.71627319]\n",
            "False    \t[0.69983137 0.70460933 0.68943227]\t[1.75968289 1.76388407 1.13833046]\t340  \t12       \t26            \t0.0101776               \t247         \t0.697958\t[0.13604546 0.13642836 0.09376884]\t[0.69983137 0.70460933 0.68943227]\t[0.71908375 0.71079258 0.72175379]\n",
            "False    \t[0.69730185 0.6950534  0.70376616]\t[1.76236916 1.74959207 1.11177969]\t341  \t12       \t26            \t0.0101776               \t247         \t0.698707\t[0.13667107 0.13657951 0.09559131]\t[0.69730185 0.6950534  0.70376616]\t[0.71753794 0.71950534 0.71205734]\n",
            "False    \t[0.69955031 0.69421023 0.69027544]\t[1.72120929 1.7782352  1.10719109]\t342  \t12       \t26            \t0.0101776               \t247         \t0.694679\t[0.1361053  0.13446498 0.09320378]\t[0.69955031 0.69421023 0.69027544]\t[0.71458685 0.71627319 0.71908375]\n",
            "False    \t[0.69645868 0.70011242 0.69814503]\t[1.77508736 1.74084282 1.11409259]\t343  \t12       \t26            \t0.0101776               \t247         \t0.698239\t[0.13526893 0.13516045 0.09391665]\t[0.69645868 0.70011242 0.69814503]\t[0.71374368 0.71472737 0.71725689]\n",
            "False    \t[0.69224283 0.69730185 0.7034851 ]\t[1.79211521 1.85049462 1.17292857]\t344  \t12       \t31            \t0.0101776               \t247         \t0.697677\t[0.1378262  0.13809419 0.09726501]\t[0.69224283 0.69730185 0.7034851 ]\t[0.72203485 0.71697583 0.717819  ]\n",
            "False    \t[0.6989882  0.69758291 0.70067454]\t[1.7415061  1.79865098 1.11517501]\t345  \t12       \t26            \t0.0101776               \t247         \t0.699082\t[0.1532948  0.13966155 0.09370732]\t[0.6989882  0.69758291 0.70067454]\t[0.71627319 0.7148679  0.717819  ]\n",
            "False    \t[0.69730185 0.71163575 0.68774592]\t[1.70399237 1.75740981 1.12970901]\t346  \t12       \t26            \t0.0101776               \t247         \t0.698895\t[0.1335268  0.13552547 0.09300208]\t[0.69730185 0.71163575 0.68774592]\t[0.72062957 0.71107364 0.71697583]\n",
            "False    \t[0.69814503 0.68971332 0.70517144]\t[1.78772116 1.71370101 1.12136817]\t347  \t12       \t26            \t0.0101776               \t247         \t0.697677\t[0.15041947 0.13913321 0.09332085]\t[0.69814503 0.68971332 0.70517144]\t[0.71922428 0.71852164 0.71599213]\n",
            "False    \t[0.70236088 0.69617763 0.69955031]\t[1.71879244 1.74355555 1.09981823]\t348  \t12       \t26            \t0.0101776               \t247         \t0.699363\t[0.13322902 0.13469052 0.09442282]\t[0.70236088 0.69617763 0.69955031]\t[0.71627319 0.71655424 0.71852164]\n",
            "False    \t[0.68493536 0.70489039 0.69983137]\t[1.70069766 1.74461412 1.11322474]\t349  \t12       \t26            \t0.0101776               \t247         \t0.696552\t[0.13561058 0.13443398 0.09337544]\t[0.68493536 0.70489039 0.69983137]\t[0.7207701  0.7148679  0.71135469]\n",
            "False    \t[0.69758291 0.6970208  0.70095559]\t[1.78146052 1.77611375 1.1009357 ]\t350  \t12       \t26            \t0.0101776               \t247         \t0.69852 \t[0.13542891 0.13506317 0.09752727]\t[0.69758291 0.6970208  0.70095559]\t[0.7168353  0.71571107 0.71416526]\n",
            "False    \t[0.69673974 0.6989882  0.69589657]\t[1.17697334 1.19106627 0.76159692]\t351  \t12       \t26            \t0.0101776               \t165         \t0.697208\t[0.0905714  0.09156513 0.06317115]\t[0.69673974 0.6989882  0.69589657]\t[0.71824058 0.71360315 0.71163575]\n",
            "False    \t[0.6989882  0.69364812 0.70320405]\t[1.75197911 1.74421978 1.09774041]\t352  \t12       \t26            \t0.0101776               \t247         \t0.698613\t[0.13677502 0.13615608 0.09546328]\t[0.6989882  0.69364812 0.70320405]\t[0.71571107 0.72273749 0.71290051]\n",
            "True     \t[0.69955031 0.6970208  0.69955031]\t[0.83411169 0.83105421 0.5288744 ]\t353  \t12       \t26            \t0.0101776               \t133         \t0.698707\t[0.07419538 0.07431579 0.051898  ]\t[0.69955031 0.6970208  0.69955031]\t[0.71416526 0.71051152 0.71528949]\n",
            "False    \t[0.70966835 0.70011242 0.69083755]\t[1.75456834 1.77337456 1.12008381]\t354  \t12       \t26            \t0.0101776               \t247         \t0.700206\t[0.1364429  0.1354835  0.09409809]\t[0.70966835 0.70011242 0.69083755]\t[0.71416526 0.7188027  0.7197864 ]\n",
            "False    \t[0.70011242 0.6989882  0.70432827]\t[1.68966389 1.68118834 1.10398841]\t355  \t12       \t26            \t0.0157747               \t247         \t0.701143\t[0.13625789 0.13557458 0.09653926]\t[0.70011242 0.6989882  0.70432827]\t[0.71023047 0.71697583 0.71205734]\n",
            "True     \t[0.7034851  0.693086   0.70292299]\t[1.51525807 1.56449914 1.01702332]\t356  \t12       \t26            \t0.0101776               \t247         \t0.699831\t[0.13539052 0.13583446 0.09469938]\t[0.7034851  0.693086   0.70292299]\t[0.71557055 0.71753794 0.71318156]\n",
            "False    \t[0.70123665 0.68943227 0.70011242]\t[1.78301358 1.72382617 1.13955402]\t357  \t12       \t26            \t0.0101776               \t247         \t0.696927\t[0.13757873 0.13526368 0.09496379]\t[0.70123665 0.68943227 0.70011242]\t[0.71613266 0.71528949 0.71430579]\n",
            "False    \t[0.69730185 0.70179876 0.69589657]\t[1.74187541 1.76322961 1.11826158]\t358  \t12       \t26            \t0.0101776               \t247         \t0.698332\t[0.13753891 0.15777969 0.09568572]\t[0.69730185 0.70179876 0.69589657]\t[0.71697583 0.71023047 0.71627319]\n",
            "True     \t[0.69926925 0.69392917 0.69786397]\t[1.54087806 1.5680747  0.99115038]\t359  \t12       \t26            \t0.0101776               \t247         \t0.697021\t[0.13649607 0.13763022 0.09296536]\t[0.69926925 0.69392917 0.69786397]\t[0.70798201 0.71753794 0.70980888]\n",
            "False    \t[0.70264193 0.69617763 0.70123665]\t[1.7568469  1.75872374 1.11468744]\t360  \t12       \t26            \t0.0101776               \t247         \t0.700019\t[0.13520575 0.13576794 0.1007123 ]\t[0.70264193 0.69617763 0.70123665]\t[0.71627319 0.72217538 0.71008994]\n",
            "False    \t[0.6989882  0.70039348 0.67341203]\t[1.80615401 1.71032619 1.12492824]\t361  \t12       \t26            \t0.0101776               \t247         \t0.690931\t[0.13749552 0.13718319 0.09291005]\t[0.6989882  0.70039348 0.67341203]\t[0.71163575 0.7197864  0.71753794]\n",
            "False    \t[0.69758291 0.70517144 0.69168072]\t[1.72495317 1.77551866 1.10662365]\t362  \t12       \t26            \t0.0101776               \t247         \t0.698145\t[0.13599992 0.1361773  0.09222078]\t[0.69758291 0.70517144 0.69168072]\t[0.71767847 0.71613266 0.71894323]\n",
            "True     \t[0.68774592 0.70994941 0.7034851 ]\t[1.50701404 1.54269481 0.97026563]\t363  \t12       \t26            \t0.0101776               \t247         \t0.700393\t[0.1373229  0.13644338 0.10135746]\t[0.68774592 0.70994941 0.7034851 ]\t[0.7168353  0.71107364 0.71219786]\n",
            "False    \t[0.70573356 0.69814503 0.69392917]\t[1.7350347  1.69730663 1.12178469]\t364  \t12       \t26            \t0.0101776               \t247         \t0.699269\t[0.13555002 0.15258741 0.09363437]\t[0.70573356 0.69814503 0.69392917]\t[0.71065205 0.71093311 0.72119168]\n",
            "True     \t[0.69786397 0.69421023 0.69252389]\t[1.54475331 1.51767039 0.96108222]\t365  \t12       \t26            \t0.0101776               \t247         \t0.694866\t[0.13536286 0.13469148 0.09501648]\t[0.69786397 0.69421023 0.69252389]\t[0.71627319 0.71149522 0.71711636]\n",
            "False    \t[0.69336706 0.69758291 0.70039348]\t[1.71157742 1.71108794 1.13492179]\t366  \t12       \t26            \t0.0101776               \t247         \t0.697114\t[0.13462734 0.13438249 0.10042   ]\t[0.69336706 0.69758291 0.70039348]\t[0.72020798 0.71275998 0.71304103]\n",
            "False    \t[0.70264193 0.69617763 0.69083755]\t[1.76684809 1.72961164 1.10205817]\t367  \t12       \t26            \t0.0101776               \t247         \t0.696552\t[0.13608217 0.1350522  0.09403276]\t[0.70264193 0.69617763 0.69083755]\t[0.71402473 0.71739741 0.71219786]\n",
            "False    \t[0.69252389 0.6989882  0.69730185]\t[1.7668097  1.7415061  1.11873436]\t368  \t12       \t26            \t0.0101776               \t247         \t0.696271\t[0.1365633  0.13735986 0.10014009]\t[0.69252389 0.6989882  0.69730185]\t[0.72006745 0.71795953 0.71318156]\n",
            "False    \t[0.69617763 0.69786397 0.69027544]\t[1.72100735 1.7396307  1.09243894]\t369  \t12       \t26            \t0.0101776               \t247         \t0.694772\t[0.15188122 0.13603854 0.09408188]\t[0.69617763 0.69786397 0.69027544]\t[0.71599213 0.71950534 0.71191681]\n",
            "False    \t[0.62057336 0.64896009 0.60286678]\t[1.04589653 1.05752301 0.63721013]\t370  \t12       \t26            \t0.120272                \t247         \t0.624133\t[0.1135354  0.11426616 0.07419991]\t[0.62057336 0.64896009 0.60286678]\t[0.62141653 0.64671164 0.60370995]\n",
            "True     \t[0.70039348 0.70601461 0.69224283]\t[1.5455935  1.55252838 0.95665741]\t371  \t12       \t26            \t0.0101776               \t247         \t0.69955 \t[0.13559508 0.13640475 0.09381127]\t[0.70039348 0.70601461 0.69224283]\t[0.71500843 0.71472737 0.71824058]\n",
            "False    \t[0.69786397 0.70517144 0.69758291]\t[1.71696639 1.71953487 1.0810523 ]\t372  \t12       \t26            \t0.0101776               \t247         \t0.700206\t[0.1344676  0.14031649 0.09443784]\t[0.69786397 0.70517144 0.69758291]\t[0.71613266 0.71304103 0.72414278]\n"
          ]
        }
      ],
      "source": [
        "print(\"Parámetros y sus cv_scores in cada iteración:\")\n",
        "print(evolved_estimator.logbook)"
      ]
    },
    {
      "cell_type": "code",
      "execution_count": 343,
      "metadata": {
        "id": "4d6abe82",
        "outputId": "7c8be27f-029b-4e29-a3b4-bcd7c39853cc",
        "colab": {
          "base_uri": "https://localhost:8080/",
          "height": 864
        }
      },
      "outputs": [
        {
          "output_type": "display_data",
          "data": {
            "text/plain": [
              "<Figure size 864x864 with 42 Axes>"
            ],
            "image/png": "[encoded data removed]"
          },
          "metadata": {}
        }
      ],
      "source": [
        "import warnings\n",
        "warnings.filterwarnings('ignore')\n",
        "\n",
        "plot_search_space(evolved_estimator)\n",
        "plt.show()"
      ]
    },
    {
      "cell_type": "code",
      "execution_count": 344,
      "metadata": {
        "id": "08b01dd8",
        "outputId": "b8daa9e7-9898-4395-f16a-626e97e76dba",
        "colab": {
          "base_uri": "https://localhost:8080/"
        }
      },
      "outputs": [
        {
          "metadata": {
            "tags": null
          },
          "name": "stdout",
          "output_type": "stream",
          "text": [
            "Mejores k soluciones:\n",
            "{0: {'min_weight_fraction_leaf': 0.010177574417251091, 'bootstrap': True, 'max_depth': 30, 'max_leaf_nodes': 26, 'n_estimators': 241}, 1: {'min_weight_fraction_leaf': 0.010177574417251091, 'bootstrap': True, 'max_depth': 18, 'max_leaf_nodes': 26, 'n_estimators': 228}, 2: {'min_weight_fraction_leaf': 0.010177574417251091, 'bootstrap': True, 'max_depth': 18, 'max_leaf_nodes': 26, 'n_estimators': 247}, 3: {'min_weight_fraction_leaf': 0.010177574417251091, 'bootstrap': True, 'max_depth': 12, 'max_leaf_nodes': 26, 'n_estimators': 247}}\n"
          ]
        }
      ],
      "source": [
        "print(\"Mejores k soluciones:\")\n",
        "print(evolved_estimator.hof)"
      ]
    },
    {
      "cell_type": "code",
      "source": [
        "print('Precision:',precision_score(y_test, y_predicy_ga2))\n",
        "print('Recall:',recall_score(y_test,y_predicy_ga2))\n",
        "print('Accuracy:',accuracy_score(y_test,y_predicy_ga2))"
      ],
      "metadata": {
        "id": "TSiXG_ZAuxq-",
        "outputId": "19e045c4-80a0-4d38-e282-c766944170ba",
        "colab": {
          "base_uri": "https://localhost:8080/"
        }
      },
      "execution_count": 345,
      "outputs": [
        {
          "output_type": "stream",
          "name": "stdout",
          "text": [
            "Precision: 0.6330845771144279\n",
            "Recall: 0.5593406593406594\n",
            "Accuracy: 0.6834924965893588\n"
          ]
        }
      ]
    },
    {
      "cell_type": "code",
      "source": [
        "d4 = {'Modelo': ['Gen_HipP'], \n",
        "     'Precision': precision_score(y_test, y_predicy_ga2), \n",
        "     'Recall': recall_score(y_test, y_predicy_ga2),\n",
        "     'Accuracy': accuracy_score(y_test, y_predicy_ga2)}\n",
        "Resultados4 = pd.DataFrame(data=d4)\n",
        "\n",
        "Resultados = Resultados.append(Resultados4, ignore_index=True)\n",
        "Resultados"
      ],
      "metadata": {
        "outputId": "8e7094f0-7a42-42d6-e94c-caffc8b2f5b2",
        "colab": {
          "base_uri": "https://localhost:8080/",
          "height": 206
        },
        "id": "x0nunkP_uxq-"
      },
      "execution_count": 346,
      "outputs": [
        {
          "output_type": "execute_result",
          "data": {
            "text/plain": [
              "            Modelo  Precision    Recall  Accuracy\n",
              "0  Sistema_experto   0.616000  0.609097  0.689756\n",
              "1          Redes_1   0.695581  0.468062  0.685915\n",
              "2          Redes_2   0.000000  0.000000  0.573709\n",
              "3           Gen_FI   0.617059  0.576374  0.676671\n",
              "4         Gen_HipP   0.633085  0.559341  0.683492"
            ],
            "text/html": [
              "\n",
              "  <div id=\"df-0d9bad47-f1fb-481e-9d44-14dc7b0dad4e\">\n",
              "    <div class=\"colab-df-container\">\n",
              "      <div>\n",
              "<style scoped>\n",
              "    .dataframe tbody tr th:only-of-type {\n",
              "        vertical-align: middle;\n",
              "    }\n",
              "\n",
              "    .dataframe tbody tr th {\n",
              "        vertical-align: top;\n",
              "    }\n",
              "\n",
              "    .dataframe thead th {\n",
              "        text-align: right;\n",
              "    }\n",
              "</style>\n",
              "<table border=\"1\" class=\"dataframe\">\n",
              "  <thead>\n",
              "    <tr style=\"text-align: right;\">\n",
              "      <th></th>\n",
              "      <th>Modelo</th>\n",
              "      <th>Precision</th>\n",
              "      <th>Recall</th>\n",
              "      <th>Accuracy</th>\n",
              "    </tr>\n",
              "  </thead>\n",
              "  <tbody>\n",
              "    <tr>\n",
              "      <th>0</th>\n",
              "      <td>Sistema_experto</td>\n",
              "      <td>0.616000</td>\n",
              "      <td>0.609097</td>\n",
              "      <td>0.689756</td>\n",
              "    </tr>\n",
              "    <tr>\n",
              "      <th>1</th>\n",
              "      <td>Redes_1</td>\n",
              "      <td>0.695581</td>\n",
              "      <td>0.468062</td>\n",
              "      <td>0.685915</td>\n",
              "    </tr>\n",
              "    <tr>\n",
              "      <th>2</th>\n",
              "      <td>Redes_2</td>\n",
              "      <td>0.000000</td>\n",
              "      <td>0.000000</td>\n",
              "      <td>0.573709</td>\n",
              "    </tr>\n",
              "    <tr>\n",
              "      <th>3</th>\n",
              "      <td>Gen_FI</td>\n",
              "      <td>0.617059</td>\n",
              "      <td>0.576374</td>\n",
              "      <td>0.676671</td>\n",
              "    </tr>\n",
              "    <tr>\n",
              "      <th>4</th>\n",
              "      <td>Gen_HipP</td>\n",
              "      <td>0.633085</td>\n",
              "      <td>0.559341</td>\n",
              "      <td>0.683492</td>\n",
              "    </tr>\n",
              "  </tbody>\n",
              "</table>\n",
              "</div>\n",
              "      <button class=\"colab-df-convert\" onclick=\"convertToInteractive('df-0d9bad47-f1fb-481e-9d44-14dc7b0dad4e')\"\n",
              "              title=\"Convert this dataframe to an interactive table.\"\n",
              "              style=\"display:none;\">\n",
              "        \n",
              "  <svg xmlns=\"http://www.w3.org/2000/svg\" height=\"24px\"viewBox=\"0 0 24 24\"\n",
              "       width=\"24px\">\n",
              "    <path d=\"M0 0h24v24H0V0z\" fill=\"none\"/>\n",
              "    <path d=\"M18.56 5.44l.94 2.06.94-2.06 2.06-.94-2.06-.94-.94-2.06-.94 2.06-2.06.94zm-11 1L8.5 8.5l.94-2.06 2.06-.94-2.06-.94L8.5 2.5l-.94 2.06-2.06.94zm10 10l.94 2.06.94-2.06 2.06-.94-2.06-.94-.94-2.06-.94 2.06-2.06.94z\"/><path d=\"M17.41 7.96l-1.37-1.37c-.4-.4-.92-.59-1.43-.59-.52 0-1.04.2-1.43.59L10.3 9.45l-7.72 7.72c-.78.78-.78 2.05 0 2.83L4 21.41c.39.39.9.59 1.41.59.51 0 1.02-.2 1.41-.59l7.78-7.78 2.81-2.81c.8-.78.8-2.07 0-2.86zM5.41 20L4 18.59l7.72-7.72 1.47 1.35L5.41 20z\"/>\n",
              "  </svg>\n",
              "      </button>\n",
              "      \n",
              "  <style>\n",
              "    .colab-df-container {\n",
              "      display:flex;\n",
              "      flex-wrap:wrap;\n",
              "      gap: 12px;\n",
              "    }\n",
              "\n",
              "    .colab-df-convert {\n",
              "      background-color: #E8F0FE;\n",
              "      border: none;\n",
              "      border-radius: 50%;\n",
              "      cursor: pointer;\n",
              "      display: none;\n",
              "      fill: #1967D2;\n",
              "      height: 32px;\n",
              "      padding: 0 0 0 0;\n",
              "      width: 32px;\n",
              "    }\n",
              "\n",
              "    .colab-df-convert:hover {\n",
              "      background-color: #E2EBFA;\n",
              "      box-shadow: 0px 1px 2px rgba(60, 64, 67, 0.3), 0px 1px 3px 1px rgba(60, 64, 67, 0.15);\n",
              "      fill: #174EA6;\n",
              "    }\n",
              "\n",
              "    [theme=dark] .colab-df-convert {\n",
              "      background-color: #3B4455;\n",
              "      fill: #D2E3FC;\n",
              "    }\n",
              "\n",
              "    [theme=dark] .colab-df-convert:hover {\n",
              "      background-color: #434B5C;\n",
              "      box-shadow: 0px 1px 3px 1px rgba(0, 0, 0, 0.15);\n",
              "      filter: drop-shadow(0px 1px 2px rgba(0, 0, 0, 0.3));\n",
              "      fill: #FFFFFF;\n",
              "    }\n",
              "  </style>\n",
              "\n",
              "      <script>\n",
              "        const buttonEl =\n",
              "          document.querySelector('#df-0d9bad47-f1fb-481e-9d44-14dc7b0dad4e button.colab-df-convert');\n",
              "        buttonEl.style.display =\n",
              "          google.colab.kernel.accessAllowed ? 'block' : 'none';\n",
              "\n",
              "        async function convertToInteractive(key) {\n",
              "          const element = document.querySelector('#df-0d9bad47-f1fb-481e-9d44-14dc7b0dad4e');\n",
              "          const dataTable =\n",
              "            await google.colab.kernel.invokeFunction('convertToInteractive',\n",
              "                                                     [key], {});\n",
              "          if (!dataTable) return;\n",
              "\n",
              "          const docLinkHtml = 'Like what you see? Visit the ' +\n",
              "            '<a target=\"_blank\" href=https://colab.research.google.com/notebooks/data_table.ipynb>data table notebook</a>'\n",
              "            + ' to learn more about interactive tables.';\n",
              "          element.innerHTML = '';\n",
              "          dataTable['output_type'] = 'display_data';\n",
              "          await google.colab.output.renderOutput(dataTable, element);\n",
              "          const docLink = document.createElement('div');\n",
              "          docLink.innerHTML = docLinkHtml;\n",
              "          element.appendChild(docLink);\n",
              "        }\n",
              "      </script>\n",
              "    </div>\n",
              "  </div>\n",
              "  "
            ]
          },
          "metadata": {},
          "execution_count": 346
        }
      ]
    },
    {
      "cell_type": "markdown",
      "source": [
        "# <h1><strong>8.Red Neuronal entrenada con algoritmo geneticos.</strong></h1>\n"
      ],
      "metadata": {
        "id": "nPHperChVMFt"
      }
    },
    {
      "cell_type": "code",
      "source": [
        "import pandas as pd\n",
        "import numpy as np\n",
        "import random\n",
        "from sklearn.model_selection import train_test_split\n",
        "from sklearn.metrics import accuracy_score\n",
        "from keras.models import Sequential\n",
        "from keras.layers import Dense"
      ],
      "metadata": {
        "id": "g-Q0xZfklW1y"
      },
      "execution_count": 347,
      "outputs": []
    },
    {
      "cell_type": "code",
      "source": [
        "data = nyra_2019.copy()\n",
        "data = data.drop('jockey', axis=1)\n",
        "test=data[[\"race_date\", \"track_id\", \"race_number\"]].drop_duplicates().head(600)\n",
        "train=data[[\"race_date\", \"track_id\", \"race_number\"]].drop_duplicates().tail(1400)\n",
        "data['First_3'] = 0\n",
        "data.loc[data['position_at_finish'].between(0, 4, inclusive=False), 'First_3'] = 1\n",
        "# data.loc[data['position_at_finish'].between(4, 60, inclusive=True), 'First_3'] = 0\n",
        "#Traigo 70% de las carreras para train y el 30% para test\n",
        "data = data.drop(['unique_id', 'position_at_finish'], axis=1)\n",
        "data =  pd.get_dummies(data, columns=['track_condition', 'course_type', 'race_type', 'program_number'], dtype='float')\n",
        "data_F = data.copy()\n",
        "train=train.merge(data_F, on=['race_date','race_number','track_id'], how='left').sort_values(by=['race_date','track_id','race_number', 'odds'], ascending=True, na_position='first')\n",
        "test=test.merge(data_F, on=['race_date','race_number','track_id'], how='left').sort_values(by=['race_date','track_id','race_number', 'odds'], ascending=True, na_position='first')\n",
        "train = pd.get_dummies(train, columns=['track_id'], dtype='float')\n",
        "test = pd.get_dummies(test, columns=['track_id'], dtype='float')\n",
        "train = train.drop('race_date', axis=1)\n",
        "test = test.drop('race_date', axis=1)\n",
        "X_train, y_train = train.drop('First_3', axis=1), train['First_3']\n",
        "X_test, y_test = test.drop('First_3', axis=1), test['First_3']\n",
        "X_train = X_train[X_train.columns[features]]\n",
        "X_test = X_test[X_test.columns[features]]\n",
        "nl = X_train.shape[1]"
      ],
      "metadata": {
        "id": "28YhqI8hVdhS"
      },
      "execution_count": 348,
      "outputs": []
    },
    {
      "cell_type": "code",
      "source": [
        "# Se define la clase de la red genetica.\n",
        "class GeneticNeuralNetwork(Sequential):\n",
        "    def __init__(self, child_weights=None): #Si los pesos no son informados se generan 'random'\n",
        "        super().__init__()\n",
        "        if child_weights is None:\n",
        "            # Los 'Layers' se crean 'random', definiendo funcion de activación sigmoide.\n",
        "            # se agregan los 'Layers' al modelo.\n",
        "            layer1 = Dense(nl, input_shape=(nl,), activation='sigmoid')\n",
        "            layer2 = Dense(2, activation='sigmoid')\n",
        "            layer3 = Dense(1, activation='sigmoid')\n",
        "            self.add(layer1)\n",
        "            self.add(layer2)\n",
        "            self.add(layer3)\n",
        "        # Si los pesos son informados, se establecen al modelo.\n",
        "        else:\n",
        "            self.add(\n",
        "                Dense(\n",
        "                    nl,\n",
        "                    input_shape=(nl,),\n",
        "                    activation='sigmoid',\n",
        "                    weights=[child_weights[0], np.zeros(nl)])\n",
        "                )\n",
        "            self.add(\n",
        "                Dense(\n",
        "                 2,\n",
        "                 activation='sigmoid',\n",
        "                 weights=[child_weights[1], np.zeros(2)])\n",
        "            )\n",
        "            self.add(\n",
        "                Dense(\n",
        "                 1,\n",
        "                 activation='sigmoid',\n",
        "                 weights=[child_weights[2], np.zeros(1)])\n",
        "            )\n",
        "\n",
        "    # Función de forward propagation\n",
        "    def forward_propagation(self, X_train, y_train):\n",
        "        y_hat = self.predict(X_train.values)\n",
        "        # Se define el precision como funcion de fitness.\n",
        "        self.fitness = precision_score(y_train, y_hat.round())\n",
        "    # Backpropagation\n",
        "    def compile_train(self, epochs):\n",
        "        self.compile(\n",
        "                      optimizer='rmsprop',\n",
        "                      loss='binary_crossentropy',\n",
        "                      metrics=['accuracy']\n",
        "                      )\n",
        "        self.fit(X_train.values, y_train.values, epochs=epochs)\n",
        "\n",
        "# Mutación.\n",
        "def mutation(child_weights):\n",
        "    selection = random.randint(0, len(child_weights)-1)\n",
        "    mut = random.uniform(0, 1)\n",
        "    if mut >= .5:\n",
        "        child_weights[selection] *= random.randint(2, 5)\n",
        "    else:\n",
        "        # No mutation\n",
        "        pass\n",
        "# Cruses entre dos redes geneticas.\n",
        "def dynamic_crossover(nn1, nn2):\n",
        "    nn1_weights = []\n",
        "    nn2_weights = []\n",
        "    child_weights = []\n",
        "    #obtener pesos.\n",
        "    for layer in nn1.layers:\n",
        "        nn1_weights.append(layer.get_weights()[0])\n",
        "    for layer in nn2.layers:\n",
        "        nn2_weights.append(layer.get_weights()[0])\n",
        "\n",
        "    # Se obtienen todos los pesos de la capas para crossover.\n",
        "    for i in range(0, len(nn1_weights)):\n",
        "        split = random.randint(0, np.shape(nn1_weights[i])[1]-1)\n",
        "        for j in range(split, np.shape(nn1_weights[i])[1]-1):\n",
        "            nn1_weights[i][:, j] = nn2_weights[i][:, j]\n",
        "\n",
        "        # Se añaden los pesos a los hijos.\n",
        "        child_weights.append(nn1_weights[i])\n",
        "\n",
        "    mutation(child_weights)\n",
        "\n",
        "    child = GeneticNeuralNetwork(child_weights)\n",
        "    return child"
      ],
      "metadata": {
        "id": "qzkKhxbab8XP"
      },
      "execution_count": 349,
      "outputs": []
    },
    {
      "cell_type": "code",
      "source": [
        "# Crear lista para al redes, generaciones y se define 20 como population.\n",
        "networks = []\n",
        "pool = []\n",
        "generation = 0\n",
        "n = 20\n",
        "# Se inicializan los pesos aleatoriamente.\n",
        "for i in range(0, n):\n",
        "    networks.append(GeneticNeuralNetwork())\n",
        "max_fitness = 0\n",
        "optimal_weights = []\n",
        "# Loop evolutivo\n",
        "while max_fitness < .7:\n",
        "    # Registro de la generación.\n",
        "    generation += 1\n",
        "    print('Generation: ', generation)\n",
        "    # Forward propagation, con base en el accuracy.(function fitness)\n",
        "    for nn in networks:\n",
        "        nn.forward_propagation(X_train, y_train)\n",
        "        # Se agrega al pool.\n",
        "        pool.append(nn)\n",
        "    # Se limpia para los proximos hijos\n",
        "    networks.clear()\n",
        "    # Organiza basado en el fitness.\n",
        "    pool = sorted(pool, key=lambda x: x.fitness)\n",
        "    pool.reverse()\n",
        "    # Encuentra el maximo fitness y el registro con pesos asociados.\n",
        "    for i in range(0, len(pool)):\n",
        "        if pool[i].fitness > max_fitness:\n",
        "            max_fitness = pool[i].fitness\n",
        "            print('Max Fitness: ', max_fitness)\n",
        "            # Reset optimal_weights\n",
        "            optimal_weights = []\n",
        "            # Encuentra el maximo fitness y el registro con pesos asociados.\n",
        "            for layer in pool[i].layers:\n",
        "                optimal_weights.append(layer.get_weights()[0])\n",
        "            print(optimal_weights)\n",
        "\n",
        "    # Crossover, Seleccion del top 5 aleatoriamente selecciona 2 patrones para el hijo.\n",
        "    for i in range(0, 5):\n",
        "        for j in range(0, 2):\n",
        "            # Se crea un hijo y se agrega a las redes\n",
        "            temp = dynamic_crossover(pool[i], random.choice(pool))\n",
        "            # Se agrega la red para validar fitness\n",
        "            networks.append(temp)\n",
        "# Se crea una red con los pesos optimos obtenidos.\n",
        "gnn = GeneticNeuralNetwork(optimal_weights)\n",
        "gnn.compile_train(10)"
      ],
      "metadata": {
        "id": "TNEIEq1Vpg8h",
        "outputId": "f267193b-bbd5-48de-e542-016f89393075",
        "colab": {
          "base_uri": "https://localhost:8080/"
        }
      },
      "execution_count": 350,
      "outputs": [
        {
          "output_type": "stream",
          "name": "stdout",
          "text": [
            "Generation:  1\n",
            "334/334 [==============================] - 1s 2ms/step\n",
            "334/334 [==============================] - 1s 1ms/step\n",
            "334/334 [==============================] - 1s 1ms/step\n",
            "334/334 [==============================] - 0s 1ms/step\n",
            "334/334 [==============================] - 1s 1ms/step\n",
            "334/334 [==============================] - 0s 1ms/step\n",
            "334/334 [==============================] - 0s 1ms/step\n",
            "334/334 [==============================] - 1s 1ms/step\n",
            "334/334 [==============================] - 1s 1ms/step\n",
            "334/334 [==============================] - 0s 1ms/step\n",
            "334/334 [==============================] - 1s 1ms/step\n",
            "334/334 [==============================] - 1s 1ms/step\n",
            "334/334 [==============================] - 1s 1ms/step\n",
            "334/334 [==============================] - 1s 1ms/step\n",
            "334/334 [==============================] - 1s 1ms/step\n",
            "334/334 [==============================] - 0s 1ms/step\n",
            "334/334 [==============================] - 0s 1ms/step\n",
            "334/334 [==============================] - 1s 1ms/step\n",
            "334/334 [==============================] - 1s 1ms/step\n",
            "334/334 [==============================] - 0s 1ms/step\n",
            "Max Fitness:  0.43232060527249083\n",
            "[array([[ 0.08391461, -0.1064512 , -0.07886967, ..., -0.13855205,\n",
            "        -0.26572242,  0.15627122],\n",
            "       [ 0.19882804,  0.01942438, -0.24969101, ..., -0.19988272,\n",
            "        -0.17263669, -0.10089915],\n",
            "       [ 0.100867  , -0.20730808,  0.16859552, ...,  0.2701479 ,\n",
            "        -0.13360815, -0.25351578],\n",
            "       ...,\n",
            "       [ 0.05113178, -0.24975029,  0.03735924, ..., -0.10198687,\n",
            "        -0.00153971, -0.15952872],\n",
            "       [-0.27326173, -0.08335136, -0.23680712, ..., -0.22572526,\n",
            "         0.17645141, -0.07584335],\n",
            "       [ 0.17598611, -0.16157585, -0.01664925, ..., -0.12360087,\n",
            "        -0.23717557, -0.28052133]], dtype=float32), array([[-0.30246225,  0.35740668],\n",
            "       [-0.25331777, -0.28532705],\n",
            "       [ 0.17171079,  0.02837932],\n",
            "       [ 0.14281106, -0.00852418],\n",
            "       [-0.07532361,  0.14844716],\n",
            "       [ 0.3571422 , -0.22269721],\n",
            "       [ 0.3570615 , -0.17045072],\n",
            "       [-0.0325247 ,  0.07713956],\n",
            "       [-0.1148648 , -0.18135801],\n",
            "       [-0.28559318,  0.16411269],\n",
            "       [-0.37899807,  0.10474572],\n",
            "       [-0.19318444,  0.02702829],\n",
            "       [ 0.23103905,  0.0057821 ],\n",
            "       [ 0.020634  ,  0.00067776],\n",
            "       [ 0.3770972 , -0.16445662],\n",
            "       [ 0.15150827, -0.12877807],\n",
            "       [-0.30485207,  0.36314076],\n",
            "       [ 0.2439968 ,  0.15156037],\n",
            "       [-0.16845822, -0.15651463],\n",
            "       [ 0.31247622,  0.04221967],\n",
            "       [-0.16196328,  0.11321986],\n",
            "       [ 0.02465954, -0.34896377],\n",
            "       [ 0.1300543 , -0.1280173 ],\n",
            "       [-0.06059754, -0.0046984 ],\n",
            "       [ 0.15467072, -0.27925482],\n",
            "       [-0.03167132,  0.16809958],\n",
            "       [ 0.22837055, -0.16249497],\n",
            "       [ 0.04305255,  0.10637531],\n",
            "       [ 0.32385904, -0.2213775 ],\n",
            "       [-0.06721327, -0.31173372],\n",
            "       [ 0.11865604,  0.04246241],\n",
            "       [-0.2853758 ,  0.14069247],\n",
            "       [ 0.08767352, -0.11103356],\n",
            "       [ 0.0109373 , -0.06035247],\n",
            "       [-0.381253  ,  0.06964493],\n",
            "       [ 0.2704422 , -0.07503217],\n",
            "       [ 0.2670331 ,  0.24802804],\n",
            "       [-0.04240084,  0.0233101 ]], dtype=float32), array([[ 0.4669385 ],\n",
            "       [-0.38543093]], dtype=float32)]\n",
            "Generation:  2\n",
            "334/334 [==============================] - 1s 1ms/step\n",
            "334/334 [==============================] - 1s 1ms/step\n",
            "334/334 [==============================] - 0s 1ms/step\n",
            "334/334 [==============================] - 1s 1ms/step\n",
            "334/334 [==============================] - 1s 1ms/step\n",
            "334/334 [==============================] - 1s 1ms/step\n",
            "334/334 [==============================] - 1s 1ms/step\n",
            "334/334 [==============================] - 1s 1ms/step\n",
            "334/334 [==============================] - 1s 1ms/step\n",
            "334/334 [==============================] - 1s 1ms/step\n",
            "Max Fitness:  0.45384511420462226\n",
            "[array([[ 0.08391461, -0.1064512 , -0.07886967, ..., -0.13855205,\n",
            "        -0.27523047,  0.15627122],\n",
            "       [ 0.19882804,  0.01942438, -0.24969101, ..., -0.19988272,\n",
            "         0.21954337, -0.10089915],\n",
            "       [ 0.100867  , -0.20730808,  0.16859552, ...,  0.2701479 ,\n",
            "         0.19623023, -0.25351578],\n",
            "       ...,\n",
            "       [ 0.05113178, -0.24975029,  0.03735924, ..., -0.10198687,\n",
            "         0.26185367, -0.15952872],\n",
            "       [-0.27326173, -0.08335136, -0.23680712, ..., -0.22572526,\n",
            "        -0.04535158, -0.07584335],\n",
            "       [ 0.17598611, -0.16157585, -0.01664925, ..., -0.12360087,\n",
            "        -0.06370009, -0.28052133]], dtype=float32), array([[-1.209849  ,  1.4296267 ],\n",
            "       [-1.0132711 , -1.1413082 ],\n",
            "       [ 0.68684316,  0.11351728],\n",
            "       [ 0.57124424, -0.03409672],\n",
            "       [-0.30129445,  0.5937886 ],\n",
            "       [ 1.4285688 , -0.89078885],\n",
            "       [ 1.428246  , -0.68180287],\n",
            "       [-0.13009882,  0.30855823],\n",
            "       [-0.4594592 , -0.72543204],\n",
            "       [-1.1423727 ,  0.65645075],\n",
            "       [-1.5159923 ,  0.41898286],\n",
            "       [-0.77273774,  0.10811317],\n",
            "       [ 0.9241562 ,  0.02312839],\n",
            "       [ 0.08253598,  0.00271106],\n",
            "       [ 1.5083888 , -0.6578265 ],\n",
            "       [ 0.6060331 , -0.5151123 ],\n",
            "       [-1.2194083 ,  1.452563  ],\n",
            "       [ 0.9759872 ,  0.60624146],\n",
            "       [-0.6738329 , -0.6260585 ],\n",
            "       [ 1.2499049 ,  0.16887867],\n",
            "       [-0.64785314,  0.45287943],\n",
            "       [ 0.09863818, -1.3958551 ],\n",
            "       [ 0.5202172 , -0.5120692 ],\n",
            "       [-0.24239016, -0.01879358],\n",
            "       [ 0.61868286, -1.1170193 ],\n",
            "       [-0.12668526,  0.6723983 ],\n",
            "       [ 0.9134822 , -0.6499799 ],\n",
            "       [ 0.17221022,  0.42550123],\n",
            "       [ 1.2954361 , -0.88551   ],\n",
            "       [-0.26885307, -1.2469349 ],\n",
            "       [ 0.47462416,  0.16984963],\n",
            "       [-1.1415032 ,  0.5627699 ],\n",
            "       [ 0.35069406, -0.44413424],\n",
            "       [ 0.04374921, -0.2414099 ],\n",
            "       [-1.525012  ,  0.2785797 ],\n",
            "       [ 1.0817688 , -0.3001287 ],\n",
            "       [ 1.0681324 ,  0.99211216],\n",
            "       [-0.16960335,  0.09324038]], dtype=float32), array([[ 0.4669385 ],\n",
            "       [-0.38543093]], dtype=float32)]\n",
            "Generation:  3\n",
            "334/334 [==============================] - 0s 1ms/step\n",
            "334/334 [==============================] - 1s 1ms/step\n",
            "334/334 [==============================] - 1s 1ms/step\n",
            "334/334 [==============================] - 1s 1ms/step\n",
            "334/334 [==============================] - 1s 1ms/step\n",
            "334/334 [==============================] - 1s 1ms/step\n",
            "334/334 [==============================] - 0s 1ms/step\n",
            "334/334 [==============================] - 1s 1ms/step\n",
            "334/334 [==============================] - 1s 1ms/step\n",
            "334/334 [==============================] - 1s 1ms/step\n",
            "Max Fitness:  0.5605483625285606\n",
            "[array([[-0.61789644,  0.58843434, -0.4979679 , ...,  0.10179052,\n",
            "        -0.00297964,  0.4118207 ],\n",
            "       [ 0.8717109 , -1.1341101 ,  0.02912879, ..., -0.14887667,\n",
            "        -0.17678839, -1.2938429 ],\n",
            "       [-1.2225296 ,  0.69969666,  1.3843913 , ..., -0.18893284,\n",
            "        -0.16955844,  0.7625142 ],\n",
            "       ...,\n",
            "       [-0.4578142 , -1.3006545 ,  0.5059488 , ..., -0.1617732 ,\n",
            "         0.06189486,  1.1814772 ],\n",
            "       [-0.9120324 , -0.26137257,  0.15076563, ...,  0.04588321,\n",
            "         0.0415532 ,  1.28906   ],\n",
            "       [-0.53853965, -1.3350832 ,  0.01148671, ..., -0.14320704,\n",
            "         0.08708057,  0.9313576 ]], dtype=float32), array([[-0.9664698 , -0.43765917],\n",
            "       [ 0.25753444,  0.5780069 ],\n",
            "       [ 0.9554756 , -0.1445252 ],\n",
            "       [-0.8549105 , -1.0611119 ],\n",
            "       [ 0.50827056, -0.25143287],\n",
            "       [ 0.52969676,  0.35606378],\n",
            "       [-0.9292495 ,  0.7808524 ],\n",
            "       [ 0.01576477,  0.41449946],\n",
            "       [-0.7543756 , -0.9596627 ],\n",
            "       [-0.5907999 ,  0.74549675],\n",
            "       [-1.0541899 , -0.21120134],\n",
            "       [-1.0108973 , -0.9088768 ],\n",
            "       [-0.16054487, -0.8169583 ],\n",
            "       [ 1.1427305 ,  0.12662217],\n",
            "       [ 0.6864715 ,  0.75099957],\n",
            "       [ 1.0530837 , -0.5667135 ],\n",
            "       [ 0.85713047,  0.8184893 ],\n",
            "       [ 0.73636115, -0.45605922],\n",
            "       [ 0.31977832, -0.23638692],\n",
            "       [-1.1207918 , -1.0679909 ],\n",
            "       [-0.6331903 ,  0.5044738 ],\n",
            "       [ 0.5265845 , -0.18813854],\n",
            "       [ 0.12547168, -1.0542212 ],\n",
            "       [ 0.1562148 ,  0.07991678],\n",
            "       [-0.87914926,  1.0420496 ],\n",
            "       [ 0.2930046 ,  0.23812804],\n",
            "       [ 0.63007593,  0.19553599],\n",
            "       [ 0.2956692 , -0.2304089 ],\n",
            "       [-0.6791909 ,  0.7612406 ],\n",
            "       [-0.9506505 ,  0.1355424 ],\n",
            "       [-0.1359078 ,  0.8364279 ],\n",
            "       [-0.96698034,  0.4743147 ],\n",
            "       [-0.37504524, -0.6632751 ],\n",
            "       [-0.7173819 ,  0.79268163],\n",
            "       [ 0.07920948, -0.5531807 ],\n",
            "       [ 0.62762046,  0.35519278],\n",
            "       [-1.067689  ,  0.50331473],\n",
            "       [ 0.4765885 ,  0.55447376]], dtype=float32), array([[ 1.4098457],\n",
            "       [-0.5498289]], dtype=float32)]\n",
            "Generation:  4\n",
            "334/334 [==============================] - 1s 1ms/step\n",
            "334/334 [==============================] - 1s 1ms/step\n",
            "334/334 [==============================] - 0s 1ms/step\n",
            "334/334 [==============================] - 1s 1ms/step\n",
            "334/334 [==============================] - 1s 1ms/step\n",
            "334/334 [==============================] - 1s 1ms/step\n",
            "334/334 [==============================] - 0s 1ms/step\n",
            "334/334 [==============================] - 1s 1ms/step\n",
            "334/334 [==============================] - 0s 1ms/step\n",
            "334/334 [==============================] - 1s 1ms/step\n",
            "Max Fitness:  1.0\n",
            "[array([[ 0.08391461, -0.1064512 , -0.07886967, ...,  0.5675094 ,\n",
            "        -0.34635216,  0.15627122],\n",
            "       [ 0.19882804,  0.01942438, -0.24969101, ..., -1.1755437 ,\n",
            "        -0.31617695, -0.10089915],\n",
            "       [ 0.100867  , -0.20730808,  0.16859552, ...,  0.8160272 ,\n",
            "         1.0962104 , -0.25351578],\n",
            "       ...,\n",
            "       [ 0.05113178, -0.24975029,  0.03735924, ...,  0.59170246,\n",
            "        -0.8505876 , -0.15952872],\n",
            "       [-0.27326173, -0.08335136, -0.23680712, ..., -0.05979642,\n",
            "        -0.54693377, -0.07584335],\n",
            "       [ 0.17598611, -0.16157585, -0.01664925, ..., -1.3968084 ,\n",
            "         0.24314865, -0.28052133]], dtype=float32), array([[-8.71825218e-02,  1.42962670e+00],\n",
            "       [ 4.34361398e-02, -1.14130819e+00],\n",
            "       [-3.73420805e-01,  1.13517284e-01],\n",
            "       [-3.09442878e-01, -3.40967178e-02],\n",
            "       [-2.12663189e-01,  5.93788624e-01],\n",
            "       [-2.05309018e-01, -8.90788853e-01],\n",
            "       [-2.32771501e-01, -6.81802869e-01],\n",
            "       [ 1.51910782e-01,  3.08558226e-01],\n",
            "       [ 1.28815591e-01, -7.25432038e-01],\n",
            "       [-6.60077035e-02,  6.56450748e-01],\n",
            "       [-2.11932406e-01,  4.18982863e-01],\n",
            "       [-2.85248578e-01,  1.08113170e-01],\n",
            "       [ 6.10861182e-03,  2.31283903e-02],\n",
            "       [ 2.49438524e-01,  2.71105766e-03],\n",
            "       [-3.56234312e-02, -6.57826483e-01],\n",
            "       [-3.01947922e-01, -5.15112281e-01],\n",
            "       [-1.41245514e-01,  1.45256305e+00],\n",
            "       [-2.81198382e-01,  6.06241465e-01],\n",
            "       [-4.41512167e-02, -6.26058519e-01],\n",
            "       [ 2.72940755e-01,  1.68878675e-01],\n",
            "       [ 1.29873037e-01,  4.52879429e-01],\n",
            "       [-1.91776350e-01, -1.39585507e+00],\n",
            "       [-3.86207819e-01, -5.12069225e-01],\n",
            "       [-1.43315792e-02, -1.87935829e-02],\n",
            "       [-5.79933226e-02, -1.11701930e+00],\n",
            "       [-3.77639681e-01,  6.72398329e-01],\n",
            "       [-2.56821215e-01, -6.49979889e-01],\n",
            "       [ 2.94694424e-01,  4.25501227e-01],\n",
            "       [-3.06584716e-01, -8.85510027e-01],\n",
            "       [ 5.43135107e-02, -1.24693489e+00],\n",
            "       [-1.44763649e-01,  1.69849634e-01],\n",
            "       [-1.46576539e-01,  5.62769890e-01],\n",
            "       [-5.68316877e-02, -4.44134235e-01],\n",
            "       [-2.57349670e-01, -2.41409898e-01],\n",
            "       [-1.26307279e-01,  2.78579712e-01],\n",
            "       [-2.06738710e-04, -3.00128698e-01],\n",
            "       [ 3.71700883e-01,  9.92112160e-01],\n",
            "       [ 2.80820191e-01,  9.32403803e-02]], dtype=float32), array([[ 0.4669385 ],\n",
            "       [-0.38543093]], dtype=float32)]\n",
            "Epoch 1/10\n",
            "334/334 [==============================] - 1s 2ms/step - loss: 0.6380 - accuracy: 0.6496\n",
            "Epoch 2/10\n",
            "334/334 [==============================] - 1s 2ms/step - loss: 0.6069 - accuracy: 0.6965\n",
            "Epoch 3/10\n",
            "334/334 [==============================] - 1s 2ms/step - loss: 0.5949 - accuracy: 0.6994\n",
            "Epoch 4/10\n",
            "334/334 [==============================] - 1s 2ms/step - loss: 0.5889 - accuracy: 0.7013\n",
            "Epoch 5/10\n",
            "334/334 [==============================] - 1s 2ms/step - loss: 0.5862 - accuracy: 0.7022\n",
            "Epoch 6/10\n",
            "334/334 [==============================] - 1s 2ms/step - loss: 0.5839 - accuracy: 0.7026\n",
            "Epoch 7/10\n",
            "334/334 [==============================] - 1s 2ms/step - loss: 0.5817 - accuracy: 0.7018\n",
            "Epoch 8/10\n",
            "334/334 [==============================] - 1s 2ms/step - loss: 0.5800 - accuracy: 0.7015\n",
            "Epoch 9/10\n",
            "334/334 [==============================] - 1s 2ms/step - loss: 0.5794 - accuracy: 0.7005\n",
            "Epoch 10/10\n",
            "334/334 [==============================] - 1s 2ms/step - loss: 0.5775 - accuracy: 0.7026\n"
          ]
        }
      ]
    },
    {
      "cell_type": "code",
      "source": [
        "# Test the Genetic Neural Network Out of Sample\n",
        "y_hat = gnn.predict(X_test.values)\n",
        "#print('Test Accuracy: %.2f' % accuracy_score(y_test, y_hat.round()))"
      ],
      "metadata": {
        "id": "T29XZCJelccH",
        "outputId": "9ca9ebf3-c137-49f4-a3fa-01a0d6f26d15",
        "colab": {
          "base_uri": "https://localhost:8080/"
        }
      },
      "execution_count": 351,
      "outputs": [
        {
          "output_type": "stream",
          "name": "stdout",
          "text": [
            "138/138 [==============================] - 0s 1ms/step\n"
          ]
        }
      ]
    },
    {
      "cell_type": "code",
      "source": [
        "print('Precision:',precision_score(y_test, y_hat.round()))\n",
        "print('Recall:',recall_score(y_test,y_hat.round()))\n",
        "print('Accuracy:',accuracy_score(y_test,y_hat.round()))"
      ],
      "metadata": {
        "id": "dilyzNzZvIco",
        "outputId": "02dbaf1e-8547-452a-ac4c-0ce60563e25a",
        "colab": {
          "base_uri": "https://localhost:8080/"
        }
      },
      "execution_count": 353,
      "outputs": [
        {
          "output_type": "stream",
          "name": "stdout",
          "text": [
            "Precision: 0.6311526479750779\n",
            "Recall: 0.5565934065934066\n",
            "Accuracy: 0.6819008640291041\n"
          ]
        }
      ]
    },
    {
      "cell_type": "code",
      "source": [
        "d5 = {'Modelo': ['Gen_Red'], \n",
        "     'Precision': precision_score(y_test, y_hat.round()), \n",
        "     'Recall': recall_score(y_test, y_hat.round()),\n",
        "     'Accuracy': accuracy_score(y_test, y_hat.round())}\n",
        "Resultados5 = pd.DataFrame(data=d5)\n",
        "\n",
        "Resultados = Resultados.append(Resultados5, ignore_index=True)\n",
        "Resultados"
      ],
      "metadata": {
        "outputId": "fffff867-d237-4cd0-a2fd-964fc43bc11a",
        "colab": {
          "base_uri": "https://localhost:8080/",
          "height": 238
        },
        "id": "LSay2ch9vIco"
      },
      "execution_count": 356,
      "outputs": [
        {
          "output_type": "execute_result",
          "data": {
            "text/plain": [
              "            Modelo  Precision    Recall  Accuracy\n",
              "0  Sistema_experto   0.616000  0.609097  0.689756\n",
              "1          Redes_1   0.695581  0.468062  0.685915\n",
              "2          Redes_2   0.000000  0.000000  0.573709\n",
              "3           Gen_FI   0.617059  0.576374  0.676671\n",
              "4         Gen_HipP   0.633085  0.559341  0.683492\n",
              "5          Gen_Red   0.631153  0.556593  0.681901"
            ],
            "text/html": [
              "\n",
              "  <div id=\"df-ffac0741-d079-4f7a-b167-bd13dbf43250\">\n",
              "    <div class=\"colab-df-container\">\n",
              "      <div>\n",
              "<style scoped>\n",
              "    .dataframe tbody tr th:only-of-type {\n",
              "        vertical-align: middle;\n",
              "    }\n",
              "\n",
              "    .dataframe tbody tr th {\n",
              "        vertical-align: top;\n",
              "    }\n",
              "\n",
              "    .dataframe thead th {\n",
              "        text-align: right;\n",
              "    }\n",
              "</style>\n",
              "<table border=\"1\" class=\"dataframe\">\n",
              "  <thead>\n",
              "    <tr style=\"text-align: right;\">\n",
              "      <th></th>\n",
              "      <th>Modelo</th>\n",
              "      <th>Precision</th>\n",
              "      <th>Recall</th>\n",
              "      <th>Accuracy</th>\n",
              "    </tr>\n",
              "  </thead>\n",
              "  <tbody>\n",
              "    <tr>\n",
              "      <th>0</th>\n",
              "      <td>Sistema_experto</td>\n",
              "      <td>0.616000</td>\n",
              "      <td>0.609097</td>\n",
              "      <td>0.689756</td>\n",
              "    </tr>\n",
              "    <tr>\n",
              "      <th>1</th>\n",
              "      <td>Redes_1</td>\n",
              "      <td>0.695581</td>\n",
              "      <td>0.468062</td>\n",
              "      <td>0.685915</td>\n",
              "    </tr>\n",
              "    <tr>\n",
              "      <th>2</th>\n",
              "      <td>Redes_2</td>\n",
              "      <td>0.000000</td>\n",
              "      <td>0.000000</td>\n",
              "      <td>0.573709</td>\n",
              "    </tr>\n",
              "    <tr>\n",
              "      <th>3</th>\n",
              "      <td>Gen_FI</td>\n",
              "      <td>0.617059</td>\n",
              "      <td>0.576374</td>\n",
              "      <td>0.676671</td>\n",
              "    </tr>\n",
              "    <tr>\n",
              "      <th>4</th>\n",
              "      <td>Gen_HipP</td>\n",
              "      <td>0.633085</td>\n",
              "      <td>0.559341</td>\n",
              "      <td>0.683492</td>\n",
              "    </tr>\n",
              "    <tr>\n",
              "      <th>5</th>\n",
              "      <td>Gen_Red</td>\n",
              "      <td>0.631153</td>\n",
              "      <td>0.556593</td>\n",
              "      <td>0.681901</td>\n",
              "    </tr>\n",
              "  </tbody>\n",
              "</table>\n",
              "</div>\n",
              "      <button class=\"colab-df-convert\" onclick=\"convertToInteractive('df-ffac0741-d079-4f7a-b167-bd13dbf43250')\"\n",
              "              title=\"Convert this dataframe to an interactive table.\"\n",
              "              style=\"display:none;\">\n",
              "        \n",
              "  <svg xmlns=\"http://www.w3.org/2000/svg\" height=\"24px\"viewBox=\"0 0 24 24\"\n",
              "       width=\"24px\">\n",
              "    <path d=\"M0 0h24v24H0V0z\" fill=\"none\"/>\n",
              "    <path d=\"M18.56 5.44l.94 2.06.94-2.06 2.06-.94-2.06-.94-.94-2.06-.94 2.06-2.06.94zm-11 1L8.5 8.5l.94-2.06 2.06-.94-2.06-.94L8.5 2.5l-.94 2.06-2.06.94zm10 10l.94 2.06.94-2.06 2.06-.94-2.06-.94-.94-2.06-.94 2.06-2.06.94z\"/><path d=\"M17.41 7.96l-1.37-1.37c-.4-.4-.92-.59-1.43-.59-.52 0-1.04.2-1.43.59L10.3 9.45l-7.72 7.72c-.78.78-.78 2.05 0 2.83L4 21.41c.39.39.9.59 1.41.59.51 0 1.02-.2 1.41-.59l7.78-7.78 2.81-2.81c.8-.78.8-2.07 0-2.86zM5.41 20L4 18.59l7.72-7.72 1.47 1.35L5.41 20z\"/>\n",
              "  </svg>\n",
              "      </button>\n",
              "      \n",
              "  <style>\n",
              "    .colab-df-container {\n",
              "      display:flex;\n",
              "      flex-wrap:wrap;\n",
              "      gap: 12px;\n",
              "    }\n",
              "\n",
              "    .colab-df-convert {\n",
              "      background-color: #E8F0FE;\n",
              "      border: none;\n",
              "      border-radius: 50%;\n",
              "      cursor: pointer;\n",
              "      display: none;\n",
              "      fill: #1967D2;\n",
              "      height: 32px;\n",
              "      padding: 0 0 0 0;\n",
              "      width: 32px;\n",
              "    }\n",
              "\n",
              "    .colab-df-convert:hover {\n",
              "      background-color: #E2EBFA;\n",
              "      box-shadow: 0px 1px 2px rgba(60, 64, 67, 0.3), 0px 1px 3px 1px rgba(60, 64, 67, 0.15);\n",
              "      fill: #174EA6;\n",
              "    }\n",
              "\n",
              "    [theme=dark] .colab-df-convert {\n",
              "      background-color: #3B4455;\n",
              "      fill: #D2E3FC;\n",
              "    }\n",
              "\n",
              "    [theme=dark] .colab-df-convert:hover {\n",
              "      background-color: #434B5C;\n",
              "      box-shadow: 0px 1px 3px 1px rgba(0, 0, 0, 0.15);\n",
              "      filter: drop-shadow(0px 1px 2px rgba(0, 0, 0, 0.3));\n",
              "      fill: #FFFFFF;\n",
              "    }\n",
              "  </style>\n",
              "\n",
              "      <script>\n",
              "        const buttonEl =\n",
              "          document.querySelector('#df-ffac0741-d079-4f7a-b167-bd13dbf43250 button.colab-df-convert');\n",
              "        buttonEl.style.display =\n",
              "          google.colab.kernel.accessAllowed ? 'block' : 'none';\n",
              "\n",
              "        async function convertToInteractive(key) {\n",
              "          const element = document.querySelector('#df-ffac0741-d079-4f7a-b167-bd13dbf43250');\n",
              "          const dataTable =\n",
              "            await google.colab.kernel.invokeFunction('convertToInteractive',\n",
              "                                                     [key], {});\n",
              "          if (!dataTable) return;\n",
              "\n",
              "          const docLinkHtml = 'Like what you see? Visit the ' +\n",
              "            '<a target=\"_blank\" href=https://colab.research.google.com/notebooks/data_table.ipynb>data table notebook</a>'\n",
              "            + ' to learn more about interactive tables.';\n",
              "          element.innerHTML = '';\n",
              "          dataTable['output_type'] = 'display_data';\n",
              "          await google.colab.output.renderOutput(dataTable, element);\n",
              "          const docLink = document.createElement('div');\n",
              "          docLink.innerHTML = docLinkHtml;\n",
              "          element.appendChild(docLink);\n",
              "        }\n",
              "      </script>\n",
              "    </div>\n",
              "  </div>\n",
              "  "
            ]
          },
          "metadata": {},
          "execution_count": 356
        }
      ]
    }
  ]
}