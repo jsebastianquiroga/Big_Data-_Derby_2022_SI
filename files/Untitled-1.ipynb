{
 "cells": [
  {
   "cell_type": "code",
   "execution_count": null,
   "metadata": {},
   "outputs": [],
   "source": []
  }
 ],
 "metadata": {
  "kernelspec": {
   "display_name": "Python 3.9.7 ('base')",
   "language": "python",
   "name": "python3"
  },
  "language_info": {
   "name": "python",
   "version": "3.9.7"
  },
  "orig_nbformat": 4,
  "vscode": {
   "interpreter": {
    "hash": "cd918554fd86c8fa71df5e97543f72a20c78ad3ae14e3e0b29aa7e96c0f0504e"
   }
  }
 },
 "nbformat": 4,
 "nbformat_minor": 2
}
